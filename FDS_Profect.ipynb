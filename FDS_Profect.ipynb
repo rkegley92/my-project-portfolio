{
  "cells": [
    {
      "cell_type": "code",
      "source": [
        "# import libraries for data manipulation\n",
        "import numpy as np\n",
        "import pandas as pd\n",
        "\n",
        "# import libraries for data visualization\n",
        "import matplotlib.pyplot as plt\n",
        "import seaborn as sns\n"
      ],
      "metadata": {},
      "outputs": [],
      "execution_count": null
    },
    {
      "cell_type": "code",
      "source": [
        "# read the data\n",
        "df = pd.read_csv('foodhub_order.csv')\n",
        "\n",
        "# returns the first 5 rows\n",
        "df.head()\n"
      ],
      "metadata": {},
      "outputs": [],
      "execution_count": null
    },
    {
      "cell_type": "code",
      "source": [
        "# Find number of rows and columns\n",
        "df.shape\n"
      ],
      "metadata": {},
      "outputs": [],
      "execution_count": null
    },
    {
      "cell_type": "code",
      "source": [
        "(1898, 9)"
      ],
      "metadata": {},
      "outputs": [],
      "execution_count": null
    },
    {
      "cell_type": "code",
      "source": [
        "# Use info() to print a concise summary of the DataFrame\n",
        "df.info()\n"
      ],
      "metadata": {},
      "outputs": [],
      "execution_count": null
    },
    {
      "cell_type": "code",
      "source": [
        "<class 'pandas.core.frame.DataFrame'>\n",
        "RangeIndex: 1898 entries, 0 to 1897\n",
        "Data columns (total 9 columns):\n",
        " #   Column                 Non-Null Count  Dtype  \n",
        "---  ------                 --------------  -----  \n",
        " 0   order_id               1898 non-null   int64  \n",
        " 1   customer_id            1898 non-null   int64  \n",
        " 2   restaurant_name        1898 non-null   object \n",
        " 3   cuisine_type           1898 non-null   object \n",
        " 4   cost_of_the_order      1898 non-null   float64\n",
        " 5   day_of_the_week        1898 non-null   object \n",
        " 6   rating                 1898 non-null   object \n",
        " 7   food_preparation_time  1898 non-null   int64  \n",
        " 8   delivery_time          1898 non-null   int64  \n",
        "dtypes: float64(1), int64(4), object(4)\n",
        "memory usage: 133.6+ KB\n"
      ],
      "metadata": {},
      "outputs": [],
      "execution_count": null
    },
    {
      "cell_type": "code",
      "source": [
        "#Summary of data\n",
        "df.info()\n",
        "\n",
        "#Checking for any missing values and summing them up for each row\n",
        "missing_data = df.isnull().sum()\n",
        "print(missing_data)\n"
      ],
      "metadata": {},
      "outputs": [],
      "execution_count": null
    },
    {
      "cell_type": "code",
      "source": [
        "<class 'pandas.core.frame.DataFrame'>\n",
        "RangeIndex: 1898 entries, 0 to 1897\n",
        "Data columns (total 9 columns):\n",
        " #   Column                 Non-Null Count  Dtype  \n",
        "---  ------                 --------------  -----  \n",
        " 0   order_id               1898 non-null   int64  \n",
        " 1   customer_id            1898 non-null   int64  \n",
        " 2   restaurant_name        1898 non-null   object \n",
        " 3   cuisine_type           1898 non-null   object \n",
        " 4   cost_of_the_order      1898 non-null   float64\n",
        " 5   day_of_the_week        1898 non-null   object \n",
        " 6   rating                 1898 non-null   object \n",
        " 7   food_preparation_time  1898 non-null   int64  \n",
        " 8   delivery_time          1898 non-null   int64  \n",
        "dtypes: float64(1), int64(4), object(4)\n",
        "memory usage: 133.6+ KB\n",
        "order_id                 0\n",
        "customer_id              0\n",
        "restaurant_name          0\n",
        "cuisine_type             0\n",
        "cost_of_the_order        0\n",
        "day_of_the_week          0\n",
        "rating                   0\n",
        "food_preparation_time    0\n",
        "delivery_time            0\n",
        "dtype: int64\n"
      ],
      "metadata": {},
      "outputs": [],
      "execution_count": null
    },
    {
      "cell_type": "code",
      "source": [
        "#statistical summary of the data including min, max,and mean. Transposed for ease of reading\n",
        "df.describe(include='all').T\n"
      ],
      "metadata": {},
      "outputs": [],
      "execution_count": null
    },
    {
      "cell_type": "code",
      "source": [
        "#summary of data for the column rating\n",
        "df['rating'].describe(include='all').T\n"
      ],
      "metadata": {},
      "outputs": [],
      "execution_count": null
    },
    {
      "cell_type": "code",
      "source": [
        "count          1898\n",
        "unique            4\n",
        "top       Not given\n",
        "freq            736\n",
        "Name: rating, dtype: object"
      ],
      "metadata": {},
      "outputs": [],
      "execution_count": null
    },
    {
      "cell_type": "code",
      "source": [
        "#Loop through the colums in the dataset\n",
        "for column in df.columns:\n",
        "    if column == 'cuisine_type': #bar graph of cuisine types to see how frequent they appear\n",
        "        sns.countplot(data=df, x='cuisine_type')\n",
        "        plt.xticks(rotation=90);\n",
        "        plt.show()\n",
        "    elif column == 'cost_of_the_order': #histogram to see what prices are most common\n",
        "        sns.histplot(data=df, x='cost_of_the_order', kde=True)\n",
        "        plt.xticks(rotation=90);\n",
        "        plt.show()\n",
        "    elif column == 'day_of_the_week': #bar graph to see popularity of weekdat/weekend orders\n",
        "        sns.countplot(data=df, x='day_of_the_week')\n",
        "        plt.show()\n",
        "    elif column == 'rating': #histogram to see what the most common rating is\n",
        "        sns.histplot(data=df, x='rating')\n",
        "        plt.show()\n",
        "    elif column == 'food_preparation_time': #histogram to get a better idea of the common order times\n",
        "        sns.histplot(data=df, x='food_preparation_time')\n",
        "        plt.show()\n",
        "    elif column == 'delivery_time': #box plot to see common delivery times and how skewed the data is with it\n",
        "        sns.boxplot(data=df, x='delivery_time')\n",
        "        plt.show()\n"
      ],
      "metadata": {},
      "outputs": [],
      "execution_count": null
    },
    {
      "cell_type": "code",
      "source": [
        "#counting the top 5 restaurants based on number of orders received\n",
        "df['restaurant_name'].value_counts().head(5)\n"
      ],
      "metadata": {},
      "outputs": [],
      "execution_count": null
    },
    {
      "cell_type": "code",
      "source": [
        "Shake Shack                  219\n",
        "The Meatball Shop            132\n",
        "Blue Ribbon Sushi            119\n",
        "Blue Ribbon Fried Chicken     96\n",
        "Parm                          68\n",
        "Name: restaurant_name, dtype: int64"
      ],
      "metadata": {},
      "outputs": [],
      "execution_count": null
    },
    {
      "cell_type": "code",
      "source": [
        "#sorting out the weekend from the data for analysis\n",
        "df_weekend_popular = df[df['day_of_the_week'] == 'Weekend']\n",
        "\n",
        "#finding the most popular cuisine on weekends from previous sorted data\n",
        "df_weekend_popular['cuisine_type'].value_counts()\n"
      ],
      "metadata": {},
      "outputs": [],
      "execution_count": null
    },
    {
      "cell_type": "code",
      "source": [
        "American          415\n",
        "Japanese          335\n",
        "Italian           207\n",
        "Chinese           163\n",
        "Mexican            53\n",
        "Indian             49\n",
        "Mediterranean      32\n",
        "Middle Eastern     32\n",
        "Thai               15\n",
        "French             13\n",
        "Korean             11\n",
        "Southern           11\n",
        "Spanish            11\n",
        "Vietnamese          4\n",
        "Name: cuisine_type, dtype: int64"
      ],
      "metadata": {},
      "outputs": [],
      "execution_count": null
    },
    {
      "cell_type": "code",
      "source": [
        "#saving the rows of the data to a variable\n",
        "total = df.shape[0]\n",
        "\n",
        "#sorting out the cost_of_the_order data that is above $20 and adding them together\n",
        "above_20 = (df['cost_of_the_order']>20).sum()\n",
        "\n",
        "#finding the percentage of orders that are above $20 \n",
        "percentage_above_20 = round((above_20/total)*100,2)\n",
        "print('The percentage above $20:', str(percentage_above_20) +'%')\n"
      ],
      "metadata": {},
      "outputs": [],
      "execution_count": null
    },
    {
      "cell_type": "code",
      "source": [
        "The percentage above $20: 29.24%\n"
      ],
      "metadata": {},
      "outputs": [],
      "execution_count": null
    },
    {
      "cell_type": "code",
      "source": [
        "#sorting out delivery times and finding the mean \n",
        "mean_delivery = round(df['delivery_time'].mean(),2)\n",
        "print('The mean delivery time is:', mean_delivery, 'minutes') \n"
      ],
      "metadata": {},
      "outputs": [],
      "execution_count": null
    },
    {
      "cell_type": "code",
      "source": [
        "The mean delivery time is: 24.16 minutes\n"
      ],
      "metadata": {},
      "outputs": [],
      "execution_count": null
    },
    {
      "cell_type": "code",
      "source": [
        "#sorting the customer_id and finding the top 3 most frequent customers\n",
        "df['customer_id'].value_counts().head(3)\n"
      ],
      "metadata": {},
      "outputs": [],
      "execution_count": null
    },
    {
      "cell_type": "code",
      "source": [
        "52832    13\n",
        "47440    10\n",
        "83287     9\n",
        "Name: customer_id, dtype: int64"
      ],
      "metadata": {},
      "outputs": [],
      "execution_count": null
    },
    {
      "cell_type": "code",
      "source": [
        "#comparing cuising type vs. the cost of the order\n",
        "sns.boxplot(data=df, x='cuisine_type', y='cost_of_the_order')\n",
        "plt.xticks(rotation=90);\n",
        "plt.show()\n",
        "\n",
        "#comparing the cuisine type vs. rating\n",
        "df['rating'] = pd.to_numeric(df['rating'], errors='coerce') \n",
        "df.dropna(subset=['rating'], inplace=True) \n",
        "sns.pointplot(data=df, x='cuisine_type', y='rating')\n",
        "plt.xticks(rotation=90)\n",
        "plt.show()\n",
        "\n",
        "#comparing the rating vs. prep time\n",
        "sns.pointplot(data=df, x='food_preparation_time', y='rating')\n",
        "plt.show()\n",
        "\n",
        "#comparing day of the week vs. delivery time\n",
        "sns.boxplot(data=df, x='day_of_the_week', y='delivery_time')\n",
        "plt.show()\n",
        "\n",
        "# comparing the rating vs. cost of the order\n",
        "sns.boxplot(data=df, x='rating', y='cost_of_the_order')\n",
        "plt.show()\n"
      ],
      "metadata": {},
      "outputs": [],
      "execution_count": null
    },
    {
      "cell_type": "code",
      "source": [
        "#excluding rows where rating is not given\n",
        "df_rate = df[df['rating'] != 'Not given'].copy()\n",
        "\n",
        "#converting rating column to numeric\n",
        "df_rate['rating'] = pd.to_numeric(df_rate['rating'], errors='coerce')\n",
        "\n",
        "#dropping any Nan values from the conversion\n",
        "df_rate.dropna(subset=['rating'], inplace=True)\n",
        "\n",
        "#group by 'restaurant_name' to get the rating count and reset the index to make it a DataFrame\n",
        "rating_count = df_rate.groupby('restaurant_name')['rating'].count().reset_index(name='rating_count')\n",
        "\n",
        "#group by 'restaurant_name' to get the average rating and reset the index to make it a DataFrame\n",
        "average_rating = df_rate.groupby('restaurant_name')['rating'].mean().reset_index(name='average_rating')\n",
        "\n",
        "#merge the two DataFrames on 'restaurant_name'\n",
        "summary = rating_count.merge(average_rating, on='restaurant_name')\n",
        "\n",
        "#filter for rating more than 50 and average more than 4\n",
        "eligible_restaurants = summary[(summary['rating_count'] > 50) & (summary['average_rating'] > 4)]\n",
        "\n",
        "print(eligible_restaurants)\n"
      ],
      "metadata": {},
      "outputs": [],
      "execution_count": null
    },
    {
      "cell_type": "code",
      "source": [
        "               restaurant_name  rating_count  average_rating\n",
        "16   Blue Ribbon Fried Chicken            64        4.328125\n",
        "17           Blue Ribbon Sushi            73        4.219178\n",
        "117                Shake Shack           133        4.278195\n",
        "132          The Meatball Shop            84        4.511905\n"
      ],
      "metadata": {},
      "outputs": [],
      "execution_count": null
    },
    {
      "cell_type": "code",
      "source": [
        "#function for finding revenue\n",
        "def revenue(i):\n",
        "    if i > 20:          #taking 25% from orders greater than $20\n",
        "        return i * 0.25 \n",
        "    elif i > 5:         #taking 15% from orders greater than $5\n",
        "        return i * 0.15\n",
        "    else:               #taking none from orders not within those parameters \n",
        "        return i * 0\n",
        "\n",
        "total = df['cost_of_the_order'].apply(revenue).sum() #summing up the amount from the defined function\n",
        "print('The total revenue generated is:',round(total,2), 'dollars')\n",
        "        \n"
      ],
      "metadata": {},
      "outputs": [],
      "execution_count": null
    },
    {
      "cell_type": "code",
      "source": [
        "The total revenue generated is: 3865.57 dollars\n"
      ],
      "metadata": {},
      "outputs": [],
      "execution_count": null
    },
    {
      "cell_type": "code",
      "source": [
        "#taking the rows of the data and saving to a variable\n",
        "total_orders = df.shape[0]\n",
        "#combining food prep time and delivery time\n",
        "df['total_time'] = df['food_preparation_time'] + df['delivery_time']\n",
        "#counting how many take longer than 60 mintues\n",
        "df_greater_60 = (df['total_time'] > 60).sum()\n",
        "#finding what percent takes longer than 60 minutes\n",
        "percent_greater_60 = (df_greater_60/total_orders)*100\n",
        "print('The percent that takes longer than 60 minutes is:',str(round(percent_greater_60,2))+'%')\n"
      ],
      "metadata": {},
      "outputs": [],
      "execution_count": null
    },
    {
      "cell_type": "code",
      "source": [
        "The percent that takes longer than 60 minutes is: 10.24%\n"
      ],
      "metadata": {},
      "outputs": [],
      "execution_count": null
    },
    {
      "cell_type": "code",
      "source": [
        "#mean of the weekday delivery time\n",
        "weekday_mean = round(df[df['day_of_the_week'] == 'Weekday']['delivery_time'].mean())\n",
        "print('The mean delivery time on the weekday is', weekday_mean,'minutes')\n",
        "\n",
        "#mean of the weekend delivery time\n",
        "weekend_mean = round(df[df['day_of_the_week'] == 'Weekend']['delivery_time'].mean())\n",
        "print('The mean delivery time on the weekend is', weekend_mean,'minutes')\n",
        "\n",
        "#percent difference between the weekday and weekend delivery time\n",
        "percent_difference = (weekday_mean-weekend_mean)/((weekday_mean+weekend_mean)/2) *100\n",
        "print('The percent difference between the two is', str(percent_difference)+'%')\n"
      ],
      "metadata": {},
      "outputs": [],
      "execution_count": null
    },
    {
      "cell_type": "code",
      "source": [
        "The mean delivery time on the weekday is 28 minutes\n",
        "The mean delivery time on the weekend is 22 minutes\n",
        "The percent difference between the two is 24.0%\n"
      ],
      "metadata": {},
      "outputs": [],
      "execution_count": null
    },
    {
      "cell_type": "code",
      "source": [
        " \n"
      ],
      "metadata": {},
      "outputs": [],
      "execution_count": null
    }
  ],
  "metadata": {},
  "nbformat": 4,
  "nbformat_minor": 4
}