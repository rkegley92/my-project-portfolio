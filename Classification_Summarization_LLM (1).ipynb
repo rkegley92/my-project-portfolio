{
  "nbformat": 4,
  "nbformat_minor": 0,
  "metadata": {
    "colab": {
      "provenance": [],
      "machine_shape": "hm"
    },
    "kernelspec": {
      "name": "python3",
      "display_name": "Python 3"
    },
    "language_info": {
      "name": "python"
    },
    "widgets": {
      "application/vnd.jupyter.widget-state+json": {
        "3e6242b80fce4777ad4ea3ff5c73298b": {
          "model_module": "@jupyter-widgets/controls",
          "model_name": "HBoxModel",
          "model_module_version": "1.5.0",
          "state": {
            "_dom_classes": [],
            "_model_module": "@jupyter-widgets/controls",
            "_model_module_version": "1.5.0",
            "_model_name": "HBoxModel",
            "_view_count": null,
            "_view_module": "@jupyter-widgets/controls",
            "_view_module_version": "1.5.0",
            "_view_name": "HBoxView",
            "box_style": "",
            "children": [
              "IPY_MODEL_7a482f40481d4fa18849c2e50b53ddbd",
              "IPY_MODEL_fdb31193395848678fbb01ff2c2feebe",
              "IPY_MODEL_52e768ddab3942fb870ed815078be939"
            ],
            "layout": "IPY_MODEL_15023e6eee8440c6a6705f87dc0113ef"
          }
        },
        "7a482f40481d4fa18849c2e50b53ddbd": {
          "model_module": "@jupyter-widgets/controls",
          "model_name": "HTMLModel",
          "model_module_version": "1.5.0",
          "state": {
            "_dom_classes": [],
            "_model_module": "@jupyter-widgets/controls",
            "_model_module_version": "1.5.0",
            "_model_name": "HTMLModel",
            "_view_count": null,
            "_view_module": "@jupyter-widgets/controls",
            "_view_module_version": "1.5.0",
            "_view_name": "HTMLView",
            "description": "",
            "description_tooltip": null,
            "layout": "IPY_MODEL_5b2c69df2cb74f1fb26da1ed1f3e0b63",
            "placeholder": "​",
            "style": "IPY_MODEL_962c8a6fc1be456fb2300aad543b5be6",
            "value": "tokenizer_config.json: 100%"
          }
        },
        "fdb31193395848678fbb01ff2c2feebe": {
          "model_module": "@jupyter-widgets/controls",
          "model_name": "FloatProgressModel",
          "model_module_version": "1.5.0",
          "state": {
            "_dom_classes": [],
            "_model_module": "@jupyter-widgets/controls",
            "_model_module_version": "1.5.0",
            "_model_name": "FloatProgressModel",
            "_view_count": null,
            "_view_module": "@jupyter-widgets/controls",
            "_view_module_version": "1.5.0",
            "_view_name": "ProgressView",
            "bar_style": "success",
            "description": "",
            "description_tooltip": null,
            "layout": "IPY_MODEL_b6cba277bf844f8a8fe13a8ff602bbf8",
            "max": 48,
            "min": 0,
            "orientation": "horizontal",
            "style": "IPY_MODEL_5a1cff60e18e44ae91ec95af2a5c8af6",
            "value": 48
          }
        },
        "52e768ddab3942fb870ed815078be939": {
          "model_module": "@jupyter-widgets/controls",
          "model_name": "HTMLModel",
          "model_module_version": "1.5.0",
          "state": {
            "_dom_classes": [],
            "_model_module": "@jupyter-widgets/controls",
            "_model_module_version": "1.5.0",
            "_model_name": "HTMLModel",
            "_view_count": null,
            "_view_module": "@jupyter-widgets/controls",
            "_view_module_version": "1.5.0",
            "_view_name": "HTMLView",
            "description": "",
            "description_tooltip": null,
            "layout": "IPY_MODEL_6f077309014d447b930d305d7a0968f5",
            "placeholder": "​",
            "style": "IPY_MODEL_6be031543af844aeb8d6c19dafd1dbb1",
            "value": " 48.0/48.0 [00:00&lt;00:00, 3.78kB/s]"
          }
        },
        "15023e6eee8440c6a6705f87dc0113ef": {
          "model_module": "@jupyter-widgets/base",
          "model_name": "LayoutModel",
          "model_module_version": "1.2.0",
          "state": {
            "_model_module": "@jupyter-widgets/base",
            "_model_module_version": "1.2.0",
            "_model_name": "LayoutModel",
            "_view_count": null,
            "_view_module": "@jupyter-widgets/base",
            "_view_module_version": "1.2.0",
            "_view_name": "LayoutView",
            "align_content": null,
            "align_items": null,
            "align_self": null,
            "border": null,
            "bottom": null,
            "display": null,
            "flex": null,
            "flex_flow": null,
            "grid_area": null,
            "grid_auto_columns": null,
            "grid_auto_flow": null,
            "grid_auto_rows": null,
            "grid_column": null,
            "grid_gap": null,
            "grid_row": null,
            "grid_template_areas": null,
            "grid_template_columns": null,
            "grid_template_rows": null,
            "height": null,
            "justify_content": null,
            "justify_items": null,
            "left": null,
            "margin": null,
            "max_height": null,
            "max_width": null,
            "min_height": null,
            "min_width": null,
            "object_fit": null,
            "object_position": null,
            "order": null,
            "overflow": null,
            "overflow_x": null,
            "overflow_y": null,
            "padding": null,
            "right": null,
            "top": null,
            "visibility": null,
            "width": null
          }
        },
        "5b2c69df2cb74f1fb26da1ed1f3e0b63": {
          "model_module": "@jupyter-widgets/base",
          "model_name": "LayoutModel",
          "model_module_version": "1.2.0",
          "state": {
            "_model_module": "@jupyter-widgets/base",
            "_model_module_version": "1.2.0",
            "_model_name": "LayoutModel",
            "_view_count": null,
            "_view_module": "@jupyter-widgets/base",
            "_view_module_version": "1.2.0",
            "_view_name": "LayoutView",
            "align_content": null,
            "align_items": null,
            "align_self": null,
            "border": null,
            "bottom": null,
            "display": null,
            "flex": null,
            "flex_flow": null,
            "grid_area": null,
            "grid_auto_columns": null,
            "grid_auto_flow": null,
            "grid_auto_rows": null,
            "grid_column": null,
            "grid_gap": null,
            "grid_row": null,
            "grid_template_areas": null,
            "grid_template_columns": null,
            "grid_template_rows": null,
            "height": null,
            "justify_content": null,
            "justify_items": null,
            "left": null,
            "margin": null,
            "max_height": null,
            "max_width": null,
            "min_height": null,
            "min_width": null,
            "object_fit": null,
            "object_position": null,
            "order": null,
            "overflow": null,
            "overflow_x": null,
            "overflow_y": null,
            "padding": null,
            "right": null,
            "top": null,
            "visibility": null,
            "width": null
          }
        },
        "962c8a6fc1be456fb2300aad543b5be6": {
          "model_module": "@jupyter-widgets/controls",
          "model_name": "DescriptionStyleModel",
          "model_module_version": "1.5.0",
          "state": {
            "_model_module": "@jupyter-widgets/controls",
            "_model_module_version": "1.5.0",
            "_model_name": "DescriptionStyleModel",
            "_view_count": null,
            "_view_module": "@jupyter-widgets/base",
            "_view_module_version": "1.2.0",
            "_view_name": "StyleView",
            "description_width": ""
          }
        },
        "b6cba277bf844f8a8fe13a8ff602bbf8": {
          "model_module": "@jupyter-widgets/base",
          "model_name": "LayoutModel",
          "model_module_version": "1.2.0",
          "state": {
            "_model_module": "@jupyter-widgets/base",
            "_model_module_version": "1.2.0",
            "_model_name": "LayoutModel",
            "_view_count": null,
            "_view_module": "@jupyter-widgets/base",
            "_view_module_version": "1.2.0",
            "_view_name": "LayoutView",
            "align_content": null,
            "align_items": null,
            "align_self": null,
            "border": null,
            "bottom": null,
            "display": null,
            "flex": null,
            "flex_flow": null,
            "grid_area": null,
            "grid_auto_columns": null,
            "grid_auto_flow": null,
            "grid_auto_rows": null,
            "grid_column": null,
            "grid_gap": null,
            "grid_row": null,
            "grid_template_areas": null,
            "grid_template_columns": null,
            "grid_template_rows": null,
            "height": null,
            "justify_content": null,
            "justify_items": null,
            "left": null,
            "margin": null,
            "max_height": null,
            "max_width": null,
            "min_height": null,
            "min_width": null,
            "object_fit": null,
            "object_position": null,
            "order": null,
            "overflow": null,
            "overflow_x": null,
            "overflow_y": null,
            "padding": null,
            "right": null,
            "top": null,
            "visibility": null,
            "width": null
          }
        },
        "5a1cff60e18e44ae91ec95af2a5c8af6": {
          "model_module": "@jupyter-widgets/controls",
          "model_name": "ProgressStyleModel",
          "model_module_version": "1.5.0",
          "state": {
            "_model_module": "@jupyter-widgets/controls",
            "_model_module_version": "1.5.0",
            "_model_name": "ProgressStyleModel",
            "_view_count": null,
            "_view_module": "@jupyter-widgets/base",
            "_view_module_version": "1.2.0",
            "_view_name": "StyleView",
            "bar_color": null,
            "description_width": ""
          }
        },
        "6f077309014d447b930d305d7a0968f5": {
          "model_module": "@jupyter-widgets/base",
          "model_name": "LayoutModel",
          "model_module_version": "1.2.0",
          "state": {
            "_model_module": "@jupyter-widgets/base",
            "_model_module_version": "1.2.0",
            "_model_name": "LayoutModel",
            "_view_count": null,
            "_view_module": "@jupyter-widgets/base",
            "_view_module_version": "1.2.0",
            "_view_name": "LayoutView",
            "align_content": null,
            "align_items": null,
            "align_self": null,
            "border": null,
            "bottom": null,
            "display": null,
            "flex": null,
            "flex_flow": null,
            "grid_area": null,
            "grid_auto_columns": null,
            "grid_auto_flow": null,
            "grid_auto_rows": null,
            "grid_column": null,
            "grid_gap": null,
            "grid_row": null,
            "grid_template_areas": null,
            "grid_template_columns": null,
            "grid_template_rows": null,
            "height": null,
            "justify_content": null,
            "justify_items": null,
            "left": null,
            "margin": null,
            "max_height": null,
            "max_width": null,
            "min_height": null,
            "min_width": null,
            "object_fit": null,
            "object_position": null,
            "order": null,
            "overflow": null,
            "overflow_x": null,
            "overflow_y": null,
            "padding": null,
            "right": null,
            "top": null,
            "visibility": null,
            "width": null
          }
        },
        "6be031543af844aeb8d6c19dafd1dbb1": {
          "model_module": "@jupyter-widgets/controls",
          "model_name": "DescriptionStyleModel",
          "model_module_version": "1.5.0",
          "state": {
            "_model_module": "@jupyter-widgets/controls",
            "_model_module_version": "1.5.0",
            "_model_name": "DescriptionStyleModel",
            "_view_count": null,
            "_view_module": "@jupyter-widgets/base",
            "_view_module_version": "1.2.0",
            "_view_name": "StyleView",
            "description_width": ""
          }
        },
        "58ccf30057eb475982be093f83d16286": {
          "model_module": "@jupyter-widgets/controls",
          "model_name": "HBoxModel",
          "model_module_version": "1.5.0",
          "state": {
            "_dom_classes": [],
            "_model_module": "@jupyter-widgets/controls",
            "_model_module_version": "1.5.0",
            "_model_name": "HBoxModel",
            "_view_count": null,
            "_view_module": "@jupyter-widgets/controls",
            "_view_module_version": "1.5.0",
            "_view_name": "HBoxView",
            "box_style": "",
            "children": [
              "IPY_MODEL_f0e8268eb5e0403486a664f1f6751fbc",
              "IPY_MODEL_a75e9cb82a624b7885333dfcaac1d53e",
              "IPY_MODEL_7475f7374cf84e448733627b20537813"
            ],
            "layout": "IPY_MODEL_50a0e387ab4044c4b87ae38aae58c042"
          }
        },
        "f0e8268eb5e0403486a664f1f6751fbc": {
          "model_module": "@jupyter-widgets/controls",
          "model_name": "HTMLModel",
          "model_module_version": "1.5.0",
          "state": {
            "_dom_classes": [],
            "_model_module": "@jupyter-widgets/controls",
            "_model_module_version": "1.5.0",
            "_model_name": "HTMLModel",
            "_view_count": null,
            "_view_module": "@jupyter-widgets/controls",
            "_view_module_version": "1.5.0",
            "_view_name": "HTMLView",
            "description": "",
            "description_tooltip": null,
            "layout": "IPY_MODEL_e5817039d04e4ef891359ba3ff748718",
            "placeholder": "​",
            "style": "IPY_MODEL_132b4ed04df540dc9b7e334c240416de",
            "value": "vocab.txt: 100%"
          }
        },
        "a75e9cb82a624b7885333dfcaac1d53e": {
          "model_module": "@jupyter-widgets/controls",
          "model_name": "FloatProgressModel",
          "model_module_version": "1.5.0",
          "state": {
            "_dom_classes": [],
            "_model_module": "@jupyter-widgets/controls",
            "_model_module_version": "1.5.0",
            "_model_name": "FloatProgressModel",
            "_view_count": null,
            "_view_module": "@jupyter-widgets/controls",
            "_view_module_version": "1.5.0",
            "_view_name": "ProgressView",
            "bar_style": "success",
            "description": "",
            "description_tooltip": null,
            "layout": "IPY_MODEL_871eac8ec3c5475989c96e9f257d07ee",
            "max": 231508,
            "min": 0,
            "orientation": "horizontal",
            "style": "IPY_MODEL_823ff559da944bd5b1bf7da5c8f2e3ef",
            "value": 231508
          }
        },
        "7475f7374cf84e448733627b20537813": {
          "model_module": "@jupyter-widgets/controls",
          "model_name": "HTMLModel",
          "model_module_version": "1.5.0",
          "state": {
            "_dom_classes": [],
            "_model_module": "@jupyter-widgets/controls",
            "_model_module_version": "1.5.0",
            "_model_name": "HTMLModel",
            "_view_count": null,
            "_view_module": "@jupyter-widgets/controls",
            "_view_module_version": "1.5.0",
            "_view_name": "HTMLView",
            "description": "",
            "description_tooltip": null,
            "layout": "IPY_MODEL_8d56eb82aeb640359eb86ba26e243303",
            "placeholder": "​",
            "style": "IPY_MODEL_ffd0d8388be7419f8013630a6e88006d",
            "value": " 232k/232k [00:00&lt;00:00, 12.8MB/s]"
          }
        },
        "50a0e387ab4044c4b87ae38aae58c042": {
          "model_module": "@jupyter-widgets/base",
          "model_name": "LayoutModel",
          "model_module_version": "1.2.0",
          "state": {
            "_model_module": "@jupyter-widgets/base",
            "_model_module_version": "1.2.0",
            "_model_name": "LayoutModel",
            "_view_count": null,
            "_view_module": "@jupyter-widgets/base",
            "_view_module_version": "1.2.0",
            "_view_name": "LayoutView",
            "align_content": null,
            "align_items": null,
            "align_self": null,
            "border": null,
            "bottom": null,
            "display": null,
            "flex": null,
            "flex_flow": null,
            "grid_area": null,
            "grid_auto_columns": null,
            "grid_auto_flow": null,
            "grid_auto_rows": null,
            "grid_column": null,
            "grid_gap": null,
            "grid_row": null,
            "grid_template_areas": null,
            "grid_template_columns": null,
            "grid_template_rows": null,
            "height": null,
            "justify_content": null,
            "justify_items": null,
            "left": null,
            "margin": null,
            "max_height": null,
            "max_width": null,
            "min_height": null,
            "min_width": null,
            "object_fit": null,
            "object_position": null,
            "order": null,
            "overflow": null,
            "overflow_x": null,
            "overflow_y": null,
            "padding": null,
            "right": null,
            "top": null,
            "visibility": null,
            "width": null
          }
        },
        "e5817039d04e4ef891359ba3ff748718": {
          "model_module": "@jupyter-widgets/base",
          "model_name": "LayoutModel",
          "model_module_version": "1.2.0",
          "state": {
            "_model_module": "@jupyter-widgets/base",
            "_model_module_version": "1.2.0",
            "_model_name": "LayoutModel",
            "_view_count": null,
            "_view_module": "@jupyter-widgets/base",
            "_view_module_version": "1.2.0",
            "_view_name": "LayoutView",
            "align_content": null,
            "align_items": null,
            "align_self": null,
            "border": null,
            "bottom": null,
            "display": null,
            "flex": null,
            "flex_flow": null,
            "grid_area": null,
            "grid_auto_columns": null,
            "grid_auto_flow": null,
            "grid_auto_rows": null,
            "grid_column": null,
            "grid_gap": null,
            "grid_row": null,
            "grid_template_areas": null,
            "grid_template_columns": null,
            "grid_template_rows": null,
            "height": null,
            "justify_content": null,
            "justify_items": null,
            "left": null,
            "margin": null,
            "max_height": null,
            "max_width": null,
            "min_height": null,
            "min_width": null,
            "object_fit": null,
            "object_position": null,
            "order": null,
            "overflow": null,
            "overflow_x": null,
            "overflow_y": null,
            "padding": null,
            "right": null,
            "top": null,
            "visibility": null,
            "width": null
          }
        },
        "132b4ed04df540dc9b7e334c240416de": {
          "model_module": "@jupyter-widgets/controls",
          "model_name": "DescriptionStyleModel",
          "model_module_version": "1.5.0",
          "state": {
            "_model_module": "@jupyter-widgets/controls",
            "_model_module_version": "1.5.0",
            "_model_name": "DescriptionStyleModel",
            "_view_count": null,
            "_view_module": "@jupyter-widgets/base",
            "_view_module_version": "1.2.0",
            "_view_name": "StyleView",
            "description_width": ""
          }
        },
        "871eac8ec3c5475989c96e9f257d07ee": {
          "model_module": "@jupyter-widgets/base",
          "model_name": "LayoutModel",
          "model_module_version": "1.2.0",
          "state": {
            "_model_module": "@jupyter-widgets/base",
            "_model_module_version": "1.2.0",
            "_model_name": "LayoutModel",
            "_view_count": null,
            "_view_module": "@jupyter-widgets/base",
            "_view_module_version": "1.2.0",
            "_view_name": "LayoutView",
            "align_content": null,
            "align_items": null,
            "align_self": null,
            "border": null,
            "bottom": null,
            "display": null,
            "flex": null,
            "flex_flow": null,
            "grid_area": null,
            "grid_auto_columns": null,
            "grid_auto_flow": null,
            "grid_auto_rows": null,
            "grid_column": null,
            "grid_gap": null,
            "grid_row": null,
            "grid_template_areas": null,
            "grid_template_columns": null,
            "grid_template_rows": null,
            "height": null,
            "justify_content": null,
            "justify_items": null,
            "left": null,
            "margin": null,
            "max_height": null,
            "max_width": null,
            "min_height": null,
            "min_width": null,
            "object_fit": null,
            "object_position": null,
            "order": null,
            "overflow": null,
            "overflow_x": null,
            "overflow_y": null,
            "padding": null,
            "right": null,
            "top": null,
            "visibility": null,
            "width": null
          }
        },
        "823ff559da944bd5b1bf7da5c8f2e3ef": {
          "model_module": "@jupyter-widgets/controls",
          "model_name": "ProgressStyleModel",
          "model_module_version": "1.5.0",
          "state": {
            "_model_module": "@jupyter-widgets/controls",
            "_model_module_version": "1.5.0",
            "_model_name": "ProgressStyleModel",
            "_view_count": null,
            "_view_module": "@jupyter-widgets/base",
            "_view_module_version": "1.2.0",
            "_view_name": "StyleView",
            "bar_color": null,
            "description_width": ""
          }
        },
        "8d56eb82aeb640359eb86ba26e243303": {
          "model_module": "@jupyter-widgets/base",
          "model_name": "LayoutModel",
          "model_module_version": "1.2.0",
          "state": {
            "_model_module": "@jupyter-widgets/base",
            "_model_module_version": "1.2.0",
            "_model_name": "LayoutModel",
            "_view_count": null,
            "_view_module": "@jupyter-widgets/base",
            "_view_module_version": "1.2.0",
            "_view_name": "LayoutView",
            "align_content": null,
            "align_items": null,
            "align_self": null,
            "border": null,
            "bottom": null,
            "display": null,
            "flex": null,
            "flex_flow": null,
            "grid_area": null,
            "grid_auto_columns": null,
            "grid_auto_flow": null,
            "grid_auto_rows": null,
            "grid_column": null,
            "grid_gap": null,
            "grid_row": null,
            "grid_template_areas": null,
            "grid_template_columns": null,
            "grid_template_rows": null,
            "height": null,
            "justify_content": null,
            "justify_items": null,
            "left": null,
            "margin": null,
            "max_height": null,
            "max_width": null,
            "min_height": null,
            "min_width": null,
            "object_fit": null,
            "object_position": null,
            "order": null,
            "overflow": null,
            "overflow_x": null,
            "overflow_y": null,
            "padding": null,
            "right": null,
            "top": null,
            "visibility": null,
            "width": null
          }
        },
        "ffd0d8388be7419f8013630a6e88006d": {
          "model_module": "@jupyter-widgets/controls",
          "model_name": "DescriptionStyleModel",
          "model_module_version": "1.5.0",
          "state": {
            "_model_module": "@jupyter-widgets/controls",
            "_model_module_version": "1.5.0",
            "_model_name": "DescriptionStyleModel",
            "_view_count": null,
            "_view_module": "@jupyter-widgets/base",
            "_view_module_version": "1.2.0",
            "_view_name": "StyleView",
            "description_width": ""
          }
        },
        "95cb049d28244782ac1aa5e49953b9bb": {
          "model_module": "@jupyter-widgets/controls",
          "model_name": "HBoxModel",
          "model_module_version": "1.5.0",
          "state": {
            "_dom_classes": [],
            "_model_module": "@jupyter-widgets/controls",
            "_model_module_version": "1.5.0",
            "_model_name": "HBoxModel",
            "_view_count": null,
            "_view_module": "@jupyter-widgets/controls",
            "_view_module_version": "1.5.0",
            "_view_name": "HBoxView",
            "box_style": "",
            "children": [
              "IPY_MODEL_8ab791e76ca04ac0a8c3cb67f339a404",
              "IPY_MODEL_d6976efff6a248898c5fd3cc67a75ff9",
              "IPY_MODEL_9d2812f97b3d42a8b765aa6cd1df7ac0"
            ],
            "layout": "IPY_MODEL_045c9ad0abc546eebc4b0ef49b7864d1"
          }
        },
        "8ab791e76ca04ac0a8c3cb67f339a404": {
          "model_module": "@jupyter-widgets/controls",
          "model_name": "HTMLModel",
          "model_module_version": "1.5.0",
          "state": {
            "_dom_classes": [],
            "_model_module": "@jupyter-widgets/controls",
            "_model_module_version": "1.5.0",
            "_model_name": "HTMLModel",
            "_view_count": null,
            "_view_module": "@jupyter-widgets/controls",
            "_view_module_version": "1.5.0",
            "_view_name": "HTMLView",
            "description": "",
            "description_tooltip": null,
            "layout": "IPY_MODEL_420a75ceef7346319d378b2daf3a2424",
            "placeholder": "​",
            "style": "IPY_MODEL_66940c1a08274352b69c61c380cec420",
            "value": "tokenizer.json: 100%"
          }
        },
        "d6976efff6a248898c5fd3cc67a75ff9": {
          "model_module": "@jupyter-widgets/controls",
          "model_name": "FloatProgressModel",
          "model_module_version": "1.5.0",
          "state": {
            "_dom_classes": [],
            "_model_module": "@jupyter-widgets/controls",
            "_model_module_version": "1.5.0",
            "_model_name": "FloatProgressModel",
            "_view_count": null,
            "_view_module": "@jupyter-widgets/controls",
            "_view_module_version": "1.5.0",
            "_view_name": "ProgressView",
            "bar_style": "success",
            "description": "",
            "description_tooltip": null,
            "layout": "IPY_MODEL_4b5bd0f63b5840f783e53cae72505e41",
            "max": 466062,
            "min": 0,
            "orientation": "horizontal",
            "style": "IPY_MODEL_5349d7a42f064e039503309af24bed9f",
            "value": 466062
          }
        },
        "9d2812f97b3d42a8b765aa6cd1df7ac0": {
          "model_module": "@jupyter-widgets/controls",
          "model_name": "HTMLModel",
          "model_module_version": "1.5.0",
          "state": {
            "_dom_classes": [],
            "_model_module": "@jupyter-widgets/controls",
            "_model_module_version": "1.5.0",
            "_model_name": "HTMLModel",
            "_view_count": null,
            "_view_module": "@jupyter-widgets/controls",
            "_view_module_version": "1.5.0",
            "_view_name": "HTMLView",
            "description": "",
            "description_tooltip": null,
            "layout": "IPY_MODEL_7051e05047094ea39502f8ea8b264af3",
            "placeholder": "​",
            "style": "IPY_MODEL_acc1c669b0c847798f465bbf29a0acf9",
            "value": " 466k/466k [00:00&lt;00:00, 28.4MB/s]"
          }
        },
        "045c9ad0abc546eebc4b0ef49b7864d1": {
          "model_module": "@jupyter-widgets/base",
          "model_name": "LayoutModel",
          "model_module_version": "1.2.0",
          "state": {
            "_model_module": "@jupyter-widgets/base",
            "_model_module_version": "1.2.0",
            "_model_name": "LayoutModel",
            "_view_count": null,
            "_view_module": "@jupyter-widgets/base",
            "_view_module_version": "1.2.0",
            "_view_name": "LayoutView",
            "align_content": null,
            "align_items": null,
            "align_self": null,
            "border": null,
            "bottom": null,
            "display": null,
            "flex": null,
            "flex_flow": null,
            "grid_area": null,
            "grid_auto_columns": null,
            "grid_auto_flow": null,
            "grid_auto_rows": null,
            "grid_column": null,
            "grid_gap": null,
            "grid_row": null,
            "grid_template_areas": null,
            "grid_template_columns": null,
            "grid_template_rows": null,
            "height": null,
            "justify_content": null,
            "justify_items": null,
            "left": null,
            "margin": null,
            "max_height": null,
            "max_width": null,
            "min_height": null,
            "min_width": null,
            "object_fit": null,
            "object_position": null,
            "order": null,
            "overflow": null,
            "overflow_x": null,
            "overflow_y": null,
            "padding": null,
            "right": null,
            "top": null,
            "visibility": null,
            "width": null
          }
        },
        "420a75ceef7346319d378b2daf3a2424": {
          "model_module": "@jupyter-widgets/base",
          "model_name": "LayoutModel",
          "model_module_version": "1.2.0",
          "state": {
            "_model_module": "@jupyter-widgets/base",
            "_model_module_version": "1.2.0",
            "_model_name": "LayoutModel",
            "_view_count": null,
            "_view_module": "@jupyter-widgets/base",
            "_view_module_version": "1.2.0",
            "_view_name": "LayoutView",
            "align_content": null,
            "align_items": null,
            "align_self": null,
            "border": null,
            "bottom": null,
            "display": null,
            "flex": null,
            "flex_flow": null,
            "grid_area": null,
            "grid_auto_columns": null,
            "grid_auto_flow": null,
            "grid_auto_rows": null,
            "grid_column": null,
            "grid_gap": null,
            "grid_row": null,
            "grid_template_areas": null,
            "grid_template_columns": null,
            "grid_template_rows": null,
            "height": null,
            "justify_content": null,
            "justify_items": null,
            "left": null,
            "margin": null,
            "max_height": null,
            "max_width": null,
            "min_height": null,
            "min_width": null,
            "object_fit": null,
            "object_position": null,
            "order": null,
            "overflow": null,
            "overflow_x": null,
            "overflow_y": null,
            "padding": null,
            "right": null,
            "top": null,
            "visibility": null,
            "width": null
          }
        },
        "66940c1a08274352b69c61c380cec420": {
          "model_module": "@jupyter-widgets/controls",
          "model_name": "DescriptionStyleModel",
          "model_module_version": "1.5.0",
          "state": {
            "_model_module": "@jupyter-widgets/controls",
            "_model_module_version": "1.5.0",
            "_model_name": "DescriptionStyleModel",
            "_view_count": null,
            "_view_module": "@jupyter-widgets/base",
            "_view_module_version": "1.2.0",
            "_view_name": "StyleView",
            "description_width": ""
          }
        },
        "4b5bd0f63b5840f783e53cae72505e41": {
          "model_module": "@jupyter-widgets/base",
          "model_name": "LayoutModel",
          "model_module_version": "1.2.0",
          "state": {
            "_model_module": "@jupyter-widgets/base",
            "_model_module_version": "1.2.0",
            "_model_name": "LayoutModel",
            "_view_count": null,
            "_view_module": "@jupyter-widgets/base",
            "_view_module_version": "1.2.0",
            "_view_name": "LayoutView",
            "align_content": null,
            "align_items": null,
            "align_self": null,
            "border": null,
            "bottom": null,
            "display": null,
            "flex": null,
            "flex_flow": null,
            "grid_area": null,
            "grid_auto_columns": null,
            "grid_auto_flow": null,
            "grid_auto_rows": null,
            "grid_column": null,
            "grid_gap": null,
            "grid_row": null,
            "grid_template_areas": null,
            "grid_template_columns": null,
            "grid_template_rows": null,
            "height": null,
            "justify_content": null,
            "justify_items": null,
            "left": null,
            "margin": null,
            "max_height": null,
            "max_width": null,
            "min_height": null,
            "min_width": null,
            "object_fit": null,
            "object_position": null,
            "order": null,
            "overflow": null,
            "overflow_x": null,
            "overflow_y": null,
            "padding": null,
            "right": null,
            "top": null,
            "visibility": null,
            "width": null
          }
        },
        "5349d7a42f064e039503309af24bed9f": {
          "model_module": "@jupyter-widgets/controls",
          "model_name": "ProgressStyleModel",
          "model_module_version": "1.5.0",
          "state": {
            "_model_module": "@jupyter-widgets/controls",
            "_model_module_version": "1.5.0",
            "_model_name": "ProgressStyleModel",
            "_view_count": null,
            "_view_module": "@jupyter-widgets/base",
            "_view_module_version": "1.2.0",
            "_view_name": "StyleView",
            "bar_color": null,
            "description_width": ""
          }
        },
        "7051e05047094ea39502f8ea8b264af3": {
          "model_module": "@jupyter-widgets/base",
          "model_name": "LayoutModel",
          "model_module_version": "1.2.0",
          "state": {
            "_model_module": "@jupyter-widgets/base",
            "_model_module_version": "1.2.0",
            "_model_name": "LayoutModel",
            "_view_count": null,
            "_view_module": "@jupyter-widgets/base",
            "_view_module_version": "1.2.0",
            "_view_name": "LayoutView",
            "align_content": null,
            "align_items": null,
            "align_self": null,
            "border": null,
            "bottom": null,
            "display": null,
            "flex": null,
            "flex_flow": null,
            "grid_area": null,
            "grid_auto_columns": null,
            "grid_auto_flow": null,
            "grid_auto_rows": null,
            "grid_column": null,
            "grid_gap": null,
            "grid_row": null,
            "grid_template_areas": null,
            "grid_template_columns": null,
            "grid_template_rows": null,
            "height": null,
            "justify_content": null,
            "justify_items": null,
            "left": null,
            "margin": null,
            "max_height": null,
            "max_width": null,
            "min_height": null,
            "min_width": null,
            "object_fit": null,
            "object_position": null,
            "order": null,
            "overflow": null,
            "overflow_x": null,
            "overflow_y": null,
            "padding": null,
            "right": null,
            "top": null,
            "visibility": null,
            "width": null
          }
        },
        "acc1c669b0c847798f465bbf29a0acf9": {
          "model_module": "@jupyter-widgets/controls",
          "model_name": "DescriptionStyleModel",
          "model_module_version": "1.5.0",
          "state": {
            "_model_module": "@jupyter-widgets/controls",
            "_model_module_version": "1.5.0",
            "_model_name": "DescriptionStyleModel",
            "_view_count": null,
            "_view_module": "@jupyter-widgets/base",
            "_view_module_version": "1.2.0",
            "_view_name": "StyleView",
            "description_width": ""
          }
        },
        "0ca904fc8bc640fbaea1e614e7b47ce6": {
          "model_module": "@jupyter-widgets/controls",
          "model_name": "HBoxModel",
          "model_module_version": "1.5.0",
          "state": {
            "_dom_classes": [],
            "_model_module": "@jupyter-widgets/controls",
            "_model_module_version": "1.5.0",
            "_model_name": "HBoxModel",
            "_view_count": null,
            "_view_module": "@jupyter-widgets/controls",
            "_view_module_version": "1.5.0",
            "_view_name": "HBoxView",
            "box_style": "",
            "children": [
              "IPY_MODEL_47e267048df94278a35262268226c32a",
              "IPY_MODEL_e52f806ab75d48e0a7edd6a1fd4c163c",
              "IPY_MODEL_5e2890cfe619430983763ce66e6f8a21"
            ],
            "layout": "IPY_MODEL_150bf165432e4b7183e17f03e0906e75"
          }
        },
        "47e267048df94278a35262268226c32a": {
          "model_module": "@jupyter-widgets/controls",
          "model_name": "HTMLModel",
          "model_module_version": "1.5.0",
          "state": {
            "_dom_classes": [],
            "_model_module": "@jupyter-widgets/controls",
            "_model_module_version": "1.5.0",
            "_model_name": "HTMLModel",
            "_view_count": null,
            "_view_module": "@jupyter-widgets/controls",
            "_view_module_version": "1.5.0",
            "_view_name": "HTMLView",
            "description": "",
            "description_tooltip": null,
            "layout": "IPY_MODEL_cabb9e49ce1d43d5a657360d4702cef1",
            "placeholder": "​",
            "style": "IPY_MODEL_3c1ec2ab3ddc4f1491ab65ba332f0848",
            "value": "config.json: 100%"
          }
        },
        "e52f806ab75d48e0a7edd6a1fd4c163c": {
          "model_module": "@jupyter-widgets/controls",
          "model_name": "FloatProgressModel",
          "model_module_version": "1.5.0",
          "state": {
            "_dom_classes": [],
            "_model_module": "@jupyter-widgets/controls",
            "_model_module_version": "1.5.0",
            "_model_name": "FloatProgressModel",
            "_view_count": null,
            "_view_module": "@jupyter-widgets/controls",
            "_view_module_version": "1.5.0",
            "_view_name": "ProgressView",
            "bar_style": "success",
            "description": "",
            "description_tooltip": null,
            "layout": "IPY_MODEL_56bb8f3ac3ea4d6d9e9a7405e84bab88",
            "max": 570,
            "min": 0,
            "orientation": "horizontal",
            "style": "IPY_MODEL_4323a414b57b4ace9d48f5e501000b2b",
            "value": 570
          }
        },
        "5e2890cfe619430983763ce66e6f8a21": {
          "model_module": "@jupyter-widgets/controls",
          "model_name": "HTMLModel",
          "model_module_version": "1.5.0",
          "state": {
            "_dom_classes": [],
            "_model_module": "@jupyter-widgets/controls",
            "_model_module_version": "1.5.0",
            "_model_name": "HTMLModel",
            "_view_count": null,
            "_view_module": "@jupyter-widgets/controls",
            "_view_module_version": "1.5.0",
            "_view_name": "HTMLView",
            "description": "",
            "description_tooltip": null,
            "layout": "IPY_MODEL_97b687d55b2943e789b67e83cd40d84c",
            "placeholder": "​",
            "style": "IPY_MODEL_46c8889ab6494d0caa14c67645e524f9",
            "value": " 570/570 [00:00&lt;00:00, 50.5kB/s]"
          }
        },
        "150bf165432e4b7183e17f03e0906e75": {
          "model_module": "@jupyter-widgets/base",
          "model_name": "LayoutModel",
          "model_module_version": "1.2.0",
          "state": {
            "_model_module": "@jupyter-widgets/base",
            "_model_module_version": "1.2.0",
            "_model_name": "LayoutModel",
            "_view_count": null,
            "_view_module": "@jupyter-widgets/base",
            "_view_module_version": "1.2.0",
            "_view_name": "LayoutView",
            "align_content": null,
            "align_items": null,
            "align_self": null,
            "border": null,
            "bottom": null,
            "display": null,
            "flex": null,
            "flex_flow": null,
            "grid_area": null,
            "grid_auto_columns": null,
            "grid_auto_flow": null,
            "grid_auto_rows": null,
            "grid_column": null,
            "grid_gap": null,
            "grid_row": null,
            "grid_template_areas": null,
            "grid_template_columns": null,
            "grid_template_rows": null,
            "height": null,
            "justify_content": null,
            "justify_items": null,
            "left": null,
            "margin": null,
            "max_height": null,
            "max_width": null,
            "min_height": null,
            "min_width": null,
            "object_fit": null,
            "object_position": null,
            "order": null,
            "overflow": null,
            "overflow_x": null,
            "overflow_y": null,
            "padding": null,
            "right": null,
            "top": null,
            "visibility": null,
            "width": null
          }
        },
        "cabb9e49ce1d43d5a657360d4702cef1": {
          "model_module": "@jupyter-widgets/base",
          "model_name": "LayoutModel",
          "model_module_version": "1.2.0",
          "state": {
            "_model_module": "@jupyter-widgets/base",
            "_model_module_version": "1.2.0",
            "_model_name": "LayoutModel",
            "_view_count": null,
            "_view_module": "@jupyter-widgets/base",
            "_view_module_version": "1.2.0",
            "_view_name": "LayoutView",
            "align_content": null,
            "align_items": null,
            "align_self": null,
            "border": null,
            "bottom": null,
            "display": null,
            "flex": null,
            "flex_flow": null,
            "grid_area": null,
            "grid_auto_columns": null,
            "grid_auto_flow": null,
            "grid_auto_rows": null,
            "grid_column": null,
            "grid_gap": null,
            "grid_row": null,
            "grid_template_areas": null,
            "grid_template_columns": null,
            "grid_template_rows": null,
            "height": null,
            "justify_content": null,
            "justify_items": null,
            "left": null,
            "margin": null,
            "max_height": null,
            "max_width": null,
            "min_height": null,
            "min_width": null,
            "object_fit": null,
            "object_position": null,
            "order": null,
            "overflow": null,
            "overflow_x": null,
            "overflow_y": null,
            "padding": null,
            "right": null,
            "top": null,
            "visibility": null,
            "width": null
          }
        },
        "3c1ec2ab3ddc4f1491ab65ba332f0848": {
          "model_module": "@jupyter-widgets/controls",
          "model_name": "DescriptionStyleModel",
          "model_module_version": "1.5.0",
          "state": {
            "_model_module": "@jupyter-widgets/controls",
            "_model_module_version": "1.5.0",
            "_model_name": "DescriptionStyleModel",
            "_view_count": null,
            "_view_module": "@jupyter-widgets/base",
            "_view_module_version": "1.2.0",
            "_view_name": "StyleView",
            "description_width": ""
          }
        },
        "56bb8f3ac3ea4d6d9e9a7405e84bab88": {
          "model_module": "@jupyter-widgets/base",
          "model_name": "LayoutModel",
          "model_module_version": "1.2.0",
          "state": {
            "_model_module": "@jupyter-widgets/base",
            "_model_module_version": "1.2.0",
            "_model_name": "LayoutModel",
            "_view_count": null,
            "_view_module": "@jupyter-widgets/base",
            "_view_module_version": "1.2.0",
            "_view_name": "LayoutView",
            "align_content": null,
            "align_items": null,
            "align_self": null,
            "border": null,
            "bottom": null,
            "display": null,
            "flex": null,
            "flex_flow": null,
            "grid_area": null,
            "grid_auto_columns": null,
            "grid_auto_flow": null,
            "grid_auto_rows": null,
            "grid_column": null,
            "grid_gap": null,
            "grid_row": null,
            "grid_template_areas": null,
            "grid_template_columns": null,
            "grid_template_rows": null,
            "height": null,
            "justify_content": null,
            "justify_items": null,
            "left": null,
            "margin": null,
            "max_height": null,
            "max_width": null,
            "min_height": null,
            "min_width": null,
            "object_fit": null,
            "object_position": null,
            "order": null,
            "overflow": null,
            "overflow_x": null,
            "overflow_y": null,
            "padding": null,
            "right": null,
            "top": null,
            "visibility": null,
            "width": null
          }
        },
        "4323a414b57b4ace9d48f5e501000b2b": {
          "model_module": "@jupyter-widgets/controls",
          "model_name": "ProgressStyleModel",
          "model_module_version": "1.5.0",
          "state": {
            "_model_module": "@jupyter-widgets/controls",
            "_model_module_version": "1.5.0",
            "_model_name": "ProgressStyleModel",
            "_view_count": null,
            "_view_module": "@jupyter-widgets/base",
            "_view_module_version": "1.2.0",
            "_view_name": "StyleView",
            "bar_color": null,
            "description_width": ""
          }
        },
        "97b687d55b2943e789b67e83cd40d84c": {
          "model_module": "@jupyter-widgets/base",
          "model_name": "LayoutModel",
          "model_module_version": "1.2.0",
          "state": {
            "_model_module": "@jupyter-widgets/base",
            "_model_module_version": "1.2.0",
            "_model_name": "LayoutModel",
            "_view_count": null,
            "_view_module": "@jupyter-widgets/base",
            "_view_module_version": "1.2.0",
            "_view_name": "LayoutView",
            "align_content": null,
            "align_items": null,
            "align_self": null,
            "border": null,
            "bottom": null,
            "display": null,
            "flex": null,
            "flex_flow": null,
            "grid_area": null,
            "grid_auto_columns": null,
            "grid_auto_flow": null,
            "grid_auto_rows": null,
            "grid_column": null,
            "grid_gap": null,
            "grid_row": null,
            "grid_template_areas": null,
            "grid_template_columns": null,
            "grid_template_rows": null,
            "height": null,
            "justify_content": null,
            "justify_items": null,
            "left": null,
            "margin": null,
            "max_height": null,
            "max_width": null,
            "min_height": null,
            "min_width": null,
            "object_fit": null,
            "object_position": null,
            "order": null,
            "overflow": null,
            "overflow_x": null,
            "overflow_y": null,
            "padding": null,
            "right": null,
            "top": null,
            "visibility": null,
            "width": null
          }
        },
        "46c8889ab6494d0caa14c67645e524f9": {
          "model_module": "@jupyter-widgets/controls",
          "model_name": "DescriptionStyleModel",
          "model_module_version": "1.5.0",
          "state": {
            "_model_module": "@jupyter-widgets/controls",
            "_model_module_version": "1.5.0",
            "_model_name": "DescriptionStyleModel",
            "_view_count": null,
            "_view_module": "@jupyter-widgets/base",
            "_view_module_version": "1.2.0",
            "_view_name": "StyleView",
            "description_width": ""
          }
        },
        "8541ad0dea5647df858db03822eaaee8": {
          "model_module": "@jupyter-widgets/controls",
          "model_name": "HBoxModel",
          "model_module_version": "1.5.0",
          "state": {
            "_dom_classes": [],
            "_model_module": "@jupyter-widgets/controls",
            "_model_module_version": "1.5.0",
            "_model_name": "HBoxModel",
            "_view_count": null,
            "_view_module": "@jupyter-widgets/controls",
            "_view_module_version": "1.5.0",
            "_view_name": "HBoxView",
            "box_style": "",
            "children": [
              "IPY_MODEL_de3941a50c9e4146af7945d461fd45f8",
              "IPY_MODEL_0704ec64defa415cb4ca4828823e12a8",
              "IPY_MODEL_d982b2ee08864636ba5617e964f60b01"
            ],
            "layout": "IPY_MODEL_55c8fbe30e614db5afda255668660c57"
          }
        },
        "de3941a50c9e4146af7945d461fd45f8": {
          "model_module": "@jupyter-widgets/controls",
          "model_name": "HTMLModel",
          "model_module_version": "1.5.0",
          "state": {
            "_dom_classes": [],
            "_model_module": "@jupyter-widgets/controls",
            "_model_module_version": "1.5.0",
            "_model_name": "HTMLModel",
            "_view_count": null,
            "_view_module": "@jupyter-widgets/controls",
            "_view_module_version": "1.5.0",
            "_view_name": "HTMLView",
            "description": "",
            "description_tooltip": null,
            "layout": "IPY_MODEL_ab31de2a15264c57b7b1664039470261",
            "placeholder": "​",
            "style": "IPY_MODEL_d933af46f7f743e09f1b3a4b609b0433",
            "value": "model.safetensors: 100%"
          }
        },
        "0704ec64defa415cb4ca4828823e12a8": {
          "model_module": "@jupyter-widgets/controls",
          "model_name": "FloatProgressModel",
          "model_module_version": "1.5.0",
          "state": {
            "_dom_classes": [],
            "_model_module": "@jupyter-widgets/controls",
            "_model_module_version": "1.5.0",
            "_model_name": "FloatProgressModel",
            "_view_count": null,
            "_view_module": "@jupyter-widgets/controls",
            "_view_module_version": "1.5.0",
            "_view_name": "ProgressView",
            "bar_style": "success",
            "description": "",
            "description_tooltip": null,
            "layout": "IPY_MODEL_547807528af740b1b794cbd153226ae2",
            "max": 440449768,
            "min": 0,
            "orientation": "horizontal",
            "style": "IPY_MODEL_8962447d14144be492845b22cc21eb31",
            "value": 440449768
          }
        },
        "d982b2ee08864636ba5617e964f60b01": {
          "model_module": "@jupyter-widgets/controls",
          "model_name": "HTMLModel",
          "model_module_version": "1.5.0",
          "state": {
            "_dom_classes": [],
            "_model_module": "@jupyter-widgets/controls",
            "_model_module_version": "1.5.0",
            "_model_name": "HTMLModel",
            "_view_count": null,
            "_view_module": "@jupyter-widgets/controls",
            "_view_module_version": "1.5.0",
            "_view_name": "HTMLView",
            "description": "",
            "description_tooltip": null,
            "layout": "IPY_MODEL_be46944f306846209c5bb44a792a76af",
            "placeholder": "​",
            "style": "IPY_MODEL_920306c753d547e08550974559e9ac7c",
            "value": " 440M/440M [00:01&lt;00:00, 345MB/s]"
          }
        },
        "55c8fbe30e614db5afda255668660c57": {
          "model_module": "@jupyter-widgets/base",
          "model_name": "LayoutModel",
          "model_module_version": "1.2.0",
          "state": {
            "_model_module": "@jupyter-widgets/base",
            "_model_module_version": "1.2.0",
            "_model_name": "LayoutModel",
            "_view_count": null,
            "_view_module": "@jupyter-widgets/base",
            "_view_module_version": "1.2.0",
            "_view_name": "LayoutView",
            "align_content": null,
            "align_items": null,
            "align_self": null,
            "border": null,
            "bottom": null,
            "display": null,
            "flex": null,
            "flex_flow": null,
            "grid_area": null,
            "grid_auto_columns": null,
            "grid_auto_flow": null,
            "grid_auto_rows": null,
            "grid_column": null,
            "grid_gap": null,
            "grid_row": null,
            "grid_template_areas": null,
            "grid_template_columns": null,
            "grid_template_rows": null,
            "height": null,
            "justify_content": null,
            "justify_items": null,
            "left": null,
            "margin": null,
            "max_height": null,
            "max_width": null,
            "min_height": null,
            "min_width": null,
            "object_fit": null,
            "object_position": null,
            "order": null,
            "overflow": null,
            "overflow_x": null,
            "overflow_y": null,
            "padding": null,
            "right": null,
            "top": null,
            "visibility": null,
            "width": null
          }
        },
        "ab31de2a15264c57b7b1664039470261": {
          "model_module": "@jupyter-widgets/base",
          "model_name": "LayoutModel",
          "model_module_version": "1.2.0",
          "state": {
            "_model_module": "@jupyter-widgets/base",
            "_model_module_version": "1.2.0",
            "_model_name": "LayoutModel",
            "_view_count": null,
            "_view_module": "@jupyter-widgets/base",
            "_view_module_version": "1.2.0",
            "_view_name": "LayoutView",
            "align_content": null,
            "align_items": null,
            "align_self": null,
            "border": null,
            "bottom": null,
            "display": null,
            "flex": null,
            "flex_flow": null,
            "grid_area": null,
            "grid_auto_columns": null,
            "grid_auto_flow": null,
            "grid_auto_rows": null,
            "grid_column": null,
            "grid_gap": null,
            "grid_row": null,
            "grid_template_areas": null,
            "grid_template_columns": null,
            "grid_template_rows": null,
            "height": null,
            "justify_content": null,
            "justify_items": null,
            "left": null,
            "margin": null,
            "max_height": null,
            "max_width": null,
            "min_height": null,
            "min_width": null,
            "object_fit": null,
            "object_position": null,
            "order": null,
            "overflow": null,
            "overflow_x": null,
            "overflow_y": null,
            "padding": null,
            "right": null,
            "top": null,
            "visibility": null,
            "width": null
          }
        },
        "d933af46f7f743e09f1b3a4b609b0433": {
          "model_module": "@jupyter-widgets/controls",
          "model_name": "DescriptionStyleModel",
          "model_module_version": "1.5.0",
          "state": {
            "_model_module": "@jupyter-widgets/controls",
            "_model_module_version": "1.5.0",
            "_model_name": "DescriptionStyleModel",
            "_view_count": null,
            "_view_module": "@jupyter-widgets/base",
            "_view_module_version": "1.2.0",
            "_view_name": "StyleView",
            "description_width": ""
          }
        },
        "547807528af740b1b794cbd153226ae2": {
          "model_module": "@jupyter-widgets/base",
          "model_name": "LayoutModel",
          "model_module_version": "1.2.0",
          "state": {
            "_model_module": "@jupyter-widgets/base",
            "_model_module_version": "1.2.0",
            "_model_name": "LayoutModel",
            "_view_count": null,
            "_view_module": "@jupyter-widgets/base",
            "_view_module_version": "1.2.0",
            "_view_name": "LayoutView",
            "align_content": null,
            "align_items": null,
            "align_self": null,
            "border": null,
            "bottom": null,
            "display": null,
            "flex": null,
            "flex_flow": null,
            "grid_area": null,
            "grid_auto_columns": null,
            "grid_auto_flow": null,
            "grid_auto_rows": null,
            "grid_column": null,
            "grid_gap": null,
            "grid_row": null,
            "grid_template_areas": null,
            "grid_template_columns": null,
            "grid_template_rows": null,
            "height": null,
            "justify_content": null,
            "justify_items": null,
            "left": null,
            "margin": null,
            "max_height": null,
            "max_width": null,
            "min_height": null,
            "min_width": null,
            "object_fit": null,
            "object_position": null,
            "order": null,
            "overflow": null,
            "overflow_x": null,
            "overflow_y": null,
            "padding": null,
            "right": null,
            "top": null,
            "visibility": null,
            "width": null
          }
        },
        "8962447d14144be492845b22cc21eb31": {
          "model_module": "@jupyter-widgets/controls",
          "model_name": "ProgressStyleModel",
          "model_module_version": "1.5.0",
          "state": {
            "_model_module": "@jupyter-widgets/controls",
            "_model_module_version": "1.5.0",
            "_model_name": "ProgressStyleModel",
            "_view_count": null,
            "_view_module": "@jupyter-widgets/base",
            "_view_module_version": "1.2.0",
            "_view_name": "StyleView",
            "bar_color": null,
            "description_width": ""
          }
        },
        "be46944f306846209c5bb44a792a76af": {
          "model_module": "@jupyter-widgets/base",
          "model_name": "LayoutModel",
          "model_module_version": "1.2.0",
          "state": {
            "_model_module": "@jupyter-widgets/base",
            "_model_module_version": "1.2.0",
            "_model_name": "LayoutModel",
            "_view_count": null,
            "_view_module": "@jupyter-widgets/base",
            "_view_module_version": "1.2.0",
            "_view_name": "LayoutView",
            "align_content": null,
            "align_items": null,
            "align_self": null,
            "border": null,
            "bottom": null,
            "display": null,
            "flex": null,
            "flex_flow": null,
            "grid_area": null,
            "grid_auto_columns": null,
            "grid_auto_flow": null,
            "grid_auto_rows": null,
            "grid_column": null,
            "grid_gap": null,
            "grid_row": null,
            "grid_template_areas": null,
            "grid_template_columns": null,
            "grid_template_rows": null,
            "height": null,
            "justify_content": null,
            "justify_items": null,
            "left": null,
            "margin": null,
            "max_height": null,
            "max_width": null,
            "min_height": null,
            "min_width": null,
            "object_fit": null,
            "object_position": null,
            "order": null,
            "overflow": null,
            "overflow_x": null,
            "overflow_y": null,
            "padding": null,
            "right": null,
            "top": null,
            "visibility": null,
            "width": null
          }
        },
        "920306c753d547e08550974559e9ac7c": {
          "model_module": "@jupyter-widgets/controls",
          "model_name": "DescriptionStyleModel",
          "model_module_version": "1.5.0",
          "state": {
            "_model_module": "@jupyter-widgets/controls",
            "_model_module_version": "1.5.0",
            "_model_name": "DescriptionStyleModel",
            "_view_count": null,
            "_view_module": "@jupyter-widgets/base",
            "_view_module_version": "1.2.0",
            "_view_name": "StyleView",
            "description_width": ""
          }
        },
        "e7ce4b81e0d94b2a8b81282795bdc0ef": {
          "model_module": "@jupyter-widgets/controls",
          "model_name": "HBoxModel",
          "model_module_version": "1.5.0",
          "state": {
            "_dom_classes": [],
            "_model_module": "@jupyter-widgets/controls",
            "_model_module_version": "1.5.0",
            "_model_name": "HBoxModel",
            "_view_count": null,
            "_view_module": "@jupyter-widgets/controls",
            "_view_module_version": "1.5.0",
            "_view_name": "HBoxView",
            "box_style": "",
            "children": [
              "IPY_MODEL_9d8fc8995fd04d8c883b5ff4ff3eb938",
              "IPY_MODEL_0382a6d2513f4f2b8ca27b05971b9f39",
              "IPY_MODEL_6601fdafb373427bbebd954ca47cca1c"
            ],
            "layout": "IPY_MODEL_ecfc86d58e254ba08e3f432e69ee778e"
          }
        },
        "9d8fc8995fd04d8c883b5ff4ff3eb938": {
          "model_module": "@jupyter-widgets/controls",
          "model_name": "HTMLModel",
          "model_module_version": "1.5.0",
          "state": {
            "_dom_classes": [],
            "_model_module": "@jupyter-widgets/controls",
            "_model_module_version": "1.5.0",
            "_model_name": "HTMLModel",
            "_view_count": null,
            "_view_module": "@jupyter-widgets/controls",
            "_view_module_version": "1.5.0",
            "_view_name": "HTMLView",
            "description": "",
            "description_tooltip": null,
            "layout": "IPY_MODEL_b8520e48d2964596a8ecf717559f9b06",
            "placeholder": "​",
            "style": "IPY_MODEL_ad9c5365534b4207aee99f1ce85386ee",
            "value": "mistral-7b-instruct-v0.2.Q5_K_M.gguf: 100%"
          }
        },
        "0382a6d2513f4f2b8ca27b05971b9f39": {
          "model_module": "@jupyter-widgets/controls",
          "model_name": "FloatProgressModel",
          "model_module_version": "1.5.0",
          "state": {
            "_dom_classes": [],
            "_model_module": "@jupyter-widgets/controls",
            "_model_module_version": "1.5.0",
            "_model_name": "FloatProgressModel",
            "_view_count": null,
            "_view_module": "@jupyter-widgets/controls",
            "_view_module_version": "1.5.0",
            "_view_name": "ProgressView",
            "bar_style": "success",
            "description": "",
            "description_tooltip": null,
            "layout": "IPY_MODEL_c6fc2d1bb43d428c91a8cef0dfe6f509",
            "max": 5131409696,
            "min": 0,
            "orientation": "horizontal",
            "style": "IPY_MODEL_2a56d3df067940eea6963490cbd8cac9",
            "value": 5131409696
          }
        },
        "6601fdafb373427bbebd954ca47cca1c": {
          "model_module": "@jupyter-widgets/controls",
          "model_name": "HTMLModel",
          "model_module_version": "1.5.0",
          "state": {
            "_dom_classes": [],
            "_model_module": "@jupyter-widgets/controls",
            "_model_module_version": "1.5.0",
            "_model_name": "HTMLModel",
            "_view_count": null,
            "_view_module": "@jupyter-widgets/controls",
            "_view_module_version": "1.5.0",
            "_view_name": "HTMLView",
            "description": "",
            "description_tooltip": null,
            "layout": "IPY_MODEL_524cd234ea2442e5bc4626ec3fb6592d",
            "placeholder": "​",
            "style": "IPY_MODEL_c87b156b932c4b2f8e0f0d361f94f427",
            "value": " 5.13G/5.13G [00:27&lt;00:00, 114MB/s]"
          }
        },
        "ecfc86d58e254ba08e3f432e69ee778e": {
          "model_module": "@jupyter-widgets/base",
          "model_name": "LayoutModel",
          "model_module_version": "1.2.0",
          "state": {
            "_model_module": "@jupyter-widgets/base",
            "_model_module_version": "1.2.0",
            "_model_name": "LayoutModel",
            "_view_count": null,
            "_view_module": "@jupyter-widgets/base",
            "_view_module_version": "1.2.0",
            "_view_name": "LayoutView",
            "align_content": null,
            "align_items": null,
            "align_self": null,
            "border": null,
            "bottom": null,
            "display": null,
            "flex": null,
            "flex_flow": null,
            "grid_area": null,
            "grid_auto_columns": null,
            "grid_auto_flow": null,
            "grid_auto_rows": null,
            "grid_column": null,
            "grid_gap": null,
            "grid_row": null,
            "grid_template_areas": null,
            "grid_template_columns": null,
            "grid_template_rows": null,
            "height": null,
            "justify_content": null,
            "justify_items": null,
            "left": null,
            "margin": null,
            "max_height": null,
            "max_width": null,
            "min_height": null,
            "min_width": null,
            "object_fit": null,
            "object_position": null,
            "order": null,
            "overflow": null,
            "overflow_x": null,
            "overflow_y": null,
            "padding": null,
            "right": null,
            "top": null,
            "visibility": null,
            "width": null
          }
        },
        "b8520e48d2964596a8ecf717559f9b06": {
          "model_module": "@jupyter-widgets/base",
          "model_name": "LayoutModel",
          "model_module_version": "1.2.0",
          "state": {
            "_model_module": "@jupyter-widgets/base",
            "_model_module_version": "1.2.0",
            "_model_name": "LayoutModel",
            "_view_count": null,
            "_view_module": "@jupyter-widgets/base",
            "_view_module_version": "1.2.0",
            "_view_name": "LayoutView",
            "align_content": null,
            "align_items": null,
            "align_self": null,
            "border": null,
            "bottom": null,
            "display": null,
            "flex": null,
            "flex_flow": null,
            "grid_area": null,
            "grid_auto_columns": null,
            "grid_auto_flow": null,
            "grid_auto_rows": null,
            "grid_column": null,
            "grid_gap": null,
            "grid_row": null,
            "grid_template_areas": null,
            "grid_template_columns": null,
            "grid_template_rows": null,
            "height": null,
            "justify_content": null,
            "justify_items": null,
            "left": null,
            "margin": null,
            "max_height": null,
            "max_width": null,
            "min_height": null,
            "min_width": null,
            "object_fit": null,
            "object_position": null,
            "order": null,
            "overflow": null,
            "overflow_x": null,
            "overflow_y": null,
            "padding": null,
            "right": null,
            "top": null,
            "visibility": null,
            "width": null
          }
        },
        "ad9c5365534b4207aee99f1ce85386ee": {
          "model_module": "@jupyter-widgets/controls",
          "model_name": "DescriptionStyleModel",
          "model_module_version": "1.5.0",
          "state": {
            "_model_module": "@jupyter-widgets/controls",
            "_model_module_version": "1.5.0",
            "_model_name": "DescriptionStyleModel",
            "_view_count": null,
            "_view_module": "@jupyter-widgets/base",
            "_view_module_version": "1.2.0",
            "_view_name": "StyleView",
            "description_width": ""
          }
        },
        "c6fc2d1bb43d428c91a8cef0dfe6f509": {
          "model_module": "@jupyter-widgets/base",
          "model_name": "LayoutModel",
          "model_module_version": "1.2.0",
          "state": {
            "_model_module": "@jupyter-widgets/base",
            "_model_module_version": "1.2.0",
            "_model_name": "LayoutModel",
            "_view_count": null,
            "_view_module": "@jupyter-widgets/base",
            "_view_module_version": "1.2.0",
            "_view_name": "LayoutView",
            "align_content": null,
            "align_items": null,
            "align_self": null,
            "border": null,
            "bottom": null,
            "display": null,
            "flex": null,
            "flex_flow": null,
            "grid_area": null,
            "grid_auto_columns": null,
            "grid_auto_flow": null,
            "grid_auto_rows": null,
            "grid_column": null,
            "grid_gap": null,
            "grid_row": null,
            "grid_template_areas": null,
            "grid_template_columns": null,
            "grid_template_rows": null,
            "height": null,
            "justify_content": null,
            "justify_items": null,
            "left": null,
            "margin": null,
            "max_height": null,
            "max_width": null,
            "min_height": null,
            "min_width": null,
            "object_fit": null,
            "object_position": null,
            "order": null,
            "overflow": null,
            "overflow_x": null,
            "overflow_y": null,
            "padding": null,
            "right": null,
            "top": null,
            "visibility": null,
            "width": null
          }
        },
        "2a56d3df067940eea6963490cbd8cac9": {
          "model_module": "@jupyter-widgets/controls",
          "model_name": "ProgressStyleModel",
          "model_module_version": "1.5.0",
          "state": {
            "_model_module": "@jupyter-widgets/controls",
            "_model_module_version": "1.5.0",
            "_model_name": "ProgressStyleModel",
            "_view_count": null,
            "_view_module": "@jupyter-widgets/base",
            "_view_module_version": "1.2.0",
            "_view_name": "StyleView",
            "bar_color": null,
            "description_width": ""
          }
        },
        "524cd234ea2442e5bc4626ec3fb6592d": {
          "model_module": "@jupyter-widgets/base",
          "model_name": "LayoutModel",
          "model_module_version": "1.2.0",
          "state": {
            "_model_module": "@jupyter-widgets/base",
            "_model_module_version": "1.2.0",
            "_model_name": "LayoutModel",
            "_view_count": null,
            "_view_module": "@jupyter-widgets/base",
            "_view_module_version": "1.2.0",
            "_view_name": "LayoutView",
            "align_content": null,
            "align_items": null,
            "align_self": null,
            "border": null,
            "bottom": null,
            "display": null,
            "flex": null,
            "flex_flow": null,
            "grid_area": null,
            "grid_auto_columns": null,
            "grid_auto_flow": null,
            "grid_auto_rows": null,
            "grid_column": null,
            "grid_gap": null,
            "grid_row": null,
            "grid_template_areas": null,
            "grid_template_columns": null,
            "grid_template_rows": null,
            "height": null,
            "justify_content": null,
            "justify_items": null,
            "left": null,
            "margin": null,
            "max_height": null,
            "max_width": null,
            "min_height": null,
            "min_width": null,
            "object_fit": null,
            "object_position": null,
            "order": null,
            "overflow": null,
            "overflow_x": null,
            "overflow_y": null,
            "padding": null,
            "right": null,
            "top": null,
            "visibility": null,
            "width": null
          }
        },
        "c87b156b932c4b2f8e0f0d361f94f427": {
          "model_module": "@jupyter-widgets/controls",
          "model_name": "DescriptionStyleModel",
          "model_module_version": "1.5.0",
          "state": {
            "_model_module": "@jupyter-widgets/controls",
            "_model_module_version": "1.5.0",
            "_model_name": "DescriptionStyleModel",
            "_view_count": null,
            "_view_module": "@jupyter-widgets/base",
            "_view_module_version": "1.2.0",
            "_view_name": "StyleView",
            "description_width": ""
          }
        },
        "34fec57ae5fc4d899d3e1926bc34ae1b": {
          "model_module": "@jupyter-widgets/controls",
          "model_name": "HBoxModel",
          "model_module_version": "1.5.0",
          "state": {
            "_dom_classes": [],
            "_model_module": "@jupyter-widgets/controls",
            "_model_module_version": "1.5.0",
            "_model_name": "HBoxModel",
            "_view_count": null,
            "_view_module": "@jupyter-widgets/controls",
            "_view_module_version": "1.5.0",
            "_view_name": "HBoxView",
            "box_style": "",
            "children": [
              "IPY_MODEL_c8ab266d67b34841acd945590d4417b0",
              "IPY_MODEL_bb608d2bdfe04ae090866371fabf96bf",
              "IPY_MODEL_3c21ca7d82634f4689a058452aaee5c3"
            ],
            "layout": "IPY_MODEL_82f0a0671ded4b898058f13d64ea211d"
          }
        },
        "c8ab266d67b34841acd945590d4417b0": {
          "model_module": "@jupyter-widgets/controls",
          "model_name": "HTMLModel",
          "model_module_version": "1.5.0",
          "state": {
            "_dom_classes": [],
            "_model_module": "@jupyter-widgets/controls",
            "_model_module_version": "1.5.0",
            "_model_name": "HTMLModel",
            "_view_count": null,
            "_view_module": "@jupyter-widgets/controls",
            "_view_module_version": "1.5.0",
            "_view_name": "HTMLView",
            "description": "",
            "description_tooltip": null,
            "layout": "IPY_MODEL_b73115fa4b5c4ea08d72dd8c96dc38f3",
            "placeholder": "​",
            "style": "IPY_MODEL_c99e8a438e28415184f22ab3722a6056",
            "value": "Downloading builder script: 100%"
          }
        },
        "bb608d2bdfe04ae090866371fabf96bf": {
          "model_module": "@jupyter-widgets/controls",
          "model_name": "FloatProgressModel",
          "model_module_version": "1.5.0",
          "state": {
            "_dom_classes": [],
            "_model_module": "@jupyter-widgets/controls",
            "_model_module_version": "1.5.0",
            "_model_name": "FloatProgressModel",
            "_view_count": null,
            "_view_module": "@jupyter-widgets/controls",
            "_view_module_version": "1.5.0",
            "_view_name": "ProgressView",
            "bar_style": "success",
            "description": "",
            "description_tooltip": null,
            "layout": "IPY_MODEL_439403e010f7427c818fa7096e1b0497",
            "max": 7950,
            "min": 0,
            "orientation": "horizontal",
            "style": "IPY_MODEL_11465b3d87ea41d097a7a5453c17f806",
            "value": 7950
          }
        },
        "3c21ca7d82634f4689a058452aaee5c3": {
          "model_module": "@jupyter-widgets/controls",
          "model_name": "HTMLModel",
          "model_module_version": "1.5.0",
          "state": {
            "_dom_classes": [],
            "_model_module": "@jupyter-widgets/controls",
            "_model_module_version": "1.5.0",
            "_model_name": "HTMLModel",
            "_view_count": null,
            "_view_module": "@jupyter-widgets/controls",
            "_view_module_version": "1.5.0",
            "_view_name": "HTMLView",
            "description": "",
            "description_tooltip": null,
            "layout": "IPY_MODEL_ee614128cfc2472b89a3abaa0bd230f4",
            "placeholder": "​",
            "style": "IPY_MODEL_3613bbf45a824b97b3ab5c0172c6459b",
            "value": " 7.95k/7.95k [00:00&lt;00:00, 697kB/s]"
          }
        },
        "82f0a0671ded4b898058f13d64ea211d": {
          "model_module": "@jupyter-widgets/base",
          "model_name": "LayoutModel",
          "model_module_version": "1.2.0",
          "state": {
            "_model_module": "@jupyter-widgets/base",
            "_model_module_version": "1.2.0",
            "_model_name": "LayoutModel",
            "_view_count": null,
            "_view_module": "@jupyter-widgets/base",
            "_view_module_version": "1.2.0",
            "_view_name": "LayoutView",
            "align_content": null,
            "align_items": null,
            "align_self": null,
            "border": null,
            "bottom": null,
            "display": null,
            "flex": null,
            "flex_flow": null,
            "grid_area": null,
            "grid_auto_columns": null,
            "grid_auto_flow": null,
            "grid_auto_rows": null,
            "grid_column": null,
            "grid_gap": null,
            "grid_row": null,
            "grid_template_areas": null,
            "grid_template_columns": null,
            "grid_template_rows": null,
            "height": null,
            "justify_content": null,
            "justify_items": null,
            "left": null,
            "margin": null,
            "max_height": null,
            "max_width": null,
            "min_height": null,
            "min_width": null,
            "object_fit": null,
            "object_position": null,
            "order": null,
            "overflow": null,
            "overflow_x": null,
            "overflow_y": null,
            "padding": null,
            "right": null,
            "top": null,
            "visibility": null,
            "width": null
          }
        },
        "b73115fa4b5c4ea08d72dd8c96dc38f3": {
          "model_module": "@jupyter-widgets/base",
          "model_name": "LayoutModel",
          "model_module_version": "1.2.0",
          "state": {
            "_model_module": "@jupyter-widgets/base",
            "_model_module_version": "1.2.0",
            "_model_name": "LayoutModel",
            "_view_count": null,
            "_view_module": "@jupyter-widgets/base",
            "_view_module_version": "1.2.0",
            "_view_name": "LayoutView",
            "align_content": null,
            "align_items": null,
            "align_self": null,
            "border": null,
            "bottom": null,
            "display": null,
            "flex": null,
            "flex_flow": null,
            "grid_area": null,
            "grid_auto_columns": null,
            "grid_auto_flow": null,
            "grid_auto_rows": null,
            "grid_column": null,
            "grid_gap": null,
            "grid_row": null,
            "grid_template_areas": null,
            "grid_template_columns": null,
            "grid_template_rows": null,
            "height": null,
            "justify_content": null,
            "justify_items": null,
            "left": null,
            "margin": null,
            "max_height": null,
            "max_width": null,
            "min_height": null,
            "min_width": null,
            "object_fit": null,
            "object_position": null,
            "order": null,
            "overflow": null,
            "overflow_x": null,
            "overflow_y": null,
            "padding": null,
            "right": null,
            "top": null,
            "visibility": null,
            "width": null
          }
        },
        "c99e8a438e28415184f22ab3722a6056": {
          "model_module": "@jupyter-widgets/controls",
          "model_name": "DescriptionStyleModel",
          "model_module_version": "1.5.0",
          "state": {
            "_model_module": "@jupyter-widgets/controls",
            "_model_module_version": "1.5.0",
            "_model_name": "DescriptionStyleModel",
            "_view_count": null,
            "_view_module": "@jupyter-widgets/base",
            "_view_module_version": "1.2.0",
            "_view_name": "StyleView",
            "description_width": ""
          }
        },
        "439403e010f7427c818fa7096e1b0497": {
          "model_module": "@jupyter-widgets/base",
          "model_name": "LayoutModel",
          "model_module_version": "1.2.0",
          "state": {
            "_model_module": "@jupyter-widgets/base",
            "_model_module_version": "1.2.0",
            "_model_name": "LayoutModel",
            "_view_count": null,
            "_view_module": "@jupyter-widgets/base",
            "_view_module_version": "1.2.0",
            "_view_name": "LayoutView",
            "align_content": null,
            "align_items": null,
            "align_self": null,
            "border": null,
            "bottom": null,
            "display": null,
            "flex": null,
            "flex_flow": null,
            "grid_area": null,
            "grid_auto_columns": null,
            "grid_auto_flow": null,
            "grid_auto_rows": null,
            "grid_column": null,
            "grid_gap": null,
            "grid_row": null,
            "grid_template_areas": null,
            "grid_template_columns": null,
            "grid_template_rows": null,
            "height": null,
            "justify_content": null,
            "justify_items": null,
            "left": null,
            "margin": null,
            "max_height": null,
            "max_width": null,
            "min_height": null,
            "min_width": null,
            "object_fit": null,
            "object_position": null,
            "order": null,
            "overflow": null,
            "overflow_x": null,
            "overflow_y": null,
            "padding": null,
            "right": null,
            "top": null,
            "visibility": null,
            "width": null
          }
        },
        "11465b3d87ea41d097a7a5453c17f806": {
          "model_module": "@jupyter-widgets/controls",
          "model_name": "ProgressStyleModel",
          "model_module_version": "1.5.0",
          "state": {
            "_model_module": "@jupyter-widgets/controls",
            "_model_module_version": "1.5.0",
            "_model_name": "ProgressStyleModel",
            "_view_count": null,
            "_view_module": "@jupyter-widgets/base",
            "_view_module_version": "1.2.0",
            "_view_name": "StyleView",
            "bar_color": null,
            "description_width": ""
          }
        },
        "ee614128cfc2472b89a3abaa0bd230f4": {
          "model_module": "@jupyter-widgets/base",
          "model_name": "LayoutModel",
          "model_module_version": "1.2.0",
          "state": {
            "_model_module": "@jupyter-widgets/base",
            "_model_module_version": "1.2.0",
            "_model_name": "LayoutModel",
            "_view_count": null,
            "_view_module": "@jupyter-widgets/base",
            "_view_module_version": "1.2.0",
            "_view_name": "LayoutView",
            "align_content": null,
            "align_items": null,
            "align_self": null,
            "border": null,
            "bottom": null,
            "display": null,
            "flex": null,
            "flex_flow": null,
            "grid_area": null,
            "grid_auto_columns": null,
            "grid_auto_flow": null,
            "grid_auto_rows": null,
            "grid_column": null,
            "grid_gap": null,
            "grid_row": null,
            "grid_template_areas": null,
            "grid_template_columns": null,
            "grid_template_rows": null,
            "height": null,
            "justify_content": null,
            "justify_items": null,
            "left": null,
            "margin": null,
            "max_height": null,
            "max_width": null,
            "min_height": null,
            "min_width": null,
            "object_fit": null,
            "object_position": null,
            "order": null,
            "overflow": null,
            "overflow_x": null,
            "overflow_y": null,
            "padding": null,
            "right": null,
            "top": null,
            "visibility": null,
            "width": null
          }
        },
        "3613bbf45a824b97b3ab5c0172c6459b": {
          "model_module": "@jupyter-widgets/controls",
          "model_name": "DescriptionStyleModel",
          "model_module_version": "1.5.0",
          "state": {
            "_model_module": "@jupyter-widgets/controls",
            "_model_module_version": "1.5.0",
            "_model_name": "DescriptionStyleModel",
            "_view_count": null,
            "_view_module": "@jupyter-widgets/base",
            "_view_module_version": "1.2.0",
            "_view_name": "StyleView",
            "description_width": ""
          }
        },
        "b261ad9bea264f729766013ac812c072": {
          "model_module": "@jupyter-widgets/controls",
          "model_name": "HBoxModel",
          "model_module_version": "1.5.0",
          "state": {
            "_dom_classes": [],
            "_model_module": "@jupyter-widgets/controls",
            "_model_module_version": "1.5.0",
            "_model_name": "HBoxModel",
            "_view_count": null,
            "_view_module": "@jupyter-widgets/controls",
            "_view_module_version": "1.5.0",
            "_view_name": "HBoxView",
            "box_style": "",
            "children": [
              "IPY_MODEL_2825f443f33c4243bf3c2e0eca11db99",
              "IPY_MODEL_aabfc907e76d48ac95b5350ab2ac391d",
              "IPY_MODEL_13fb4f6e6f6649f78a2add71dc9e9f23"
            ],
            "layout": "IPY_MODEL_109a7c83be5c415fa4b0d569750cec9e"
          }
        },
        "2825f443f33c4243bf3c2e0eca11db99": {
          "model_module": "@jupyter-widgets/controls",
          "model_name": "HTMLModel",
          "model_module_version": "1.5.0",
          "state": {
            "_dom_classes": [],
            "_model_module": "@jupyter-widgets/controls",
            "_model_module_version": "1.5.0",
            "_model_name": "HTMLModel",
            "_view_count": null,
            "_view_module": "@jupyter-widgets/controls",
            "_view_module_version": "1.5.0",
            "_view_name": "HTMLView",
            "description": "",
            "description_tooltip": null,
            "layout": "IPY_MODEL_745b3d94f0f84119b44adc5d108f282f",
            "placeholder": "​",
            "style": "IPY_MODEL_04887cad5c4e4190b2be469a01507df5",
            "value": "tokenizer_config.json: 100%"
          }
        },
        "aabfc907e76d48ac95b5350ab2ac391d": {
          "model_module": "@jupyter-widgets/controls",
          "model_name": "FloatProgressModel",
          "model_module_version": "1.5.0",
          "state": {
            "_dom_classes": [],
            "_model_module": "@jupyter-widgets/controls",
            "_model_module_version": "1.5.0",
            "_model_name": "FloatProgressModel",
            "_view_count": null,
            "_view_module": "@jupyter-widgets/controls",
            "_view_module_version": "1.5.0",
            "_view_name": "ProgressView",
            "bar_style": "success",
            "description": "",
            "description_tooltip": null,
            "layout": "IPY_MODEL_bee684ec6ab3429783215bb0c84733f7",
            "max": 25,
            "min": 0,
            "orientation": "horizontal",
            "style": "IPY_MODEL_1857a2050c344ea9ad82f21b35fca6f8",
            "value": 25
          }
        },
        "13fb4f6e6f6649f78a2add71dc9e9f23": {
          "model_module": "@jupyter-widgets/controls",
          "model_name": "HTMLModel",
          "model_module_version": "1.5.0",
          "state": {
            "_dom_classes": [],
            "_model_module": "@jupyter-widgets/controls",
            "_model_module_version": "1.5.0",
            "_model_name": "HTMLModel",
            "_view_count": null,
            "_view_module": "@jupyter-widgets/controls",
            "_view_module_version": "1.5.0",
            "_view_name": "HTMLView",
            "description": "",
            "description_tooltip": null,
            "layout": "IPY_MODEL_76efc986f0f242d5aa2bdce9c5c2a12b",
            "placeholder": "​",
            "style": "IPY_MODEL_74f085a408de44c1875981d68167428b",
            "value": " 25.0/25.0 [00:00&lt;00:00, 2.25kB/s]"
          }
        },
        "109a7c83be5c415fa4b0d569750cec9e": {
          "model_module": "@jupyter-widgets/base",
          "model_name": "LayoutModel",
          "model_module_version": "1.2.0",
          "state": {
            "_model_module": "@jupyter-widgets/base",
            "_model_module_version": "1.2.0",
            "_model_name": "LayoutModel",
            "_view_count": null,
            "_view_module": "@jupyter-widgets/base",
            "_view_module_version": "1.2.0",
            "_view_name": "LayoutView",
            "align_content": null,
            "align_items": null,
            "align_self": null,
            "border": null,
            "bottom": null,
            "display": null,
            "flex": null,
            "flex_flow": null,
            "grid_area": null,
            "grid_auto_columns": null,
            "grid_auto_flow": null,
            "grid_auto_rows": null,
            "grid_column": null,
            "grid_gap": null,
            "grid_row": null,
            "grid_template_areas": null,
            "grid_template_columns": null,
            "grid_template_rows": null,
            "height": null,
            "justify_content": null,
            "justify_items": null,
            "left": null,
            "margin": null,
            "max_height": null,
            "max_width": null,
            "min_height": null,
            "min_width": null,
            "object_fit": null,
            "object_position": null,
            "order": null,
            "overflow": null,
            "overflow_x": null,
            "overflow_y": null,
            "padding": null,
            "right": null,
            "top": null,
            "visibility": null,
            "width": null
          }
        },
        "745b3d94f0f84119b44adc5d108f282f": {
          "model_module": "@jupyter-widgets/base",
          "model_name": "LayoutModel",
          "model_module_version": "1.2.0",
          "state": {
            "_model_module": "@jupyter-widgets/base",
            "_model_module_version": "1.2.0",
            "_model_name": "LayoutModel",
            "_view_count": null,
            "_view_module": "@jupyter-widgets/base",
            "_view_module_version": "1.2.0",
            "_view_name": "LayoutView",
            "align_content": null,
            "align_items": null,
            "align_self": null,
            "border": null,
            "bottom": null,
            "display": null,
            "flex": null,
            "flex_flow": null,
            "grid_area": null,
            "grid_auto_columns": null,
            "grid_auto_flow": null,
            "grid_auto_rows": null,
            "grid_column": null,
            "grid_gap": null,
            "grid_row": null,
            "grid_template_areas": null,
            "grid_template_columns": null,
            "grid_template_rows": null,
            "height": null,
            "justify_content": null,
            "justify_items": null,
            "left": null,
            "margin": null,
            "max_height": null,
            "max_width": null,
            "min_height": null,
            "min_width": null,
            "object_fit": null,
            "object_position": null,
            "order": null,
            "overflow": null,
            "overflow_x": null,
            "overflow_y": null,
            "padding": null,
            "right": null,
            "top": null,
            "visibility": null,
            "width": null
          }
        },
        "04887cad5c4e4190b2be469a01507df5": {
          "model_module": "@jupyter-widgets/controls",
          "model_name": "DescriptionStyleModel",
          "model_module_version": "1.5.0",
          "state": {
            "_model_module": "@jupyter-widgets/controls",
            "_model_module_version": "1.5.0",
            "_model_name": "DescriptionStyleModel",
            "_view_count": null,
            "_view_module": "@jupyter-widgets/base",
            "_view_module_version": "1.2.0",
            "_view_name": "StyleView",
            "description_width": ""
          }
        },
        "bee684ec6ab3429783215bb0c84733f7": {
          "model_module": "@jupyter-widgets/base",
          "model_name": "LayoutModel",
          "model_module_version": "1.2.0",
          "state": {
            "_model_module": "@jupyter-widgets/base",
            "_model_module_version": "1.2.0",
            "_model_name": "LayoutModel",
            "_view_count": null,
            "_view_module": "@jupyter-widgets/base",
            "_view_module_version": "1.2.0",
            "_view_name": "LayoutView",
            "align_content": null,
            "align_items": null,
            "align_self": null,
            "border": null,
            "bottom": null,
            "display": null,
            "flex": null,
            "flex_flow": null,
            "grid_area": null,
            "grid_auto_columns": null,
            "grid_auto_flow": null,
            "grid_auto_rows": null,
            "grid_column": null,
            "grid_gap": null,
            "grid_row": null,
            "grid_template_areas": null,
            "grid_template_columns": null,
            "grid_template_rows": null,
            "height": null,
            "justify_content": null,
            "justify_items": null,
            "left": null,
            "margin": null,
            "max_height": null,
            "max_width": null,
            "min_height": null,
            "min_width": null,
            "object_fit": null,
            "object_position": null,
            "order": null,
            "overflow": null,
            "overflow_x": null,
            "overflow_y": null,
            "padding": null,
            "right": null,
            "top": null,
            "visibility": null,
            "width": null
          }
        },
        "1857a2050c344ea9ad82f21b35fca6f8": {
          "model_module": "@jupyter-widgets/controls",
          "model_name": "ProgressStyleModel",
          "model_module_version": "1.5.0",
          "state": {
            "_model_module": "@jupyter-widgets/controls",
            "_model_module_version": "1.5.0",
            "_model_name": "ProgressStyleModel",
            "_view_count": null,
            "_view_module": "@jupyter-widgets/base",
            "_view_module_version": "1.2.0",
            "_view_name": "StyleView",
            "bar_color": null,
            "description_width": ""
          }
        },
        "76efc986f0f242d5aa2bdce9c5c2a12b": {
          "model_module": "@jupyter-widgets/base",
          "model_name": "LayoutModel",
          "model_module_version": "1.2.0",
          "state": {
            "_model_module": "@jupyter-widgets/base",
            "_model_module_version": "1.2.0",
            "_model_name": "LayoutModel",
            "_view_count": null,
            "_view_module": "@jupyter-widgets/base",
            "_view_module_version": "1.2.0",
            "_view_name": "LayoutView",
            "align_content": null,
            "align_items": null,
            "align_self": null,
            "border": null,
            "bottom": null,
            "display": null,
            "flex": null,
            "flex_flow": null,
            "grid_area": null,
            "grid_auto_columns": null,
            "grid_auto_flow": null,
            "grid_auto_rows": null,
            "grid_column": null,
            "grid_gap": null,
            "grid_row": null,
            "grid_template_areas": null,
            "grid_template_columns": null,
            "grid_template_rows": null,
            "height": null,
            "justify_content": null,
            "justify_items": null,
            "left": null,
            "margin": null,
            "max_height": null,
            "max_width": null,
            "min_height": null,
            "min_width": null,
            "object_fit": null,
            "object_position": null,
            "order": null,
            "overflow": null,
            "overflow_x": null,
            "overflow_y": null,
            "padding": null,
            "right": null,
            "top": null,
            "visibility": null,
            "width": null
          }
        },
        "74f085a408de44c1875981d68167428b": {
          "model_module": "@jupyter-widgets/controls",
          "model_name": "DescriptionStyleModel",
          "model_module_version": "1.5.0",
          "state": {
            "_model_module": "@jupyter-widgets/controls",
            "_model_module_version": "1.5.0",
            "_model_name": "DescriptionStyleModel",
            "_view_count": null,
            "_view_module": "@jupyter-widgets/base",
            "_view_module_version": "1.2.0",
            "_view_name": "StyleView",
            "description_width": ""
          }
        },
        "521be7a40a154143b0e96c50750ae12a": {
          "model_module": "@jupyter-widgets/controls",
          "model_name": "HBoxModel",
          "model_module_version": "1.5.0",
          "state": {
            "_dom_classes": [],
            "_model_module": "@jupyter-widgets/controls",
            "_model_module_version": "1.5.0",
            "_model_name": "HBoxModel",
            "_view_count": null,
            "_view_module": "@jupyter-widgets/controls",
            "_view_module_version": "1.5.0",
            "_view_name": "HBoxView",
            "box_style": "",
            "children": [
              "IPY_MODEL_f66ce4f871c54d4db3d56618f83e7d6b",
              "IPY_MODEL_fe97753c13df4947a9652396409324ae",
              "IPY_MODEL_4d9dcecde0a645a3895a55151eac7a06"
            ],
            "layout": "IPY_MODEL_ce65e26646b045718a5f75634a0b1303"
          }
        },
        "f66ce4f871c54d4db3d56618f83e7d6b": {
          "model_module": "@jupyter-widgets/controls",
          "model_name": "HTMLModel",
          "model_module_version": "1.5.0",
          "state": {
            "_dom_classes": [],
            "_model_module": "@jupyter-widgets/controls",
            "_model_module_version": "1.5.0",
            "_model_name": "HTMLModel",
            "_view_count": null,
            "_view_module": "@jupyter-widgets/controls",
            "_view_module_version": "1.5.0",
            "_view_name": "HTMLView",
            "description": "",
            "description_tooltip": null,
            "layout": "IPY_MODEL_678c176a233249f797ded578a68ffe4f",
            "placeholder": "​",
            "style": "IPY_MODEL_6b659028f330490d872dbd3b017c8e48",
            "value": "config.json: 100%"
          }
        },
        "fe97753c13df4947a9652396409324ae": {
          "model_module": "@jupyter-widgets/controls",
          "model_name": "FloatProgressModel",
          "model_module_version": "1.5.0",
          "state": {
            "_dom_classes": [],
            "_model_module": "@jupyter-widgets/controls",
            "_model_module_version": "1.5.0",
            "_model_name": "FloatProgressModel",
            "_view_count": null,
            "_view_module": "@jupyter-widgets/controls",
            "_view_module_version": "1.5.0",
            "_view_name": "ProgressView",
            "bar_style": "success",
            "description": "",
            "description_tooltip": null,
            "layout": "IPY_MODEL_3b0820a8179d4a5eb0a3e98b504afb7e",
            "max": 482,
            "min": 0,
            "orientation": "horizontal",
            "style": "IPY_MODEL_6bfb064cf8ed40fc9e4d5f2208630636",
            "value": 482
          }
        },
        "4d9dcecde0a645a3895a55151eac7a06": {
          "model_module": "@jupyter-widgets/controls",
          "model_name": "HTMLModel",
          "model_module_version": "1.5.0",
          "state": {
            "_dom_classes": [],
            "_model_module": "@jupyter-widgets/controls",
            "_model_module_version": "1.5.0",
            "_model_name": "HTMLModel",
            "_view_count": null,
            "_view_module": "@jupyter-widgets/controls",
            "_view_module_version": "1.5.0",
            "_view_name": "HTMLView",
            "description": "",
            "description_tooltip": null,
            "layout": "IPY_MODEL_8174ad412cd34b5d9dccf1def9a37441",
            "placeholder": "​",
            "style": "IPY_MODEL_a9b975e3a8934e70b89897353307fa2a",
            "value": " 482/482 [00:00&lt;00:00, 40.5kB/s]"
          }
        },
        "ce65e26646b045718a5f75634a0b1303": {
          "model_module": "@jupyter-widgets/base",
          "model_name": "LayoutModel",
          "model_module_version": "1.2.0",
          "state": {
            "_model_module": "@jupyter-widgets/base",
            "_model_module_version": "1.2.0",
            "_model_name": "LayoutModel",
            "_view_count": null,
            "_view_module": "@jupyter-widgets/base",
            "_view_module_version": "1.2.0",
            "_view_name": "LayoutView",
            "align_content": null,
            "align_items": null,
            "align_self": null,
            "border": null,
            "bottom": null,
            "display": null,
            "flex": null,
            "flex_flow": null,
            "grid_area": null,
            "grid_auto_columns": null,
            "grid_auto_flow": null,
            "grid_auto_rows": null,
            "grid_column": null,
            "grid_gap": null,
            "grid_row": null,
            "grid_template_areas": null,
            "grid_template_columns": null,
            "grid_template_rows": null,
            "height": null,
            "justify_content": null,
            "justify_items": null,
            "left": null,
            "margin": null,
            "max_height": null,
            "max_width": null,
            "min_height": null,
            "min_width": null,
            "object_fit": null,
            "object_position": null,
            "order": null,
            "overflow": null,
            "overflow_x": null,
            "overflow_y": null,
            "padding": null,
            "right": null,
            "top": null,
            "visibility": null,
            "width": null
          }
        },
        "678c176a233249f797ded578a68ffe4f": {
          "model_module": "@jupyter-widgets/base",
          "model_name": "LayoutModel",
          "model_module_version": "1.2.0",
          "state": {
            "_model_module": "@jupyter-widgets/base",
            "_model_module_version": "1.2.0",
            "_model_name": "LayoutModel",
            "_view_count": null,
            "_view_module": "@jupyter-widgets/base",
            "_view_module_version": "1.2.0",
            "_view_name": "LayoutView",
            "align_content": null,
            "align_items": null,
            "align_self": null,
            "border": null,
            "bottom": null,
            "display": null,
            "flex": null,
            "flex_flow": null,
            "grid_area": null,
            "grid_auto_columns": null,
            "grid_auto_flow": null,
            "grid_auto_rows": null,
            "grid_column": null,
            "grid_gap": null,
            "grid_row": null,
            "grid_template_areas": null,
            "grid_template_columns": null,
            "grid_template_rows": null,
            "height": null,
            "justify_content": null,
            "justify_items": null,
            "left": null,
            "margin": null,
            "max_height": null,
            "max_width": null,
            "min_height": null,
            "min_width": null,
            "object_fit": null,
            "object_position": null,
            "order": null,
            "overflow": null,
            "overflow_x": null,
            "overflow_y": null,
            "padding": null,
            "right": null,
            "top": null,
            "visibility": null,
            "width": null
          }
        },
        "6b659028f330490d872dbd3b017c8e48": {
          "model_module": "@jupyter-widgets/controls",
          "model_name": "DescriptionStyleModel",
          "model_module_version": "1.5.0",
          "state": {
            "_model_module": "@jupyter-widgets/controls",
            "_model_module_version": "1.5.0",
            "_model_name": "DescriptionStyleModel",
            "_view_count": null,
            "_view_module": "@jupyter-widgets/base",
            "_view_module_version": "1.2.0",
            "_view_name": "StyleView",
            "description_width": ""
          }
        },
        "3b0820a8179d4a5eb0a3e98b504afb7e": {
          "model_module": "@jupyter-widgets/base",
          "model_name": "LayoutModel",
          "model_module_version": "1.2.0",
          "state": {
            "_model_module": "@jupyter-widgets/base",
            "_model_module_version": "1.2.0",
            "_model_name": "LayoutModel",
            "_view_count": null,
            "_view_module": "@jupyter-widgets/base",
            "_view_module_version": "1.2.0",
            "_view_name": "LayoutView",
            "align_content": null,
            "align_items": null,
            "align_self": null,
            "border": null,
            "bottom": null,
            "display": null,
            "flex": null,
            "flex_flow": null,
            "grid_area": null,
            "grid_auto_columns": null,
            "grid_auto_flow": null,
            "grid_auto_rows": null,
            "grid_column": null,
            "grid_gap": null,
            "grid_row": null,
            "grid_template_areas": null,
            "grid_template_columns": null,
            "grid_template_rows": null,
            "height": null,
            "justify_content": null,
            "justify_items": null,
            "left": null,
            "margin": null,
            "max_height": null,
            "max_width": null,
            "min_height": null,
            "min_width": null,
            "object_fit": null,
            "object_position": null,
            "order": null,
            "overflow": null,
            "overflow_x": null,
            "overflow_y": null,
            "padding": null,
            "right": null,
            "top": null,
            "visibility": null,
            "width": null
          }
        },
        "6bfb064cf8ed40fc9e4d5f2208630636": {
          "model_module": "@jupyter-widgets/controls",
          "model_name": "ProgressStyleModel",
          "model_module_version": "1.5.0",
          "state": {
            "_model_module": "@jupyter-widgets/controls",
            "_model_module_version": "1.5.0",
            "_model_name": "ProgressStyleModel",
            "_view_count": null,
            "_view_module": "@jupyter-widgets/base",
            "_view_module_version": "1.2.0",
            "_view_name": "StyleView",
            "bar_color": null,
            "description_width": ""
          }
        },
        "8174ad412cd34b5d9dccf1def9a37441": {
          "model_module": "@jupyter-widgets/base",
          "model_name": "LayoutModel",
          "model_module_version": "1.2.0",
          "state": {
            "_model_module": "@jupyter-widgets/base",
            "_model_module_version": "1.2.0",
            "_model_name": "LayoutModel",
            "_view_count": null,
            "_view_module": "@jupyter-widgets/base",
            "_view_module_version": "1.2.0",
            "_view_name": "LayoutView",
            "align_content": null,
            "align_items": null,
            "align_self": null,
            "border": null,
            "bottom": null,
            "display": null,
            "flex": null,
            "flex_flow": null,
            "grid_area": null,
            "grid_auto_columns": null,
            "grid_auto_flow": null,
            "grid_auto_rows": null,
            "grid_column": null,
            "grid_gap": null,
            "grid_row": null,
            "grid_template_areas": null,
            "grid_template_columns": null,
            "grid_template_rows": null,
            "height": null,
            "justify_content": null,
            "justify_items": null,
            "left": null,
            "margin": null,
            "max_height": null,
            "max_width": null,
            "min_height": null,
            "min_width": null,
            "object_fit": null,
            "object_position": null,
            "order": null,
            "overflow": null,
            "overflow_x": null,
            "overflow_y": null,
            "padding": null,
            "right": null,
            "top": null,
            "visibility": null,
            "width": null
          }
        },
        "a9b975e3a8934e70b89897353307fa2a": {
          "model_module": "@jupyter-widgets/controls",
          "model_name": "DescriptionStyleModel",
          "model_module_version": "1.5.0",
          "state": {
            "_model_module": "@jupyter-widgets/controls",
            "_model_module_version": "1.5.0",
            "_model_name": "DescriptionStyleModel",
            "_view_count": null,
            "_view_module": "@jupyter-widgets/base",
            "_view_module_version": "1.2.0",
            "_view_name": "StyleView",
            "description_width": ""
          }
        },
        "f294a93576604c58b6ab81bf254ff473": {
          "model_module": "@jupyter-widgets/controls",
          "model_name": "HBoxModel",
          "model_module_version": "1.5.0",
          "state": {
            "_dom_classes": [],
            "_model_module": "@jupyter-widgets/controls",
            "_model_module_version": "1.5.0",
            "_model_name": "HBoxModel",
            "_view_count": null,
            "_view_module": "@jupyter-widgets/controls",
            "_view_module_version": "1.5.0",
            "_view_name": "HBoxView",
            "box_style": "",
            "children": [
              "IPY_MODEL_edd4df1a5a2f433c97f788f353f9d276",
              "IPY_MODEL_0936f081a346496183326acfb3917893",
              "IPY_MODEL_258338d22a9f42278d0618484a5d1d9d"
            ],
            "layout": "IPY_MODEL_999c52d0cf7a4972baa1d433c95fadf2"
          }
        },
        "edd4df1a5a2f433c97f788f353f9d276": {
          "model_module": "@jupyter-widgets/controls",
          "model_name": "HTMLModel",
          "model_module_version": "1.5.0",
          "state": {
            "_dom_classes": [],
            "_model_module": "@jupyter-widgets/controls",
            "_model_module_version": "1.5.0",
            "_model_name": "HTMLModel",
            "_view_count": null,
            "_view_module": "@jupyter-widgets/controls",
            "_view_module_version": "1.5.0",
            "_view_name": "HTMLView",
            "description": "",
            "description_tooltip": null,
            "layout": "IPY_MODEL_4e1badc6c9664944b88d3a55b577261a",
            "placeholder": "​",
            "style": "IPY_MODEL_8dc758126ab3419292c98d650311b6bd",
            "value": "vocab.json: 100%"
          }
        },
        "0936f081a346496183326acfb3917893": {
          "model_module": "@jupyter-widgets/controls",
          "model_name": "FloatProgressModel",
          "model_module_version": "1.5.0",
          "state": {
            "_dom_classes": [],
            "_model_module": "@jupyter-widgets/controls",
            "_model_module_version": "1.5.0",
            "_model_name": "FloatProgressModel",
            "_view_count": null,
            "_view_module": "@jupyter-widgets/controls",
            "_view_module_version": "1.5.0",
            "_view_name": "ProgressView",
            "bar_style": "success",
            "description": "",
            "description_tooltip": null,
            "layout": "IPY_MODEL_134bfebbad214669a183230e511e4384",
            "max": 898823,
            "min": 0,
            "orientation": "horizontal",
            "style": "IPY_MODEL_63dd8071d5274999903e90138ca05b3e",
            "value": 898823
          }
        },
        "258338d22a9f42278d0618484a5d1d9d": {
          "model_module": "@jupyter-widgets/controls",
          "model_name": "HTMLModel",
          "model_module_version": "1.5.0",
          "state": {
            "_dom_classes": [],
            "_model_module": "@jupyter-widgets/controls",
            "_model_module_version": "1.5.0",
            "_model_name": "HTMLModel",
            "_view_count": null,
            "_view_module": "@jupyter-widgets/controls",
            "_view_module_version": "1.5.0",
            "_view_name": "HTMLView",
            "description": "",
            "description_tooltip": null,
            "layout": "IPY_MODEL_a4cab58b17cd46b9a68a732943e2d08b",
            "placeholder": "​",
            "style": "IPY_MODEL_906d08a89e6e435daa030c5c97f472a5",
            "value": " 899k/899k [00:00&lt;00:00, 3.85MB/s]"
          }
        },
        "999c52d0cf7a4972baa1d433c95fadf2": {
          "model_module": "@jupyter-widgets/base",
          "model_name": "LayoutModel",
          "model_module_version": "1.2.0",
          "state": {
            "_model_module": "@jupyter-widgets/base",
            "_model_module_version": "1.2.0",
            "_model_name": "LayoutModel",
            "_view_count": null,
            "_view_module": "@jupyter-widgets/base",
            "_view_module_version": "1.2.0",
            "_view_name": "LayoutView",
            "align_content": null,
            "align_items": null,
            "align_self": null,
            "border": null,
            "bottom": null,
            "display": null,
            "flex": null,
            "flex_flow": null,
            "grid_area": null,
            "grid_auto_columns": null,
            "grid_auto_flow": null,
            "grid_auto_rows": null,
            "grid_column": null,
            "grid_gap": null,
            "grid_row": null,
            "grid_template_areas": null,
            "grid_template_columns": null,
            "grid_template_rows": null,
            "height": null,
            "justify_content": null,
            "justify_items": null,
            "left": null,
            "margin": null,
            "max_height": null,
            "max_width": null,
            "min_height": null,
            "min_width": null,
            "object_fit": null,
            "object_position": null,
            "order": null,
            "overflow": null,
            "overflow_x": null,
            "overflow_y": null,
            "padding": null,
            "right": null,
            "top": null,
            "visibility": null,
            "width": null
          }
        },
        "4e1badc6c9664944b88d3a55b577261a": {
          "model_module": "@jupyter-widgets/base",
          "model_name": "LayoutModel",
          "model_module_version": "1.2.0",
          "state": {
            "_model_module": "@jupyter-widgets/base",
            "_model_module_version": "1.2.0",
            "_model_name": "LayoutModel",
            "_view_count": null,
            "_view_module": "@jupyter-widgets/base",
            "_view_module_version": "1.2.0",
            "_view_name": "LayoutView",
            "align_content": null,
            "align_items": null,
            "align_self": null,
            "border": null,
            "bottom": null,
            "display": null,
            "flex": null,
            "flex_flow": null,
            "grid_area": null,
            "grid_auto_columns": null,
            "grid_auto_flow": null,
            "grid_auto_rows": null,
            "grid_column": null,
            "grid_gap": null,
            "grid_row": null,
            "grid_template_areas": null,
            "grid_template_columns": null,
            "grid_template_rows": null,
            "height": null,
            "justify_content": null,
            "justify_items": null,
            "left": null,
            "margin": null,
            "max_height": null,
            "max_width": null,
            "min_height": null,
            "min_width": null,
            "object_fit": null,
            "object_position": null,
            "order": null,
            "overflow": null,
            "overflow_x": null,
            "overflow_y": null,
            "padding": null,
            "right": null,
            "top": null,
            "visibility": null,
            "width": null
          }
        },
        "8dc758126ab3419292c98d650311b6bd": {
          "model_module": "@jupyter-widgets/controls",
          "model_name": "DescriptionStyleModel",
          "model_module_version": "1.5.0",
          "state": {
            "_model_module": "@jupyter-widgets/controls",
            "_model_module_version": "1.5.0",
            "_model_name": "DescriptionStyleModel",
            "_view_count": null,
            "_view_module": "@jupyter-widgets/base",
            "_view_module_version": "1.2.0",
            "_view_name": "StyleView",
            "description_width": ""
          }
        },
        "134bfebbad214669a183230e511e4384": {
          "model_module": "@jupyter-widgets/base",
          "model_name": "LayoutModel",
          "model_module_version": "1.2.0",
          "state": {
            "_model_module": "@jupyter-widgets/base",
            "_model_module_version": "1.2.0",
            "_model_name": "LayoutModel",
            "_view_count": null,
            "_view_module": "@jupyter-widgets/base",
            "_view_module_version": "1.2.0",
            "_view_name": "LayoutView",
            "align_content": null,
            "align_items": null,
            "align_self": null,
            "border": null,
            "bottom": null,
            "display": null,
            "flex": null,
            "flex_flow": null,
            "grid_area": null,
            "grid_auto_columns": null,
            "grid_auto_flow": null,
            "grid_auto_rows": null,
            "grid_column": null,
            "grid_gap": null,
            "grid_row": null,
            "grid_template_areas": null,
            "grid_template_columns": null,
            "grid_template_rows": null,
            "height": null,
            "justify_content": null,
            "justify_items": null,
            "left": null,
            "margin": null,
            "max_height": null,
            "max_width": null,
            "min_height": null,
            "min_width": null,
            "object_fit": null,
            "object_position": null,
            "order": null,
            "overflow": null,
            "overflow_x": null,
            "overflow_y": null,
            "padding": null,
            "right": null,
            "top": null,
            "visibility": null,
            "width": null
          }
        },
        "63dd8071d5274999903e90138ca05b3e": {
          "model_module": "@jupyter-widgets/controls",
          "model_name": "ProgressStyleModel",
          "model_module_version": "1.5.0",
          "state": {
            "_model_module": "@jupyter-widgets/controls",
            "_model_module_version": "1.5.0",
            "_model_name": "ProgressStyleModel",
            "_view_count": null,
            "_view_module": "@jupyter-widgets/base",
            "_view_module_version": "1.2.0",
            "_view_name": "StyleView",
            "bar_color": null,
            "description_width": ""
          }
        },
        "a4cab58b17cd46b9a68a732943e2d08b": {
          "model_module": "@jupyter-widgets/base",
          "model_name": "LayoutModel",
          "model_module_version": "1.2.0",
          "state": {
            "_model_module": "@jupyter-widgets/base",
            "_model_module_version": "1.2.0",
            "_model_name": "LayoutModel",
            "_view_count": null,
            "_view_module": "@jupyter-widgets/base",
            "_view_module_version": "1.2.0",
            "_view_name": "LayoutView",
            "align_content": null,
            "align_items": null,
            "align_self": null,
            "border": null,
            "bottom": null,
            "display": null,
            "flex": null,
            "flex_flow": null,
            "grid_area": null,
            "grid_auto_columns": null,
            "grid_auto_flow": null,
            "grid_auto_rows": null,
            "grid_column": null,
            "grid_gap": null,
            "grid_row": null,
            "grid_template_areas": null,
            "grid_template_columns": null,
            "grid_template_rows": null,
            "height": null,
            "justify_content": null,
            "justify_items": null,
            "left": null,
            "margin": null,
            "max_height": null,
            "max_width": null,
            "min_height": null,
            "min_width": null,
            "object_fit": null,
            "object_position": null,
            "order": null,
            "overflow": null,
            "overflow_x": null,
            "overflow_y": null,
            "padding": null,
            "right": null,
            "top": null,
            "visibility": null,
            "width": null
          }
        },
        "906d08a89e6e435daa030c5c97f472a5": {
          "model_module": "@jupyter-widgets/controls",
          "model_name": "DescriptionStyleModel",
          "model_module_version": "1.5.0",
          "state": {
            "_model_module": "@jupyter-widgets/controls",
            "_model_module_version": "1.5.0",
            "_model_name": "DescriptionStyleModel",
            "_view_count": null,
            "_view_module": "@jupyter-widgets/base",
            "_view_module_version": "1.2.0",
            "_view_name": "StyleView",
            "description_width": ""
          }
        },
        "804a7bbe221b45b8a7abb0c4b18266c3": {
          "model_module": "@jupyter-widgets/controls",
          "model_name": "HBoxModel",
          "model_module_version": "1.5.0",
          "state": {
            "_dom_classes": [],
            "_model_module": "@jupyter-widgets/controls",
            "_model_module_version": "1.5.0",
            "_model_name": "HBoxModel",
            "_view_count": null,
            "_view_module": "@jupyter-widgets/controls",
            "_view_module_version": "1.5.0",
            "_view_name": "HBoxView",
            "box_style": "",
            "children": [
              "IPY_MODEL_118467f8b59443beabcd4fc1c0117bf7",
              "IPY_MODEL_dd56d52e5db24021b29c6a5602e0c3fd",
              "IPY_MODEL_8bd9c641e0e948c098a9e6e513f1d8bd"
            ],
            "layout": "IPY_MODEL_7dbf58e933d04d31ad586fd6bf50455b"
          }
        },
        "118467f8b59443beabcd4fc1c0117bf7": {
          "model_module": "@jupyter-widgets/controls",
          "model_name": "HTMLModel",
          "model_module_version": "1.5.0",
          "state": {
            "_dom_classes": [],
            "_model_module": "@jupyter-widgets/controls",
            "_model_module_version": "1.5.0",
            "_model_name": "HTMLModel",
            "_view_count": null,
            "_view_module": "@jupyter-widgets/controls",
            "_view_module_version": "1.5.0",
            "_view_name": "HTMLView",
            "description": "",
            "description_tooltip": null,
            "layout": "IPY_MODEL_e82c3d7a774e4e1eae4f4af400c903d3",
            "placeholder": "​",
            "style": "IPY_MODEL_7266f87cd039462cbedec4bb85376152",
            "value": "merges.txt: 100%"
          }
        },
        "dd56d52e5db24021b29c6a5602e0c3fd": {
          "model_module": "@jupyter-widgets/controls",
          "model_name": "FloatProgressModel",
          "model_module_version": "1.5.0",
          "state": {
            "_dom_classes": [],
            "_model_module": "@jupyter-widgets/controls",
            "_model_module_version": "1.5.0",
            "_model_name": "FloatProgressModel",
            "_view_count": null,
            "_view_module": "@jupyter-widgets/controls",
            "_view_module_version": "1.5.0",
            "_view_name": "ProgressView",
            "bar_style": "success",
            "description": "",
            "description_tooltip": null,
            "layout": "IPY_MODEL_3fa2a8e1984e433dbe8e89ab5a9a62dc",
            "max": 456318,
            "min": 0,
            "orientation": "horizontal",
            "style": "IPY_MODEL_ad657eddc033473b8a698a8a4a6c6a2b",
            "value": 456318
          }
        },
        "8bd9c641e0e948c098a9e6e513f1d8bd": {
          "model_module": "@jupyter-widgets/controls",
          "model_name": "HTMLModel",
          "model_module_version": "1.5.0",
          "state": {
            "_dom_classes": [],
            "_model_module": "@jupyter-widgets/controls",
            "_model_module_version": "1.5.0",
            "_model_name": "HTMLModel",
            "_view_count": null,
            "_view_module": "@jupyter-widgets/controls",
            "_view_module_version": "1.5.0",
            "_view_name": "HTMLView",
            "description": "",
            "description_tooltip": null,
            "layout": "IPY_MODEL_71a3f579c6aa4e84aec4beefdbaf8850",
            "placeholder": "​",
            "style": "IPY_MODEL_88f0bb41740145a486924b846fc8debd",
            "value": " 456k/456k [00:00&lt;00:00, 1.09MB/s]"
          }
        },
        "7dbf58e933d04d31ad586fd6bf50455b": {
          "model_module": "@jupyter-widgets/base",
          "model_name": "LayoutModel",
          "model_module_version": "1.2.0",
          "state": {
            "_model_module": "@jupyter-widgets/base",
            "_model_module_version": "1.2.0",
            "_model_name": "LayoutModel",
            "_view_count": null,
            "_view_module": "@jupyter-widgets/base",
            "_view_module_version": "1.2.0",
            "_view_name": "LayoutView",
            "align_content": null,
            "align_items": null,
            "align_self": null,
            "border": null,
            "bottom": null,
            "display": null,
            "flex": null,
            "flex_flow": null,
            "grid_area": null,
            "grid_auto_columns": null,
            "grid_auto_flow": null,
            "grid_auto_rows": null,
            "grid_column": null,
            "grid_gap": null,
            "grid_row": null,
            "grid_template_areas": null,
            "grid_template_columns": null,
            "grid_template_rows": null,
            "height": null,
            "justify_content": null,
            "justify_items": null,
            "left": null,
            "margin": null,
            "max_height": null,
            "max_width": null,
            "min_height": null,
            "min_width": null,
            "object_fit": null,
            "object_position": null,
            "order": null,
            "overflow": null,
            "overflow_x": null,
            "overflow_y": null,
            "padding": null,
            "right": null,
            "top": null,
            "visibility": null,
            "width": null
          }
        },
        "e82c3d7a774e4e1eae4f4af400c903d3": {
          "model_module": "@jupyter-widgets/base",
          "model_name": "LayoutModel",
          "model_module_version": "1.2.0",
          "state": {
            "_model_module": "@jupyter-widgets/base",
            "_model_module_version": "1.2.0",
            "_model_name": "LayoutModel",
            "_view_count": null,
            "_view_module": "@jupyter-widgets/base",
            "_view_module_version": "1.2.0",
            "_view_name": "LayoutView",
            "align_content": null,
            "align_items": null,
            "align_self": null,
            "border": null,
            "bottom": null,
            "display": null,
            "flex": null,
            "flex_flow": null,
            "grid_area": null,
            "grid_auto_columns": null,
            "grid_auto_flow": null,
            "grid_auto_rows": null,
            "grid_column": null,
            "grid_gap": null,
            "grid_row": null,
            "grid_template_areas": null,
            "grid_template_columns": null,
            "grid_template_rows": null,
            "height": null,
            "justify_content": null,
            "justify_items": null,
            "left": null,
            "margin": null,
            "max_height": null,
            "max_width": null,
            "min_height": null,
            "min_width": null,
            "object_fit": null,
            "object_position": null,
            "order": null,
            "overflow": null,
            "overflow_x": null,
            "overflow_y": null,
            "padding": null,
            "right": null,
            "top": null,
            "visibility": null,
            "width": null
          }
        },
        "7266f87cd039462cbedec4bb85376152": {
          "model_module": "@jupyter-widgets/controls",
          "model_name": "DescriptionStyleModel",
          "model_module_version": "1.5.0",
          "state": {
            "_model_module": "@jupyter-widgets/controls",
            "_model_module_version": "1.5.0",
            "_model_name": "DescriptionStyleModel",
            "_view_count": null,
            "_view_module": "@jupyter-widgets/base",
            "_view_module_version": "1.2.0",
            "_view_name": "StyleView",
            "description_width": ""
          }
        },
        "3fa2a8e1984e433dbe8e89ab5a9a62dc": {
          "model_module": "@jupyter-widgets/base",
          "model_name": "LayoutModel",
          "model_module_version": "1.2.0",
          "state": {
            "_model_module": "@jupyter-widgets/base",
            "_model_module_version": "1.2.0",
            "_model_name": "LayoutModel",
            "_view_count": null,
            "_view_module": "@jupyter-widgets/base",
            "_view_module_version": "1.2.0",
            "_view_name": "LayoutView",
            "align_content": null,
            "align_items": null,
            "align_self": null,
            "border": null,
            "bottom": null,
            "display": null,
            "flex": null,
            "flex_flow": null,
            "grid_area": null,
            "grid_auto_columns": null,
            "grid_auto_flow": null,
            "grid_auto_rows": null,
            "grid_column": null,
            "grid_gap": null,
            "grid_row": null,
            "grid_template_areas": null,
            "grid_template_columns": null,
            "grid_template_rows": null,
            "height": null,
            "justify_content": null,
            "justify_items": null,
            "left": null,
            "margin": null,
            "max_height": null,
            "max_width": null,
            "min_height": null,
            "min_width": null,
            "object_fit": null,
            "object_position": null,
            "order": null,
            "overflow": null,
            "overflow_x": null,
            "overflow_y": null,
            "padding": null,
            "right": null,
            "top": null,
            "visibility": null,
            "width": null
          }
        },
        "ad657eddc033473b8a698a8a4a6c6a2b": {
          "model_module": "@jupyter-widgets/controls",
          "model_name": "ProgressStyleModel",
          "model_module_version": "1.5.0",
          "state": {
            "_model_module": "@jupyter-widgets/controls",
            "_model_module_version": "1.5.0",
            "_model_name": "ProgressStyleModel",
            "_view_count": null,
            "_view_module": "@jupyter-widgets/base",
            "_view_module_version": "1.2.0",
            "_view_name": "StyleView",
            "bar_color": null,
            "description_width": ""
          }
        },
        "71a3f579c6aa4e84aec4beefdbaf8850": {
          "model_module": "@jupyter-widgets/base",
          "model_name": "LayoutModel",
          "model_module_version": "1.2.0",
          "state": {
            "_model_module": "@jupyter-widgets/base",
            "_model_module_version": "1.2.0",
            "_model_name": "LayoutModel",
            "_view_count": null,
            "_view_module": "@jupyter-widgets/base",
            "_view_module_version": "1.2.0",
            "_view_name": "LayoutView",
            "align_content": null,
            "align_items": null,
            "align_self": null,
            "border": null,
            "bottom": null,
            "display": null,
            "flex": null,
            "flex_flow": null,
            "grid_area": null,
            "grid_auto_columns": null,
            "grid_auto_flow": null,
            "grid_auto_rows": null,
            "grid_column": null,
            "grid_gap": null,
            "grid_row": null,
            "grid_template_areas": null,
            "grid_template_columns": null,
            "grid_template_rows": null,
            "height": null,
            "justify_content": null,
            "justify_items": null,
            "left": null,
            "margin": null,
            "max_height": null,
            "max_width": null,
            "min_height": null,
            "min_width": null,
            "object_fit": null,
            "object_position": null,
            "order": null,
            "overflow": null,
            "overflow_x": null,
            "overflow_y": null,
            "padding": null,
            "right": null,
            "top": null,
            "visibility": null,
            "width": null
          }
        },
        "88f0bb41740145a486924b846fc8debd": {
          "model_module": "@jupyter-widgets/controls",
          "model_name": "DescriptionStyleModel",
          "model_module_version": "1.5.0",
          "state": {
            "_model_module": "@jupyter-widgets/controls",
            "_model_module_version": "1.5.0",
            "_model_name": "DescriptionStyleModel",
            "_view_count": null,
            "_view_module": "@jupyter-widgets/base",
            "_view_module_version": "1.2.0",
            "_view_name": "StyleView",
            "description_width": ""
          }
        },
        "6e845241a9ce4cb6a48add8a875c4f85": {
          "model_module": "@jupyter-widgets/controls",
          "model_name": "HBoxModel",
          "model_module_version": "1.5.0",
          "state": {
            "_dom_classes": [],
            "_model_module": "@jupyter-widgets/controls",
            "_model_module_version": "1.5.0",
            "_model_name": "HBoxModel",
            "_view_count": null,
            "_view_module": "@jupyter-widgets/controls",
            "_view_module_version": "1.5.0",
            "_view_name": "HBoxView",
            "box_style": "",
            "children": [
              "IPY_MODEL_07f3f24513cf4c9c99e5ad248747007d",
              "IPY_MODEL_a117b2571ec6477280c74d51ce1a954f",
              "IPY_MODEL_bbd6bb5f435848bca63778368b1ea02f"
            ],
            "layout": "IPY_MODEL_b86ff7e88bdb460dae9f6d648c464513"
          }
        },
        "07f3f24513cf4c9c99e5ad248747007d": {
          "model_module": "@jupyter-widgets/controls",
          "model_name": "HTMLModel",
          "model_module_version": "1.5.0",
          "state": {
            "_dom_classes": [],
            "_model_module": "@jupyter-widgets/controls",
            "_model_module_version": "1.5.0",
            "_model_name": "HTMLModel",
            "_view_count": null,
            "_view_module": "@jupyter-widgets/controls",
            "_view_module_version": "1.5.0",
            "_view_name": "HTMLView",
            "description": "",
            "description_tooltip": null,
            "layout": "IPY_MODEL_30d9296cd13041b19643385b965473e2",
            "placeholder": "​",
            "style": "IPY_MODEL_fbbeb15a8689419382e28d313658711f",
            "value": "tokenizer.json: 100%"
          }
        },
        "a117b2571ec6477280c74d51ce1a954f": {
          "model_module": "@jupyter-widgets/controls",
          "model_name": "FloatProgressModel",
          "model_module_version": "1.5.0",
          "state": {
            "_dom_classes": [],
            "_model_module": "@jupyter-widgets/controls",
            "_model_module_version": "1.5.0",
            "_model_name": "FloatProgressModel",
            "_view_count": null,
            "_view_module": "@jupyter-widgets/controls",
            "_view_module_version": "1.5.0",
            "_view_name": "ProgressView",
            "bar_style": "success",
            "description": "",
            "description_tooltip": null,
            "layout": "IPY_MODEL_5dab7627d2964938b8e93ff477c25756",
            "max": 1355863,
            "min": 0,
            "orientation": "horizontal",
            "style": "IPY_MODEL_0ab830fb8e3641bcac78cba26001e64a",
            "value": 1355863
          }
        },
        "bbd6bb5f435848bca63778368b1ea02f": {
          "model_module": "@jupyter-widgets/controls",
          "model_name": "HTMLModel",
          "model_module_version": "1.5.0",
          "state": {
            "_dom_classes": [],
            "_model_module": "@jupyter-widgets/controls",
            "_model_module_version": "1.5.0",
            "_model_name": "HTMLModel",
            "_view_count": null,
            "_view_module": "@jupyter-widgets/controls",
            "_view_module_version": "1.5.0",
            "_view_name": "HTMLView",
            "description": "",
            "description_tooltip": null,
            "layout": "IPY_MODEL_d3941d18713c454bbebeaf4080db59fc",
            "placeholder": "​",
            "style": "IPY_MODEL_561e03a1430c403a8a11dadfcf3eb859",
            "value": " 1.36M/1.36M [00:00&lt;00:00, 1.54MB/s]"
          }
        },
        "b86ff7e88bdb460dae9f6d648c464513": {
          "model_module": "@jupyter-widgets/base",
          "model_name": "LayoutModel",
          "model_module_version": "1.2.0",
          "state": {
            "_model_module": "@jupyter-widgets/base",
            "_model_module_version": "1.2.0",
            "_model_name": "LayoutModel",
            "_view_count": null,
            "_view_module": "@jupyter-widgets/base",
            "_view_module_version": "1.2.0",
            "_view_name": "LayoutView",
            "align_content": null,
            "align_items": null,
            "align_self": null,
            "border": null,
            "bottom": null,
            "display": null,
            "flex": null,
            "flex_flow": null,
            "grid_area": null,
            "grid_auto_columns": null,
            "grid_auto_flow": null,
            "grid_auto_rows": null,
            "grid_column": null,
            "grid_gap": null,
            "grid_row": null,
            "grid_template_areas": null,
            "grid_template_columns": null,
            "grid_template_rows": null,
            "height": null,
            "justify_content": null,
            "justify_items": null,
            "left": null,
            "margin": null,
            "max_height": null,
            "max_width": null,
            "min_height": null,
            "min_width": null,
            "object_fit": null,
            "object_position": null,
            "order": null,
            "overflow": null,
            "overflow_x": null,
            "overflow_y": null,
            "padding": null,
            "right": null,
            "top": null,
            "visibility": null,
            "width": null
          }
        },
        "30d9296cd13041b19643385b965473e2": {
          "model_module": "@jupyter-widgets/base",
          "model_name": "LayoutModel",
          "model_module_version": "1.2.0",
          "state": {
            "_model_module": "@jupyter-widgets/base",
            "_model_module_version": "1.2.0",
            "_model_name": "LayoutModel",
            "_view_count": null,
            "_view_module": "@jupyter-widgets/base",
            "_view_module_version": "1.2.0",
            "_view_name": "LayoutView",
            "align_content": null,
            "align_items": null,
            "align_self": null,
            "border": null,
            "bottom": null,
            "display": null,
            "flex": null,
            "flex_flow": null,
            "grid_area": null,
            "grid_auto_columns": null,
            "grid_auto_flow": null,
            "grid_auto_rows": null,
            "grid_column": null,
            "grid_gap": null,
            "grid_row": null,
            "grid_template_areas": null,
            "grid_template_columns": null,
            "grid_template_rows": null,
            "height": null,
            "justify_content": null,
            "justify_items": null,
            "left": null,
            "margin": null,
            "max_height": null,
            "max_width": null,
            "min_height": null,
            "min_width": null,
            "object_fit": null,
            "object_position": null,
            "order": null,
            "overflow": null,
            "overflow_x": null,
            "overflow_y": null,
            "padding": null,
            "right": null,
            "top": null,
            "visibility": null,
            "width": null
          }
        },
        "fbbeb15a8689419382e28d313658711f": {
          "model_module": "@jupyter-widgets/controls",
          "model_name": "DescriptionStyleModel",
          "model_module_version": "1.5.0",
          "state": {
            "_model_module": "@jupyter-widgets/controls",
            "_model_module_version": "1.5.0",
            "_model_name": "DescriptionStyleModel",
            "_view_count": null,
            "_view_module": "@jupyter-widgets/base",
            "_view_module_version": "1.2.0",
            "_view_name": "StyleView",
            "description_width": ""
          }
        },
        "5dab7627d2964938b8e93ff477c25756": {
          "model_module": "@jupyter-widgets/base",
          "model_name": "LayoutModel",
          "model_module_version": "1.2.0",
          "state": {
            "_model_module": "@jupyter-widgets/base",
            "_model_module_version": "1.2.0",
            "_model_name": "LayoutModel",
            "_view_count": null,
            "_view_module": "@jupyter-widgets/base",
            "_view_module_version": "1.2.0",
            "_view_name": "LayoutView",
            "align_content": null,
            "align_items": null,
            "align_self": null,
            "border": null,
            "bottom": null,
            "display": null,
            "flex": null,
            "flex_flow": null,
            "grid_area": null,
            "grid_auto_columns": null,
            "grid_auto_flow": null,
            "grid_auto_rows": null,
            "grid_column": null,
            "grid_gap": null,
            "grid_row": null,
            "grid_template_areas": null,
            "grid_template_columns": null,
            "grid_template_rows": null,
            "height": null,
            "justify_content": null,
            "justify_items": null,
            "left": null,
            "margin": null,
            "max_height": null,
            "max_width": null,
            "min_height": null,
            "min_width": null,
            "object_fit": null,
            "object_position": null,
            "order": null,
            "overflow": null,
            "overflow_x": null,
            "overflow_y": null,
            "padding": null,
            "right": null,
            "top": null,
            "visibility": null,
            "width": null
          }
        },
        "0ab830fb8e3641bcac78cba26001e64a": {
          "model_module": "@jupyter-widgets/controls",
          "model_name": "ProgressStyleModel",
          "model_module_version": "1.5.0",
          "state": {
            "_model_module": "@jupyter-widgets/controls",
            "_model_module_version": "1.5.0",
            "_model_name": "ProgressStyleModel",
            "_view_count": null,
            "_view_module": "@jupyter-widgets/base",
            "_view_module_version": "1.2.0",
            "_view_name": "StyleView",
            "bar_color": null,
            "description_width": ""
          }
        },
        "d3941d18713c454bbebeaf4080db59fc": {
          "model_module": "@jupyter-widgets/base",
          "model_name": "LayoutModel",
          "model_module_version": "1.2.0",
          "state": {
            "_model_module": "@jupyter-widgets/base",
            "_model_module_version": "1.2.0",
            "_model_name": "LayoutModel",
            "_view_count": null,
            "_view_module": "@jupyter-widgets/base",
            "_view_module_version": "1.2.0",
            "_view_name": "LayoutView",
            "align_content": null,
            "align_items": null,
            "align_self": null,
            "border": null,
            "bottom": null,
            "display": null,
            "flex": null,
            "flex_flow": null,
            "grid_area": null,
            "grid_auto_columns": null,
            "grid_auto_flow": null,
            "grid_auto_rows": null,
            "grid_column": null,
            "grid_gap": null,
            "grid_row": null,
            "grid_template_areas": null,
            "grid_template_columns": null,
            "grid_template_rows": null,
            "height": null,
            "justify_content": null,
            "justify_items": null,
            "left": null,
            "margin": null,
            "max_height": null,
            "max_width": null,
            "min_height": null,
            "min_width": null,
            "object_fit": null,
            "object_position": null,
            "order": null,
            "overflow": null,
            "overflow_x": null,
            "overflow_y": null,
            "padding": null,
            "right": null,
            "top": null,
            "visibility": null,
            "width": null
          }
        },
        "561e03a1430c403a8a11dadfcf3eb859": {
          "model_module": "@jupyter-widgets/controls",
          "model_name": "DescriptionStyleModel",
          "model_module_version": "1.5.0",
          "state": {
            "_model_module": "@jupyter-widgets/controls",
            "_model_module_version": "1.5.0",
            "_model_name": "DescriptionStyleModel",
            "_view_count": null,
            "_view_module": "@jupyter-widgets/base",
            "_view_module_version": "1.2.0",
            "_view_name": "StyleView",
            "description_width": ""
          }
        },
        "441438a3db4e4413a49311cf8c32a11d": {
          "model_module": "@jupyter-widgets/controls",
          "model_name": "HBoxModel",
          "model_module_version": "1.5.0",
          "state": {
            "_dom_classes": [],
            "_model_module": "@jupyter-widgets/controls",
            "_model_module_version": "1.5.0",
            "_model_name": "HBoxModel",
            "_view_count": null,
            "_view_module": "@jupyter-widgets/controls",
            "_view_module_version": "1.5.0",
            "_view_name": "HBoxView",
            "box_style": "",
            "children": [
              "IPY_MODEL_88ba02a1fd5140e3a42e26f3594de498",
              "IPY_MODEL_700d5e5b9aaa4c48aed68d1b6168b79e",
              "IPY_MODEL_db45b18c34d2442a9cf12fc831b3506d"
            ],
            "layout": "IPY_MODEL_72ff187135134c80bb1d0b9ed3a8eb14"
          }
        },
        "88ba02a1fd5140e3a42e26f3594de498": {
          "model_module": "@jupyter-widgets/controls",
          "model_name": "HTMLModel",
          "model_module_version": "1.5.0",
          "state": {
            "_dom_classes": [],
            "_model_module": "@jupyter-widgets/controls",
            "_model_module_version": "1.5.0",
            "_model_name": "HTMLModel",
            "_view_count": null,
            "_view_module": "@jupyter-widgets/controls",
            "_view_module_version": "1.5.0",
            "_view_name": "HTMLView",
            "description": "",
            "description_tooltip": null,
            "layout": "IPY_MODEL_b2581946f8534413927caed68c4c1c65",
            "placeholder": "​",
            "style": "IPY_MODEL_572f31517f1f4589865ded2865de12a8",
            "value": "model.safetensors: 100%"
          }
        },
        "700d5e5b9aaa4c48aed68d1b6168b79e": {
          "model_module": "@jupyter-widgets/controls",
          "model_name": "FloatProgressModel",
          "model_module_version": "1.5.0",
          "state": {
            "_dom_classes": [],
            "_model_module": "@jupyter-widgets/controls",
            "_model_module_version": "1.5.0",
            "_model_name": "FloatProgressModel",
            "_view_count": null,
            "_view_module": "@jupyter-widgets/controls",
            "_view_module_version": "1.5.0",
            "_view_name": "ProgressView",
            "bar_style": "success",
            "description": "",
            "description_tooltip": null,
            "layout": "IPY_MODEL_0cf08b19af6e4397bba5b84c6099c014",
            "max": 1421700479,
            "min": 0,
            "orientation": "horizontal",
            "style": "IPY_MODEL_608c0081871140afa09de2ba767e34ca",
            "value": 1421700479
          }
        },
        "db45b18c34d2442a9cf12fc831b3506d": {
          "model_module": "@jupyter-widgets/controls",
          "model_name": "HTMLModel",
          "model_module_version": "1.5.0",
          "state": {
            "_dom_classes": [],
            "_model_module": "@jupyter-widgets/controls",
            "_model_module_version": "1.5.0",
            "_model_name": "HTMLModel",
            "_view_count": null,
            "_view_module": "@jupyter-widgets/controls",
            "_view_module_version": "1.5.0",
            "_view_name": "HTMLView",
            "description": "",
            "description_tooltip": null,
            "layout": "IPY_MODEL_9f5e17ca58424cf49547c318c8b4e118",
            "placeholder": "​",
            "style": "IPY_MODEL_1852aa55d622416fbfb9a81e4621c1aa",
            "value": " 1.42G/1.42G [00:05&lt;00:00, 172MB/s]"
          }
        },
        "72ff187135134c80bb1d0b9ed3a8eb14": {
          "model_module": "@jupyter-widgets/base",
          "model_name": "LayoutModel",
          "model_module_version": "1.2.0",
          "state": {
            "_model_module": "@jupyter-widgets/base",
            "_model_module_version": "1.2.0",
            "_model_name": "LayoutModel",
            "_view_count": null,
            "_view_module": "@jupyter-widgets/base",
            "_view_module_version": "1.2.0",
            "_view_name": "LayoutView",
            "align_content": null,
            "align_items": null,
            "align_self": null,
            "border": null,
            "bottom": null,
            "display": null,
            "flex": null,
            "flex_flow": null,
            "grid_area": null,
            "grid_auto_columns": null,
            "grid_auto_flow": null,
            "grid_auto_rows": null,
            "grid_column": null,
            "grid_gap": null,
            "grid_row": null,
            "grid_template_areas": null,
            "grid_template_columns": null,
            "grid_template_rows": null,
            "height": null,
            "justify_content": null,
            "justify_items": null,
            "left": null,
            "margin": null,
            "max_height": null,
            "max_width": null,
            "min_height": null,
            "min_width": null,
            "object_fit": null,
            "object_position": null,
            "order": null,
            "overflow": null,
            "overflow_x": null,
            "overflow_y": null,
            "padding": null,
            "right": null,
            "top": null,
            "visibility": null,
            "width": null
          }
        },
        "b2581946f8534413927caed68c4c1c65": {
          "model_module": "@jupyter-widgets/base",
          "model_name": "LayoutModel",
          "model_module_version": "1.2.0",
          "state": {
            "_model_module": "@jupyter-widgets/base",
            "_model_module_version": "1.2.0",
            "_model_name": "LayoutModel",
            "_view_count": null,
            "_view_module": "@jupyter-widgets/base",
            "_view_module_version": "1.2.0",
            "_view_name": "LayoutView",
            "align_content": null,
            "align_items": null,
            "align_self": null,
            "border": null,
            "bottom": null,
            "display": null,
            "flex": null,
            "flex_flow": null,
            "grid_area": null,
            "grid_auto_columns": null,
            "grid_auto_flow": null,
            "grid_auto_rows": null,
            "grid_column": null,
            "grid_gap": null,
            "grid_row": null,
            "grid_template_areas": null,
            "grid_template_columns": null,
            "grid_template_rows": null,
            "height": null,
            "justify_content": null,
            "justify_items": null,
            "left": null,
            "margin": null,
            "max_height": null,
            "max_width": null,
            "min_height": null,
            "min_width": null,
            "object_fit": null,
            "object_position": null,
            "order": null,
            "overflow": null,
            "overflow_x": null,
            "overflow_y": null,
            "padding": null,
            "right": null,
            "top": null,
            "visibility": null,
            "width": null
          }
        },
        "572f31517f1f4589865ded2865de12a8": {
          "model_module": "@jupyter-widgets/controls",
          "model_name": "DescriptionStyleModel",
          "model_module_version": "1.5.0",
          "state": {
            "_model_module": "@jupyter-widgets/controls",
            "_model_module_version": "1.5.0",
            "_model_name": "DescriptionStyleModel",
            "_view_count": null,
            "_view_module": "@jupyter-widgets/base",
            "_view_module_version": "1.2.0",
            "_view_name": "StyleView",
            "description_width": ""
          }
        },
        "0cf08b19af6e4397bba5b84c6099c014": {
          "model_module": "@jupyter-widgets/base",
          "model_name": "LayoutModel",
          "model_module_version": "1.2.0",
          "state": {
            "_model_module": "@jupyter-widgets/base",
            "_model_module_version": "1.2.0",
            "_model_name": "LayoutModel",
            "_view_count": null,
            "_view_module": "@jupyter-widgets/base",
            "_view_module_version": "1.2.0",
            "_view_name": "LayoutView",
            "align_content": null,
            "align_items": null,
            "align_self": null,
            "border": null,
            "bottom": null,
            "display": null,
            "flex": null,
            "flex_flow": null,
            "grid_area": null,
            "grid_auto_columns": null,
            "grid_auto_flow": null,
            "grid_auto_rows": null,
            "grid_column": null,
            "grid_gap": null,
            "grid_row": null,
            "grid_template_areas": null,
            "grid_template_columns": null,
            "grid_template_rows": null,
            "height": null,
            "justify_content": null,
            "justify_items": null,
            "left": null,
            "margin": null,
            "max_height": null,
            "max_width": null,
            "min_height": null,
            "min_width": null,
            "object_fit": null,
            "object_position": null,
            "order": null,
            "overflow": null,
            "overflow_x": null,
            "overflow_y": null,
            "padding": null,
            "right": null,
            "top": null,
            "visibility": null,
            "width": null
          }
        },
        "608c0081871140afa09de2ba767e34ca": {
          "model_module": "@jupyter-widgets/controls",
          "model_name": "ProgressStyleModel",
          "model_module_version": "1.5.0",
          "state": {
            "_model_module": "@jupyter-widgets/controls",
            "_model_module_version": "1.5.0",
            "_model_name": "ProgressStyleModel",
            "_view_count": null,
            "_view_module": "@jupyter-widgets/base",
            "_view_module_version": "1.2.0",
            "_view_name": "StyleView",
            "bar_color": null,
            "description_width": ""
          }
        },
        "9f5e17ca58424cf49547c318c8b4e118": {
          "model_module": "@jupyter-widgets/base",
          "model_name": "LayoutModel",
          "model_module_version": "1.2.0",
          "state": {
            "_model_module": "@jupyter-widgets/base",
            "_model_module_version": "1.2.0",
            "_model_name": "LayoutModel",
            "_view_count": null,
            "_view_module": "@jupyter-widgets/base",
            "_view_module_version": "1.2.0",
            "_view_name": "LayoutView",
            "align_content": null,
            "align_items": null,
            "align_self": null,
            "border": null,
            "bottom": null,
            "display": null,
            "flex": null,
            "flex_flow": null,
            "grid_area": null,
            "grid_auto_columns": null,
            "grid_auto_flow": null,
            "grid_auto_rows": null,
            "grid_column": null,
            "grid_gap": null,
            "grid_row": null,
            "grid_template_areas": null,
            "grid_template_columns": null,
            "grid_template_rows": null,
            "height": null,
            "justify_content": null,
            "justify_items": null,
            "left": null,
            "margin": null,
            "max_height": null,
            "max_width": null,
            "min_height": null,
            "min_width": null,
            "object_fit": null,
            "object_position": null,
            "order": null,
            "overflow": null,
            "overflow_x": null,
            "overflow_y": null,
            "padding": null,
            "right": null,
            "top": null,
            "visibility": null,
            "width": null
          }
        },
        "1852aa55d622416fbfb9a81e4621c1aa": {
          "model_module": "@jupyter-widgets/controls",
          "model_name": "DescriptionStyleModel",
          "model_module_version": "1.5.0",
          "state": {
            "_model_module": "@jupyter-widgets/controls",
            "_model_module_version": "1.5.0",
            "_model_name": "DescriptionStyleModel",
            "_view_count": null,
            "_view_module": "@jupyter-widgets/base",
            "_view_module_version": "1.2.0",
            "_view_name": "StyleView",
            "description_width": ""
          }
        }
      }
    }
  },
  "cells": [
    {
      "cell_type": "code",
      "source": [
        "# install the libraries to load transformers==4.42.4 models\n",
        "!pip install transformers==4.42.4"
      ],
      "metadata": {
        "id": "-9Z6hNnkxSMo",
        "colab": {
          "base_uri": "https://localhost:8080/"
        },
        "outputId": "61a5391f-6291-4ab4-b582-5d1fc32fb50b"
      },
      "execution_count": null,
      "outputs": [
        {
          "output_type": "stream",
          "name": "stdout",
          "text": [
            "Requirement already satisfied: transformers==4.42.4 in /usr/local/lib/python3.10/dist-packages (4.42.4)\n",
            "Requirement already satisfied: filelock in /usr/local/lib/python3.10/dist-packages (from transformers==4.42.4) (3.15.4)\n",
            "Requirement already satisfied: huggingface-hub<1.0,>=0.23.2 in /usr/local/lib/python3.10/dist-packages (from transformers==4.42.4) (0.23.5)\n",
            "Requirement already satisfied: numpy<2.0,>=1.17 in /usr/local/lib/python3.10/dist-packages (from transformers==4.42.4) (1.26.4)\n",
            "Requirement already satisfied: packaging>=20.0 in /usr/local/lib/python3.10/dist-packages (from transformers==4.42.4) (24.1)\n",
            "Requirement already satisfied: pyyaml>=5.1 in /usr/local/lib/python3.10/dist-packages (from transformers==4.42.4) (6.0.2)\n",
            "Requirement already satisfied: regex!=2019.12.17 in /usr/local/lib/python3.10/dist-packages (from transformers==4.42.4) (2024.5.15)\n",
            "Requirement already satisfied: requests in /usr/local/lib/python3.10/dist-packages (from transformers==4.42.4) (2.32.3)\n",
            "Requirement already satisfied: safetensors>=0.4.1 in /usr/local/lib/python3.10/dist-packages (from transformers==4.42.4) (0.4.4)\n",
            "Requirement already satisfied: tokenizers<0.20,>=0.19 in /usr/local/lib/python3.10/dist-packages (from transformers==4.42.4) (0.19.1)\n",
            "Requirement already satisfied: tqdm>=4.27 in /usr/local/lib/python3.10/dist-packages (from transformers==4.42.4) (4.66.5)\n",
            "Requirement already satisfied: fsspec>=2023.5.0 in /usr/local/lib/python3.10/dist-packages (from huggingface-hub<1.0,>=0.23.2->transformers==4.42.4) (2024.6.1)\n",
            "Requirement already satisfied: typing-extensions>=3.7.4.3 in /usr/local/lib/python3.10/dist-packages (from huggingface-hub<1.0,>=0.23.2->transformers==4.42.4) (4.12.2)\n",
            "Requirement already satisfied: charset-normalizer<4,>=2 in /usr/local/lib/python3.10/dist-packages (from requests->transformers==4.42.4) (3.3.2)\n",
            "Requirement already satisfied: idna<4,>=2.5 in /usr/local/lib/python3.10/dist-packages (from requests->transformers==4.42.4) (3.7)\n",
            "Requirement already satisfied: urllib3<3,>=1.21.1 in /usr/local/lib/python3.10/dist-packages (from requests->transformers==4.42.4) (2.0.7)\n",
            "Requirement already satisfied: certifi>=2017.4.17 in /usr/local/lib/python3.10/dist-packages (from requests->transformers==4.42.4) (2024.7.4)\n"
          ]
        }
      ]
    },
    {
      "cell_type": "code",
      "source": [
        "# Import necessary libraries for data manipulation and analysis\n",
        "import pandas as pd\n",
        "import numpy as np\n",
        "\n",
        "# Import visualization libraries\n",
        "import seaborn as sns\n",
        "import matplotlib.pyplot as plt\n",
        "\n",
        "# Import modules from scikit-learn for machine learning tasks\n",
        "from sklearn.model_selection import train_test_split\n",
        "from sklearn.preprocessing import LabelEncoder\n",
        "from sklearn.metrics import confusion_matrix, f1_score, precision_score, recall_score, accuracy_score, classification_report\n",
        "from sklearn.metrics import f1_score\n",
        "# Import TensorFlow for deep learning tasks\n",
        "import tensorflow as tf\n",
        "\n",
        "import re\n",
        "import json"
      ],
      "metadata": {
        "id": "NwQFn8w-yloT"
      },
      "execution_count": null,
      "outputs": []
    },
    {
      "cell_type": "code",
      "source": [
        "# Import BertTokenizer, TFBertForSequenceClassification from the Hugging Face transformers library\n",
        "from transformers import BertTokenizer, TFBertForSequenceClassification\n"
      ],
      "metadata": {
        "id": "gl8ibWBGymnB"
      },
      "execution_count": null,
      "outputs": []
    },
    {
      "cell_type": "code",
      "source": [
        "# Set the seed for the TensorFlow random number generator to ensure reproducibility\n",
        "tf.random.set_seed(42)"
      ],
      "metadata": {
        "id": "FDdZSwFgTx9i"
      },
      "execution_count": null,
      "outputs": []
    },
    {
      "cell_type": "markdown",
      "source": [
        "###**Data preprocessing for Bert Fine Tunning**"
      ],
      "metadata": {
        "id": "mFyPpwimzm7C"
      }
    },
    {
      "cell_type": "code",
      "source": [
        "import pandas as pd\n",
        "# Load a CSV File containing Dataset of 500 products, narrative and summary (summary of narrative)\n",
        "data= pd.read_csv(\"/content/Complains_classification.csv\")"
      ],
      "metadata": {
        "id": "d1iRBbNEz8AS"
      },
      "execution_count": null,
      "outputs": []
    },
    {
      "cell_type": "code",
      "source": [
        "Bert_data = data[['product','narrative']]"
      ],
      "metadata": {
        "id": "ZDJlPfhY0QtU"
      },
      "execution_count": null,
      "outputs": []
    },
    {
      "cell_type": "code",
      "source": [
        "# Creating dependent and independent variables from Bert_data\n",
        "train_test= Bert_data['narrative']\n",
        "y = Bert_data['product']\n",
        "# Further split the temporary set into train (80%) and test (20%) sets\n",
        "X_train, X_test, y_train, y_test = train_test_split(train_test, y, test_size=0.20, stratify=y, random_state=42)"
      ],
      "metadata": {
        "id": "H0OWEvhk0l9M"
      },
      "execution_count": null,
      "outputs": []
    },
    {
      "cell_type": "code",
      "source": [
        "# Label Encoding\n",
        "encoder = LabelEncoder()\n",
        "\n",
        "# fit the encoder to the training labels\n",
        "y_train_enc = encoder.fit_transform(y_train)\n",
        "\n",
        "# applying the encoder mapping from training labels to test labels\n",
        "y_test_enc = encoder.transform(y_test)"
      ],
      "metadata": {
        "id": "qscEhyvd1COV"
      },
      "execution_count": null,
      "outputs": []
    },
    {
      "cell_type": "markdown",
      "source": [
        "###**Tokenization**"
      ],
      "metadata": {
        "id": "2z6YF8gZ1MTc"
      }
    },
    {
      "cell_type": "code",
      "source": [
        "# loading and creating an instance of the BERT tokenizer\n",
        "tokenizer = BertTokenizer.from_pretrained('bert-base-uncased')\n",
        "# specifying the maximum length of the input 512\n",
        "max_length = 512"
      ],
      "metadata": {
        "id": "xg5RWZtp2Puu",
        "colab": {
          "base_uri": "https://localhost:8080/",
          "height": 269,
          "referenced_widgets": [
            "3e6242b80fce4777ad4ea3ff5c73298b",
            "7a482f40481d4fa18849c2e50b53ddbd",
            "fdb31193395848678fbb01ff2c2feebe",
            "52e768ddab3942fb870ed815078be939",
            "15023e6eee8440c6a6705f87dc0113ef",
            "5b2c69df2cb74f1fb26da1ed1f3e0b63",
            "962c8a6fc1be456fb2300aad543b5be6",
            "b6cba277bf844f8a8fe13a8ff602bbf8",
            "5a1cff60e18e44ae91ec95af2a5c8af6",
            "6f077309014d447b930d305d7a0968f5",
            "6be031543af844aeb8d6c19dafd1dbb1",
            "58ccf30057eb475982be093f83d16286",
            "f0e8268eb5e0403486a664f1f6751fbc",
            "a75e9cb82a624b7885333dfcaac1d53e",
            "7475f7374cf84e448733627b20537813",
            "50a0e387ab4044c4b87ae38aae58c042",
            "e5817039d04e4ef891359ba3ff748718",
            "132b4ed04df540dc9b7e334c240416de",
            "871eac8ec3c5475989c96e9f257d07ee",
            "823ff559da944bd5b1bf7da5c8f2e3ef",
            "8d56eb82aeb640359eb86ba26e243303",
            "ffd0d8388be7419f8013630a6e88006d",
            "95cb049d28244782ac1aa5e49953b9bb",
            "8ab791e76ca04ac0a8c3cb67f339a404",
            "d6976efff6a248898c5fd3cc67a75ff9",
            "9d2812f97b3d42a8b765aa6cd1df7ac0",
            "045c9ad0abc546eebc4b0ef49b7864d1",
            "420a75ceef7346319d378b2daf3a2424",
            "66940c1a08274352b69c61c380cec420",
            "4b5bd0f63b5840f783e53cae72505e41",
            "5349d7a42f064e039503309af24bed9f",
            "7051e05047094ea39502f8ea8b264af3",
            "acc1c669b0c847798f465bbf29a0acf9",
            "0ca904fc8bc640fbaea1e614e7b47ce6",
            "47e267048df94278a35262268226c32a",
            "e52f806ab75d48e0a7edd6a1fd4c163c",
            "5e2890cfe619430983763ce66e6f8a21",
            "150bf165432e4b7183e17f03e0906e75",
            "cabb9e49ce1d43d5a657360d4702cef1",
            "3c1ec2ab3ddc4f1491ab65ba332f0848",
            "56bb8f3ac3ea4d6d9e9a7405e84bab88",
            "4323a414b57b4ace9d48f5e501000b2b",
            "97b687d55b2943e789b67e83cd40d84c",
            "46c8889ab6494d0caa14c67645e524f9"
          ]
        },
        "outputId": "5d8497cd-de53-4f04-9ed0-88f641f96329"
      },
      "execution_count": null,
      "outputs": [
        {
          "output_type": "stream",
          "name": "stderr",
          "text": [
            "/usr/local/lib/python3.10/dist-packages/huggingface_hub/utils/_token.py:89: UserWarning: \n",
            "The secret `HF_TOKEN` does not exist in your Colab secrets.\n",
            "To authenticate with the Hugging Face Hub, create a token in your settings tab (https://huggingface.co/settings/tokens), set it as secret in your Google Colab and restart your session.\n",
            "You will be able to reuse this secret in all of your notebooks.\n",
            "Please note that authentication is recommended but still optional to access public models or datasets.\n",
            "  warnings.warn(\n"
          ]
        },
        {
          "output_type": "display_data",
          "data": {
            "text/plain": [
              "tokenizer_config.json:   0%|          | 0.00/48.0 [00:00<?, ?B/s]"
            ],
            "application/vnd.jupyter.widget-view+json": {
              "version_major": 2,
              "version_minor": 0,
              "model_id": "3e6242b80fce4777ad4ea3ff5c73298b"
            }
          },
          "metadata": {}
        },
        {
          "output_type": "display_data",
          "data": {
            "text/plain": [
              "vocab.txt:   0%|          | 0.00/232k [00:00<?, ?B/s]"
            ],
            "application/vnd.jupyter.widget-view+json": {
              "version_major": 2,
              "version_minor": 0,
              "model_id": "58ccf30057eb475982be093f83d16286"
            }
          },
          "metadata": {}
        },
        {
          "output_type": "display_data",
          "data": {
            "text/plain": [
              "tokenizer.json:   0%|          | 0.00/466k [00:00<?, ?B/s]"
            ],
            "application/vnd.jupyter.widget-view+json": {
              "version_major": 2,
              "version_minor": 0,
              "model_id": "95cb049d28244782ac1aa5e49953b9bb"
            }
          },
          "metadata": {}
        },
        {
          "output_type": "display_data",
          "data": {
            "text/plain": [
              "config.json:   0%|          | 0.00/570 [00:00<?, ?B/s]"
            ],
            "application/vnd.jupyter.widget-view+json": {
              "version_major": 2,
              "version_minor": 0,
              "model_id": "0ca904fc8bc640fbaea1e614e7b47ce6"
            }
          },
          "metadata": {}
        }
      ]
    },
    {
      "cell_type": "code",
      "source": [
        "X_train_tokenized = tokenizer(\n",
        "    X_train.values.tolist(),    # passing the data as a list to the tokenizer\n",
        "    max_length=max_length,    # specifies the maximum length of the tokenized data\n",
        "    padding='max_length',    # padding the data to the specified maximum length\n",
        "    truncation=True,    # truncating the input if it is longer than the specified maximum length\n",
        "    return_attention_mask=True,    # specifying to return attention masks\n",
        "    return_tensors='tf',    # specifying to return the output as tensorflow tensors\n",
        ")\n",
        "X_test_tokenized = tokenizer(\n",
        "    X_test.values.tolist(),\n",
        "    max_length=max_length,\n",
        "    padding='max_length',\n",
        "    truncation=True,\n",
        "    return_attention_mask=True,\n",
        "    return_tensors='tf',\n",
        ")"
      ],
      "metadata": {
        "id": "vPb5FlFR2UAk"
      },
      "execution_count": null,
      "outputs": []
    },
    {
      "cell_type": "markdown",
      "source": [
        "###**Creating Tensorflow dataset**"
      ],
      "metadata": {
        "id": "raT2V3lU2x_Q"
      }
    },
    {
      "cell_type": "code",
      "source": [
        "# defining the size of the batches\n",
        "batch_size = 8\n",
        "\n",
        "# convert the tokenized input and the output into a batched tensorflow dataset for training\n",
        "train_tokenized_tf =  tf.data.Dataset.from_tensor_slices((\n",
        "    dict(X_train_tokenized),\n",
        "    y_train_enc\n",
        " )).batch(batch_size)\n",
        "\n",
        "\n",
        "# convert the tokenized input and the output into a batched tensorflow dataset for testing\n",
        "test_tokenized_tf = tf.data.Dataset.from_tensor_slices((\n",
        "    dict(X_test_tokenized),\n",
        "    y_test_enc\n",
        " )).batch(batch_size)"
      ],
      "metadata": {
        "id": "63e-GNZT2wkP"
      },
      "execution_count": null,
      "outputs": []
    },
    {
      "cell_type": "markdown",
      "source": [
        "###**Evaluating the base model's performance in product classification.**"
      ],
      "metadata": {
        "id": "rSSSVjqe3M54"
      }
    },
    {
      "cell_type": "code",
      "source": [
        "def bert_f1_score(actual_val,perdicted_val):\n",
        "    micro_f1_score = f1_score(actual_val, preds_test, average=\"micro\")\n",
        "    return micro_f1_score"
      ],
      "metadata": {
        "id": "i7mCVcuE4Dzn"
      },
      "execution_count": null,
      "outputs": []
    },
    {
      "cell_type": "code",
      "source": [
        "# Actual product class\n",
        "actual_val = np.concatenate([y for x, y in test_tokenized_tf], axis=0)"
      ],
      "metadata": {
        "id": "dL5hdRna6MW_"
      },
      "execution_count": null,
      "outputs": []
    },
    {
      "cell_type": "code",
      "source": [
        "num_classes = y.nunique()\n",
        "# Initialize Model using BERT for sequence classification\n",
        "model = TFBertForSequenceClassification.from_pretrained('bert-base-uncased', num_labels=num_classes)"
      ],
      "metadata": {
        "id": "KnQnyS-93G9O",
        "colab": {
          "base_uri": "https://localhost:8080/",
          "height": 138,
          "referenced_widgets": [
            "8541ad0dea5647df858db03822eaaee8",
            "de3941a50c9e4146af7945d461fd45f8",
            "0704ec64defa415cb4ca4828823e12a8",
            "d982b2ee08864636ba5617e964f60b01",
            "55c8fbe30e614db5afda255668660c57",
            "ab31de2a15264c57b7b1664039470261",
            "d933af46f7f743e09f1b3a4b609b0433",
            "547807528af740b1b794cbd153226ae2",
            "8962447d14144be492845b22cc21eb31",
            "be46944f306846209c5bb44a792a76af",
            "920306c753d547e08550974559e9ac7c"
          ]
        },
        "outputId": "244f4e08-7eb8-4646-de41-481910475b56"
      },
      "execution_count": null,
      "outputs": [
        {
          "output_type": "display_data",
          "data": {
            "text/plain": [
              "model.safetensors:   0%|          | 0.00/440M [00:00<?, ?B/s]"
            ],
            "application/vnd.jupyter.widget-view+json": {
              "version_major": 2,
              "version_minor": 0,
              "model_id": "8541ad0dea5647df858db03822eaaee8"
            }
          },
          "metadata": {}
        },
        {
          "output_type": "stream",
          "name": "stderr",
          "text": [
            "All PyTorch model weights were used when initializing TFBertForSequenceClassification.\n",
            "\n",
            "Some weights or buffers of the TF 2.0 model TFBertForSequenceClassification were not initialized from the PyTorch model and are newly initialized: ['classifier.weight', 'classifier.bias']\n",
            "You should probably TRAIN this model on a down-stream task to be able to use it for predictions and inference.\n"
          ]
        }
      ]
    },
    {
      "cell_type": "code",
      "source": [
        "# Make prediction on test_tokenized_tf\n",
        "preds_raw_test = model.predict(test_tokenized_tf)\n",
        "preds_test = np.argmax(np.array(tf.nn.softmax(preds_raw_test.logits)), axis=1)"
      ],
      "metadata": {
        "id": "RpKM4Ebg4sO7",
        "colab": {
          "base_uri": "https://localhost:8080/"
        },
        "outputId": "8f254409-34e3-4b49-939f-ee67aef501e1"
      },
      "execution_count": null,
      "outputs": [
        {
          "output_type": "stream",
          "name": "stdout",
          "text": [
            "13/13 [==============================] - 9s 131ms/step\n"
          ]
        }
      ]
    },
    {
      "cell_type": "code",
      "source": [
        "# Evaluate bert base model\n",
        "f1_score= bert_f1_score(actual_val, preds_test)\n",
        "print(f1_score)"
      ],
      "metadata": {
        "id": "q9oa8YPR5D0z",
        "colab": {
          "base_uri": "https://localhost:8080/"
        },
        "outputId": "161d7e4f-073f-4eb1-f68a-b3a39305ddbf"
      },
      "execution_count": null,
      "outputs": [
        {
          "output_type": "stream",
          "name": "stdout",
          "text": [
            "0.05000000000000001\n"
          ]
        }
      ]
    },
    {
      "cell_type": "markdown",
      "source": [
        "###**Fine-Tuning Bert Model on training set**"
      ],
      "metadata": {
        "id": "4UVe2kiB510Z"
      }
    },
    {
      "cell_type": "code",
      "source": [
        "num_classes = y.nunique()\n",
        "# Model initialization using BERT for sequence classification\n",
        "model =  TFBertForSequenceClassification.from_pretrained('bert-base-uncased', num_labels=num_classes)"
      ],
      "metadata": {
        "id": "Shjp4bPVlfMh",
        "colab": {
          "base_uri": "https://localhost:8080/"
        },
        "outputId": "29fd5df7-39a2-4b78-a5b9-c70cb2104c10"
      },
      "execution_count": null,
      "outputs": [
        {
          "output_type": "stream",
          "name": "stderr",
          "text": [
            "All PyTorch model weights were used when initializing TFBertForSequenceClassification.\n",
            "\n",
            "Some weights or buffers of the TF 2.0 model TFBertForSequenceClassification were not initialized from the PyTorch model and are newly initialized: ['classifier.weight', 'classifier.bias']\n",
            "You should probably TRAIN this model on a down-stream task to be able to use it for predictions and inference.\n"
          ]
        }
      ]
    },
    {
      "cell_type": "code",
      "source": [
        "# setting the learning rate for the optimizer\n",
        "learning_rate = 1e-5\n",
        "\n",
        "# Setting the optimizer to Adam\n",
        "optimizer = tf.keras.optimizers.Adam(learning_rate=learning_rate, epsilon=1e-08)\n",
        "\n",
        "# Specify the loss function for the model\n",
        "loss = tf.keras.losses.SparseCategoricalCrossentropy(from_logits=True)\n",
        "\n",
        "# Define evaluation metric(s) for the model\n",
        "metric = [tf.keras.metrics.SparseCategoricalAccuracy('accuracy')]\n",
        "\n",
        "# Compile the model with the chosen optimizer, loss function, and metrics\n",
        "model.compile(optimizer=optimizer, loss=loss, metrics=metric)"
      ],
      "metadata": {
        "id": "f1Psz_7a59TU"
      },
      "execution_count": null,
      "outputs": []
    },
    {
      "cell_type": "code",
      "source": [
        "# Calculate class weights for imbalanced dataset\n",
        "cw = (y_train_enc.shape[0]) / np.bincount(y_train_enc)\n",
        "\n",
        "# Create a dictionary mapping class indices to their respective class weights\n",
        "cw_dict = {}\n",
        "for i in range(cw.shape[0]):\n",
        "    cw_dict[encoder.transform(encoder.classes_)[i]] = cw[i]"
      ],
      "metadata": {
        "id": "ZJiQN-mb6kIn"
      },
      "execution_count": null,
      "outputs": []
    },
    {
      "cell_type": "code",
      "source": [
        "# Number of training epochs\n",
        "n_epochs = 1\n",
        "#train bert model\n",
        "bert_base_tuned = model.fit(train_tokenized_tf, epochs=n_epochs, class_weight=cw_dict)"
      ],
      "metadata": {
        "id": "YzNLc2n96oT_",
        "colab": {
          "base_uri": "https://localhost:8080/"
        },
        "outputId": "18021f19-bfc5-4bd5-a11d-3457b328a6da"
      },
      "execution_count": null,
      "outputs": [
        {
          "output_type": "stream",
          "name": "stdout",
          "text": [
            "50/50 [==============================] - 56s 420ms/step - loss: 7.8732 - accuracy: 0.5450\n"
          ]
        }
      ]
    },
    {
      "cell_type": "markdown",
      "source": [
        "###**Evaluating the trained model performance**"
      ],
      "metadata": {
        "id": "NQ43M02s68Uf"
      }
    },
    {
      "cell_type": "code",
      "source": [
        "# Generate raw predictions on the test dataset using the trained model\n",
        "preds_raw_val =  model.predict(test_tokenized_tf)\n",
        "\n",
        "# Extract predicted labels by finding the index with the highest probability for each example\n",
        "preds_val = np.argmax(np.array(tf.nn.softmax(preds_raw_val.logits)), axis=1)"
      ],
      "metadata": {
        "id": "wd890cvZ61_o",
        "colab": {
          "base_uri": "https://localhost:8080/"
        },
        "outputId": "e8cecca6-f5c4-4214-d348-6e2bb9439824"
      },
      "execution_count": null,
      "outputs": [
        {
          "output_type": "stream",
          "name": "stdout",
          "text": [
            "13/13 [==============================] - 5s 132ms/step\n"
          ]
        }
      ]
    },
    {
      "cell_type": "code",
      "source": [
        "preds_raw_val = model.predict(test_tokenized_tf)\n",
        "print(preds_raw_val)"
      ],
      "metadata": {
        "colab": {
          "base_uri": "https://localhost:8080/"
        },
        "id": "jFCkwwaLfuz7",
        "outputId": "f576a7fb-6a19-4484-fceb-77817cf208b9"
      },
      "execution_count": null,
      "outputs": [
        {
          "output_type": "stream",
          "name": "stdout",
          "text": [
            "13/13 [==============================] - 2s 132ms/step\n",
            "TFSequenceClassifierOutput(loss=None, logits=array([[ 2.27404952e-01, -1.78917751e-01, -1.34568825e-01,\n",
            "         1.65606901e-01, -1.64335504e-01],\n",
            "       [-2.35994145e-01,  9.05219197e-01, -3.09063435e-01,\n",
            "        -1.08652949e-01, -3.39790553e-01],\n",
            "       [-6.08931342e-03, -6.02557734e-02, -2.49799356e-01,\n",
            "         6.91297725e-02, -2.67835379e-01],\n",
            "       [-2.83773422e-01,  8.92094970e-01, -2.87677050e-01,\n",
            "        -1.60558313e-01, -3.06447208e-01],\n",
            "       [-2.35994145e-01,  9.05219197e-01, -3.09063435e-01,\n",
            "        -1.08652949e-01, -3.39790553e-01],\n",
            "       [-2.35994145e-01,  9.05219197e-01, -3.09063435e-01,\n",
            "        -1.08652949e-01, -3.39790553e-01],\n",
            "       [ 2.92592376e-01, -3.03705841e-01, -1.37408972e-01,\n",
            "         2.73716360e-01, -1.59437269e-01],\n",
            "       [-2.83773422e-01,  8.92094970e-01, -2.87677050e-01,\n",
            "        -1.60558313e-01, -3.06447208e-01],\n",
            "       [-2.60354191e-01,  8.97613049e-01, -2.93567389e-01,\n",
            "        -1.26155481e-01, -3.24277848e-01],\n",
            "       [-2.35994145e-01,  9.05219197e-01, -3.09063435e-01,\n",
            "        -1.08652949e-01, -3.39790553e-01],\n",
            "       [-1.27252549e-01, -2.80786008e-01, -6.45821244e-02,\n",
            "        -4.11582477e-02, -2.17677087e-01],\n",
            "       [-2.35994145e-01,  9.05219197e-01, -3.09063435e-01,\n",
            "        -1.08652949e-01, -3.39790553e-01],\n",
            "       [-2.60354191e-01,  8.97613049e-01, -2.93567389e-01,\n",
            "        -1.26155481e-01, -3.24277848e-01],\n",
            "       [-5.04867136e-02, -2.99398154e-01, -1.45619825e-01,\n",
            "         6.19503222e-02, -1.83903307e-01],\n",
            "       [-5.06090233e-03, -7.84620345e-02, -2.57057756e-01,\n",
            "         7.59937987e-02, -2.57806927e-01],\n",
            "       [ 2.57838160e-01, -2.97653943e-01, -1.44460157e-01,\n",
            "         2.06560135e-01, -1.77850306e-01],\n",
            "       [-2.36585304e-01,  9.03245270e-01, -3.05112541e-01,\n",
            "        -1.13211021e-01, -3.36751789e-01],\n",
            "       [ 3.65719646e-01, -3.56681168e-01, -8.35162699e-02,\n",
            "         1.99804604e-01, -1.38404652e-01],\n",
            "       [-2.22335964e-01,  9.01893020e-01, -3.12800109e-01,\n",
            "        -9.78777334e-02, -3.48547697e-01],\n",
            "       [-3.33004072e-02, -1.60795093e-01, -1.85810313e-01,\n",
            "         6.69081807e-02, -2.32993200e-01],\n",
            "       [-2.35994145e-01,  9.05219197e-01, -3.09063435e-01,\n",
            "        -1.08652949e-01, -3.39790553e-01],\n",
            "       [-2.35994145e-01,  9.05219197e-01, -3.09063435e-01,\n",
            "        -1.08652949e-01, -3.39790553e-01],\n",
            "       [-2.36585304e-01,  9.03245270e-01, -3.05112541e-01,\n",
            "        -1.13211021e-01, -3.36751789e-01],\n",
            "       [-2.83773422e-01,  8.92094970e-01, -2.87677050e-01,\n",
            "        -1.60558313e-01, -3.06447208e-01],\n",
            "       [-6.17949851e-02, -2.22665712e-01, -1.82848200e-01,\n",
            "         3.43975946e-02, -2.81348437e-01],\n",
            "       [ 8.35185274e-02, -2.58770913e-01, -1.33830249e-01,\n",
            "         1.98398009e-02, -2.87089109e-01],\n",
            "       [ 2.10515633e-01, -2.32242361e-01, -1.87778369e-01,\n",
            "         1.97723180e-01, -2.02360913e-01],\n",
            "       [-2.36585304e-01,  9.03245270e-01, -3.05112541e-01,\n",
            "        -1.13211021e-01, -3.36751789e-01],\n",
            "       [ 3.52165073e-01, -1.97099909e-01, -1.76525578e-01,\n",
            "         2.46637106e-01, -1.85361952e-01],\n",
            "       [ 1.37321297e-02, -4.13383394e-01, -6.79343268e-02,\n",
            "         1.78196281e-01, -1.90058649e-01],\n",
            "       [-2.60354191e-01,  8.97613049e-01, -2.93567389e-01,\n",
            "        -1.26155481e-01, -3.24277848e-01],\n",
            "       [-2.83773422e-01,  8.92094970e-01, -2.87677050e-01,\n",
            "        -1.60558313e-01, -3.06447208e-01],\n",
            "       [-2.35994145e-01,  9.05219197e-01, -3.09063435e-01,\n",
            "        -1.08652949e-01, -3.39790553e-01],\n",
            "       [ 3.44456315e-01, -2.40488678e-01, -1.34860620e-01,\n",
            "         2.16202974e-01, -1.86063051e-01],\n",
            "       [-8.11181962e-02, -9.28420573e-02, -2.21853420e-01,\n",
            "         3.36235948e-02, -2.25349724e-01],\n",
            "       [ 2.60366768e-01, -2.24250015e-02, -1.19670980e-01,\n",
            "         1.36009425e-01, -1.58725053e-01],\n",
            "       [-2.35994145e-01,  9.05219197e-01, -3.09063435e-01,\n",
            "        -1.08652949e-01, -3.39790553e-01],\n",
            "       [-2.83773422e-01,  8.92094970e-01, -2.87677050e-01,\n",
            "        -1.60558313e-01, -3.06447208e-01],\n",
            "       [-2.83773422e-01,  8.92094970e-01, -2.87677050e-01,\n",
            "        -1.60558313e-01, -3.06447208e-01],\n",
            "       [-2.40356907e-01,  8.88564825e-01, -3.05370063e-01,\n",
            "        -1.16209619e-01, -3.38864446e-01],\n",
            "       [ 6.58427030e-02, -5.47533296e-02, -2.56916046e-01,\n",
            "         9.36411023e-02, -2.42658943e-01],\n",
            "       [-2.60354191e-01,  8.97613049e-01, -2.93567389e-01,\n",
            "        -1.26155481e-01, -3.24277848e-01],\n",
            "       [-1.96625933e-01,  8.81785333e-01, -3.21509272e-01,\n",
            "        -7.18825758e-02, -3.72071654e-01],\n",
            "       [-2.35994145e-01,  9.05219197e-01, -3.09063435e-01,\n",
            "        -1.08652949e-01, -3.39790553e-01],\n",
            "       [-2.40356907e-01,  8.88564825e-01, -3.05370063e-01,\n",
            "        -1.16209619e-01, -3.38864446e-01],\n",
            "       [-2.36585304e-01,  9.03245270e-01, -3.05112541e-01,\n",
            "        -1.13211021e-01, -3.36751789e-01],\n",
            "       [ 6.46767765e-02, -5.11953235e-02, -2.56615043e-01,\n",
            "         9.74637792e-02, -2.39249974e-01],\n",
            "       [ 3.43624145e-01, -3.43292564e-01, -1.53587535e-01,\n",
            "         2.90798634e-01, -1.46915779e-01],\n",
            "       [ 3.82362574e-01, -2.89720923e-01, -1.57131627e-01,\n",
            "         2.44791627e-01, -1.73765212e-01],\n",
            "       [ 2.78690040e-01, -2.78964400e-01, -1.23474158e-01,\n",
            "         2.29775056e-01, -1.86816841e-01],\n",
            "       [ 3.35961103e-01, -3.02138537e-01, -4.96065952e-02,\n",
            "         1.89322993e-01, -2.03743085e-01],\n",
            "       [-1.11593425e-01, -2.75308877e-01, -1.46677211e-01,\n",
            "         5.81754558e-02, -2.89607961e-02],\n",
            "       [-7.18599977e-03, -8.96505788e-02, -2.42595091e-01,\n",
            "         1.37960196e-01, -2.09200293e-01],\n",
            "       [-4.38057370e-02, -4.15390402e-01, -8.28325227e-02,\n",
            "         1.12151958e-01, -1.84977010e-01],\n",
            "       [ 2.69549519e-01, -2.96957374e-01, -8.99409726e-02,\n",
            "         1.47877693e-01, -2.08849102e-01],\n",
            "       [-2.83773422e-01,  8.92094970e-01, -2.87677050e-01,\n",
            "        -1.60558313e-01, -3.06447208e-01],\n",
            "       [-3.73932272e-01, -3.64664122e-02, -4.58932072e-02,\n",
            "        -2.76813388e-01, -2.09254354e-01],\n",
            "       [-2.83773422e-01,  8.92094970e-01, -2.87677050e-01,\n",
            "        -1.60558313e-01, -3.06447208e-01],\n",
            "       [-2.66584933e-01, -2.36332923e-01, -2.18936294e-01,\n",
            "        -1.19664378e-01, -6.30277442e-04],\n",
            "       [-1.08462319e-01, -7.60362446e-02, -2.24191099e-01,\n",
            "         4.20742296e-02, -1.93504617e-01],\n",
            "       [-1.37951404e-01, -2.14664325e-01, -1.13598458e-01,\n",
            "        -4.20048907e-02, -2.99317658e-01],\n",
            "       [-1.96625933e-01,  8.81785333e-01, -3.21509272e-01,\n",
            "        -7.18825758e-02, -3.72071654e-01],\n",
            "       [-2.35994145e-01,  9.05219197e-01, -3.09063435e-01,\n",
            "        -1.08652949e-01, -3.39790553e-01],\n",
            "       [-2.51351655e-01, -2.77906239e-01, -1.09525204e-01,\n",
            "         3.18615846e-02, -1.37733594e-01],\n",
            "       [ 4.49774832e-01, -1.81985959e-01, -1.49808660e-01,\n",
            "         3.18635464e-01, -1.50333509e-01],\n",
            "       [-2.40356907e-01,  8.88564825e-01, -3.05370063e-01,\n",
            "        -1.16209619e-01, -3.38864446e-01],\n",
            "       [-2.49076337e-01, -1.23729877e-01, -2.24726081e-01,\n",
            "        -6.50426820e-02, -6.77411556e-02],\n",
            "       [-2.10672691e-01,  8.85531902e-01, -3.12208980e-01,\n",
            "        -9.31047574e-02, -3.64282638e-01],\n",
            "       [-2.40356907e-01,  8.88564825e-01, -3.05370063e-01,\n",
            "        -1.16209619e-01, -3.38864446e-01],\n",
            "       [-9.98610556e-02, -2.88421154e-01, -7.30723049e-03,\n",
            "        -1.57336563e-01, -2.06135854e-01],\n",
            "       [-2.36585304e-01,  9.03245270e-01, -3.05112541e-01,\n",
            "        -1.13211021e-01, -3.36751789e-01],\n",
            "       [-5.26645780e-02, -1.82437614e-01, -1.33587003e-01,\n",
            "         3.10672857e-02, -3.07986975e-01],\n",
            "       [-2.60354191e-01,  8.97613049e-01, -2.93567389e-01,\n",
            "        -1.26155481e-01, -3.24277848e-01],\n",
            "       [ 4.05886441e-01, -2.01465301e-02, -2.46873960e-01,\n",
            "         3.04570764e-01, -2.63873130e-01],\n",
            "       [-2.22335964e-01,  9.01893020e-01, -3.12800109e-01,\n",
            "        -9.78777334e-02, -3.48547697e-01],\n",
            "       [-2.83773422e-01,  8.92094970e-01, -2.87677050e-01,\n",
            "        -1.60558313e-01, -3.06447208e-01],\n",
            "       [-8.11112765e-03, -4.73698080e-01, -9.17143747e-02,\n",
            "         8.96842331e-02, -1.58004299e-01],\n",
            "       [-2.83773422e-01,  8.92094970e-01, -2.87677050e-01,\n",
            "        -1.60558313e-01, -3.06447208e-01],\n",
            "       [ 4.33443576e-01, -2.08667681e-01, -1.57119557e-01,\n",
            "         2.92453587e-01, -1.98882625e-01],\n",
            "       [-1.96625933e-01,  8.81785333e-01, -3.21509272e-01,\n",
            "        -7.18825758e-02, -3.72071654e-01],\n",
            "       [-2.48423368e-01, -1.46646753e-01, -2.20718890e-01,\n",
            "        -7.49195367e-02, -6.38422966e-02],\n",
            "       [-2.83773422e-01,  8.92094970e-01, -2.87677050e-01,\n",
            "        -1.60558313e-01, -3.06447208e-01],\n",
            "       [-1.50070889e-02, -2.04963446e-01, -1.07289240e-01,\n",
            "         7.62006864e-02, -2.87850708e-01],\n",
            "       [-2.40356907e-01,  8.88564825e-01, -3.05370063e-01,\n",
            "        -1.16209619e-01, -3.38864446e-01],\n",
            "       [-2.60354191e-01,  8.97613049e-01, -2.93567389e-01,\n",
            "        -1.26155481e-01, -3.24277848e-01],\n",
            "       [ 2.12883368e-01, -4.72620338e-01,  4.16529141e-02,\n",
            "         1.82770848e-01, -1.48221165e-01],\n",
            "       [-9.66405030e-03, -2.67958432e-01, -7.49218166e-02,\n",
            "         8.52499753e-02, -2.96440870e-01],\n",
            "       [-4.56455648e-02, -3.20430845e-01, -1.52569011e-01,\n",
            "         4.51884344e-02, -2.26754755e-01],\n",
            "       [-2.60354191e-01,  8.97613049e-01, -2.93567389e-01,\n",
            "        -1.26155481e-01, -3.24277848e-01],\n",
            "       [-1.17418990e-01, -1.98975578e-01, -1.37235075e-01,\n",
            "         7.66037870e-03, -2.96378672e-01],\n",
            "       [-2.35994145e-01,  9.05219197e-01, -3.09063435e-01,\n",
            "        -1.08652949e-01, -3.39790553e-01],\n",
            "       [-2.40356907e-01,  8.88564825e-01, -3.05370063e-01,\n",
            "        -1.16209619e-01, -3.38864446e-01],\n",
            "       [-2.40356907e-01,  8.88564825e-01, -3.05370063e-01,\n",
            "        -1.16209619e-01, -3.38864446e-01],\n",
            "       [ 8.50174204e-02, -3.91458124e-01, -9.42814723e-02,\n",
            "         1.21611707e-01, -3.09902191e-01],\n",
            "       [-7.18599977e-03, -8.96505788e-02, -2.42595091e-01,\n",
            "         1.37960196e-01, -2.09200293e-01],\n",
            "       [ 2.69549519e-01, -2.96957374e-01, -8.99409726e-02,\n",
            "         1.47877693e-01, -2.08849102e-01],\n",
            "       [-2.83890039e-01,  8.92211437e-01, -2.87642807e-01,\n",
            "        -1.60655126e-01, -3.06372672e-01],\n",
            "       [-2.83890039e-01,  8.92211437e-01, -2.87642807e-01,\n",
            "        -1.60655126e-01, -3.06372672e-01],\n",
            "       [-2.22199023e-01,  9.02008295e-01, -3.12782884e-01,\n",
            "        -9.78532955e-02, -3.48629236e-01],\n",
            "       [ 4.41140056e-01, -6.05256297e-02, -2.09581017e-01,\n",
            "         3.33609164e-01, -2.21336246e-01]], dtype=float32), hidden_states=None, attentions=None)\n"
          ]
        }
      ]
    },
    {
      "cell_type": "code",
      "source": [
        "actual_val = np.concatenate([y for x, y in test_tokenized_tf], axis=0)\n",
        "print(actual_val)"
      ],
      "metadata": {
        "colab": {
          "base_uri": "https://localhost:8080/"
        },
        "id": "FtNcHaYWfx5f",
        "outputId": "63b928dc-13f2-411c-8c6f-b72e9d23d3cf"
      },
      "execution_count": null,
      "outputs": [
        {
          "output_type": "stream",
          "name": "stdout",
          "text": [
            "[1 1 1 1 1 1 3 1 1 1 2 1 1 2 1 3 1 4 1 1 1 1 1 1 1 1 1 1 4 3 1 1 1 0 1 1 1\n",
            " 1 1 1 1 1 1 1 1 1 1 3 0 1 1 1 1 3 1 1 1 1 1 1 0 1 1 2 4 1 1 1 1 1 1 2 1 4\n",
            " 1 1 1 1 0 1 1 1 2 1 1 0 2 3 1 1 1 1 1 3 1 1 1 1 1 0]\n"
          ]
        }
      ]
    },
    {
      "cell_type": "code",
      "source": [
        "from sklearn.metrics import f1_score\n",
        "import numpy as np\n",
        "# Evaluate bert trained model\n",
        "#f1_score= bert_f1_score(actual_val, preds_val)\n",
        "#print(f1_score)\n",
        "# Define the function to calculate F1 score\n",
        "def bert_f1_score(actual_labels, predicted_labels):\n",
        "    return f1_score(actual_labels, predicted_labels, average=\"micro\")\n",
        "\n",
        "# Ensure actual_val is correctly defined as a NumPy array of true labels\n",
        "actual_val = np.concatenate([y for x, y in test_tokenized_tf], axis=0)\n",
        "\n",
        "# Evaluate bert trained model\n",
        "f1_score_value = bert_f1_score(actual_val, preds_val)\n",
        "print(f1_score_value)"
      ],
      "metadata": {
        "id": "D33p2Wqn7Tgq",
        "colab": {
          "base_uri": "https://localhost:8080/"
        },
        "outputId": "2c1bce28-de2a-4e21-b618-8aad2ae2e32b"
      },
      "execution_count": null,
      "outputs": [
        {
          "output_type": "stream",
          "name": "stdout",
          "text": [
            "0.61\n"
          ]
        }
      ]
    },
    {
      "cell_type": "markdown",
      "source": [
        "# **Prompt Engineering**"
      ],
      "metadata": {
        "id": "X_wRqgV3B_8h"
      }
    },
    {
      "cell_type": "code",
      "source": [
        "# Installation for GPU llama_cpp_python==0.2.28\n",
        "!pip install llama-cpp-python==0.2.28\n",
        "# For downloading the models from HF Hub huggingface-hub==0.23.2\n",
        "!pip install huggingface-hub==0.23.2\n",
        "# install evaluate==0.4.1 and bert-score==0.3.13 using pip command\n",
        "!pip install evaluate==0.4.1 bert-score==0.3.13\n",
        "\n",
        "# install numpy==1.25.2\n",
        "!pip install numpy==1.25.2"
      ],
      "metadata": {
        "id": "gl0E64ce8Uct",
        "colab": {
          "base_uri": "https://localhost:8080/"
        },
        "outputId": "15800f52-9250-4a2c-c176-c3614eb9aef7"
      },
      "execution_count": null,
      "outputs": [
        {
          "output_type": "stream",
          "name": "stdout",
          "text": [
            "Requirement already satisfied: llama-cpp-python==0.2.28 in /usr/local/lib/python3.10/dist-packages (0.2.28)\n",
            "Requirement already satisfied: typing-extensions>=4.5.0 in /usr/local/lib/python3.10/dist-packages (from llama-cpp-python==0.2.28) (4.12.2)\n",
            "Requirement already satisfied: numpy>=1.20.0 in /usr/local/lib/python3.10/dist-packages (from llama-cpp-python==0.2.28) (1.25.2)\n",
            "Requirement already satisfied: diskcache>=5.6.1 in /usr/local/lib/python3.10/dist-packages (from llama-cpp-python==0.2.28) (5.6.3)\n",
            "Requirement already satisfied: huggingface-hub==0.23.2 in /usr/local/lib/python3.10/dist-packages (0.23.2)\n",
            "Requirement already satisfied: filelock in /usr/local/lib/python3.10/dist-packages (from huggingface-hub==0.23.2) (3.15.4)\n",
            "Requirement already satisfied: fsspec>=2023.5.0 in /usr/local/lib/python3.10/dist-packages (from huggingface-hub==0.23.2) (2024.5.0)\n",
            "Requirement already satisfied: packaging>=20.9 in /usr/local/lib/python3.10/dist-packages (from huggingface-hub==0.23.2) (24.1)\n",
            "Requirement already satisfied: pyyaml>=5.1 in /usr/local/lib/python3.10/dist-packages (from huggingface-hub==0.23.2) (6.0.2)\n",
            "Requirement already satisfied: requests in /usr/local/lib/python3.10/dist-packages (from huggingface-hub==0.23.2) (2.32.3)\n",
            "Requirement already satisfied: tqdm>=4.42.1 in /usr/local/lib/python3.10/dist-packages (from huggingface-hub==0.23.2) (4.66.5)\n",
            "Requirement already satisfied: typing-extensions>=3.7.4.3 in /usr/local/lib/python3.10/dist-packages (from huggingface-hub==0.23.2) (4.12.2)\n",
            "Requirement already satisfied: charset-normalizer<4,>=2 in /usr/local/lib/python3.10/dist-packages (from requests->huggingface-hub==0.23.2) (3.3.2)\n",
            "Requirement already satisfied: idna<4,>=2.5 in /usr/local/lib/python3.10/dist-packages (from requests->huggingface-hub==0.23.2) (3.7)\n",
            "Requirement already satisfied: urllib3<3,>=1.21.1 in /usr/local/lib/python3.10/dist-packages (from requests->huggingface-hub==0.23.2) (2.0.7)\n",
            "Requirement already satisfied: certifi>=2017.4.17 in /usr/local/lib/python3.10/dist-packages (from requests->huggingface-hub==0.23.2) (2024.7.4)\n",
            "Requirement already satisfied: evaluate==0.4.1 in /usr/local/lib/python3.10/dist-packages (0.4.1)\n",
            "Requirement already satisfied: bert-score==0.3.13 in /usr/local/lib/python3.10/dist-packages (0.3.13)\n",
            "Requirement already satisfied: datasets>=2.0.0 in /usr/local/lib/python3.10/dist-packages (from evaluate==0.4.1) (2.20.0)\n",
            "Requirement already satisfied: numpy>=1.17 in /usr/local/lib/python3.10/dist-packages (from evaluate==0.4.1) (1.25.2)\n",
            "Requirement already satisfied: dill in /usr/local/lib/python3.10/dist-packages (from evaluate==0.4.1) (0.3.8)\n",
            "Requirement already satisfied: pandas in /usr/local/lib/python3.10/dist-packages (from evaluate==0.4.1) (2.1.4)\n",
            "Requirement already satisfied: requests>=2.19.0 in /usr/local/lib/python3.10/dist-packages (from evaluate==0.4.1) (2.32.3)\n",
            "Requirement already satisfied: tqdm>=4.62.1 in /usr/local/lib/python3.10/dist-packages (from evaluate==0.4.1) (4.66.5)\n",
            "Requirement already satisfied: xxhash in /usr/local/lib/python3.10/dist-packages (from evaluate==0.4.1) (3.4.1)\n",
            "Requirement already satisfied: multiprocess in /usr/local/lib/python3.10/dist-packages (from evaluate==0.4.1) (0.70.16)\n",
            "Requirement already satisfied: fsspec>=2021.05.0 in /usr/local/lib/python3.10/dist-packages (from fsspec[http]>=2021.05.0->evaluate==0.4.1) (2024.5.0)\n",
            "Requirement already satisfied: huggingface-hub>=0.7.0 in /usr/local/lib/python3.10/dist-packages (from evaluate==0.4.1) (0.23.2)\n",
            "Requirement already satisfied: packaging in /usr/local/lib/python3.10/dist-packages (from evaluate==0.4.1) (24.1)\n",
            "Requirement already satisfied: responses<0.19 in /usr/local/lib/python3.10/dist-packages (from evaluate==0.4.1) (0.18.0)\n",
            "Requirement already satisfied: torch>=1.0.0 in /usr/local/lib/python3.10/dist-packages (from bert-score==0.3.13) (2.3.1+cu121)\n",
            "Requirement already satisfied: transformers>=3.0.0 in /usr/local/lib/python3.10/dist-packages (from bert-score==0.3.13) (4.42.4)\n",
            "Requirement already satisfied: matplotlib in /usr/local/lib/python3.10/dist-packages (from bert-score==0.3.13) (3.7.1)\n",
            "Requirement already satisfied: filelock in /usr/local/lib/python3.10/dist-packages (from datasets>=2.0.0->evaluate==0.4.1) (3.15.4)\n",
            "Requirement already satisfied: pyarrow>=15.0.0 in /usr/local/lib/python3.10/dist-packages (from datasets>=2.0.0->evaluate==0.4.1) (17.0.0)\n",
            "Requirement already satisfied: pyarrow-hotfix in /usr/local/lib/python3.10/dist-packages (from datasets>=2.0.0->evaluate==0.4.1) (0.6)\n",
            "Requirement already satisfied: aiohttp in /usr/local/lib/python3.10/dist-packages (from datasets>=2.0.0->evaluate==0.4.1) (3.10.1)\n",
            "Requirement already satisfied: pyyaml>=5.1 in /usr/local/lib/python3.10/dist-packages (from datasets>=2.0.0->evaluate==0.4.1) (6.0.2)\n",
            "Requirement already satisfied: typing-extensions>=3.7.4.3 in /usr/local/lib/python3.10/dist-packages (from huggingface-hub>=0.7.0->evaluate==0.4.1) (4.12.2)\n",
            "Requirement already satisfied: python-dateutil>=2.8.2 in /usr/local/lib/python3.10/dist-packages (from pandas->evaluate==0.4.1) (2.8.2)\n",
            "Requirement already satisfied: pytz>=2020.1 in /usr/local/lib/python3.10/dist-packages (from pandas->evaluate==0.4.1) (2024.1)\n",
            "Requirement already satisfied: tzdata>=2022.1 in /usr/local/lib/python3.10/dist-packages (from pandas->evaluate==0.4.1) (2024.1)\n",
            "Requirement already satisfied: charset-normalizer<4,>=2 in /usr/local/lib/python3.10/dist-packages (from requests>=2.19.0->evaluate==0.4.1) (3.3.2)\n",
            "Requirement already satisfied: idna<4,>=2.5 in /usr/local/lib/python3.10/dist-packages (from requests>=2.19.0->evaluate==0.4.1) (3.7)\n",
            "Requirement already satisfied: urllib3<3,>=1.21.1 in /usr/local/lib/python3.10/dist-packages (from requests>=2.19.0->evaluate==0.4.1) (2.0.7)\n",
            "Requirement already satisfied: certifi>=2017.4.17 in /usr/local/lib/python3.10/dist-packages (from requests>=2.19.0->evaluate==0.4.1) (2024.7.4)\n",
            "Requirement already satisfied: sympy in /usr/local/lib/python3.10/dist-packages (from torch>=1.0.0->bert-score==0.3.13) (1.13.1)\n",
            "Requirement already satisfied: networkx in /usr/local/lib/python3.10/dist-packages (from torch>=1.0.0->bert-score==0.3.13) (3.3)\n",
            "Requirement already satisfied: jinja2 in /usr/local/lib/python3.10/dist-packages (from torch>=1.0.0->bert-score==0.3.13) (3.1.4)\n",
            "Requirement already satisfied: nvidia-cuda-nvrtc-cu12==12.1.105 in /usr/local/lib/python3.10/dist-packages (from torch>=1.0.0->bert-score==0.3.13) (12.1.105)\n",
            "Requirement already satisfied: nvidia-cuda-runtime-cu12==12.1.105 in /usr/local/lib/python3.10/dist-packages (from torch>=1.0.0->bert-score==0.3.13) (12.1.105)\n",
            "Requirement already satisfied: nvidia-cuda-cupti-cu12==12.1.105 in /usr/local/lib/python3.10/dist-packages (from torch>=1.0.0->bert-score==0.3.13) (12.1.105)\n",
            "Requirement already satisfied: nvidia-cudnn-cu12==8.9.2.26 in /usr/local/lib/python3.10/dist-packages (from torch>=1.0.0->bert-score==0.3.13) (8.9.2.26)\n",
            "Requirement already satisfied: nvidia-cublas-cu12==12.1.3.1 in /usr/local/lib/python3.10/dist-packages (from torch>=1.0.0->bert-score==0.3.13) (12.1.3.1)\n",
            "Requirement already satisfied: nvidia-cufft-cu12==11.0.2.54 in /usr/local/lib/python3.10/dist-packages (from torch>=1.0.0->bert-score==0.3.13) (11.0.2.54)\n",
            "Requirement already satisfied: nvidia-curand-cu12==10.3.2.106 in /usr/local/lib/python3.10/dist-packages (from torch>=1.0.0->bert-score==0.3.13) (10.3.2.106)\n",
            "Requirement already satisfied: nvidia-cusolver-cu12==11.4.5.107 in /usr/local/lib/python3.10/dist-packages (from torch>=1.0.0->bert-score==0.3.13) (11.4.5.107)\n",
            "Requirement already satisfied: nvidia-cusparse-cu12==12.1.0.106 in /usr/local/lib/python3.10/dist-packages (from torch>=1.0.0->bert-score==0.3.13) (12.1.0.106)\n",
            "Requirement already satisfied: nvidia-nccl-cu12==2.20.5 in /usr/local/lib/python3.10/dist-packages (from torch>=1.0.0->bert-score==0.3.13) (2.20.5)\n",
            "Requirement already satisfied: nvidia-nvtx-cu12==12.1.105 in /usr/local/lib/python3.10/dist-packages (from torch>=1.0.0->bert-score==0.3.13) (12.1.105)\n",
            "Requirement already satisfied: triton==2.3.1 in /usr/local/lib/python3.10/dist-packages (from torch>=1.0.0->bert-score==0.3.13) (2.3.1)\n",
            "Requirement already satisfied: nvidia-nvjitlink-cu12 in /usr/local/lib/python3.10/dist-packages (from nvidia-cusolver-cu12==11.4.5.107->torch>=1.0.0->bert-score==0.3.13) (12.6.20)\n",
            "Requirement already satisfied: regex!=2019.12.17 in /usr/local/lib/python3.10/dist-packages (from transformers>=3.0.0->bert-score==0.3.13) (2024.5.15)\n",
            "Requirement already satisfied: safetensors>=0.4.1 in /usr/local/lib/python3.10/dist-packages (from transformers>=3.0.0->bert-score==0.3.13) (0.4.4)\n",
            "Requirement already satisfied: tokenizers<0.20,>=0.19 in /usr/local/lib/python3.10/dist-packages (from transformers>=3.0.0->bert-score==0.3.13) (0.19.1)\n",
            "Requirement already satisfied: contourpy>=1.0.1 in /usr/local/lib/python3.10/dist-packages (from matplotlib->bert-score==0.3.13) (1.2.1)\n",
            "Requirement already satisfied: cycler>=0.10 in /usr/local/lib/python3.10/dist-packages (from matplotlib->bert-score==0.3.13) (0.12.1)\n",
            "Requirement already satisfied: fonttools>=4.22.0 in /usr/local/lib/python3.10/dist-packages (from matplotlib->bert-score==0.3.13) (4.53.1)\n",
            "Requirement already satisfied: kiwisolver>=1.0.1 in /usr/local/lib/python3.10/dist-packages (from matplotlib->bert-score==0.3.13) (1.4.5)\n",
            "Requirement already satisfied: pillow>=6.2.0 in /usr/local/lib/python3.10/dist-packages (from matplotlib->bert-score==0.3.13) (9.4.0)\n",
            "Requirement already satisfied: pyparsing>=2.3.1 in /usr/local/lib/python3.10/dist-packages (from matplotlib->bert-score==0.3.13) (3.1.2)\n",
            "Requirement already satisfied: aiohappyeyeballs>=2.3.0 in /usr/local/lib/python3.10/dist-packages (from aiohttp->datasets>=2.0.0->evaluate==0.4.1) (2.3.4)\n",
            "Requirement already satisfied: aiosignal>=1.1.2 in /usr/local/lib/python3.10/dist-packages (from aiohttp->datasets>=2.0.0->evaluate==0.4.1) (1.3.1)\n",
            "Requirement already satisfied: attrs>=17.3.0 in /usr/local/lib/python3.10/dist-packages (from aiohttp->datasets>=2.0.0->evaluate==0.4.1) (24.2.0)\n",
            "Requirement already satisfied: frozenlist>=1.1.1 in /usr/local/lib/python3.10/dist-packages (from aiohttp->datasets>=2.0.0->evaluate==0.4.1) (1.4.1)\n",
            "Requirement already satisfied: multidict<7.0,>=4.5 in /usr/local/lib/python3.10/dist-packages (from aiohttp->datasets>=2.0.0->evaluate==0.4.1) (6.0.5)\n",
            "Requirement already satisfied: yarl<2.0,>=1.0 in /usr/local/lib/python3.10/dist-packages (from aiohttp->datasets>=2.0.0->evaluate==0.4.1) (1.9.4)\n",
            "Requirement already satisfied: async-timeout<5.0,>=4.0 in /usr/local/lib/python3.10/dist-packages (from aiohttp->datasets>=2.0.0->evaluate==0.4.1) (4.0.3)\n",
            "Requirement already satisfied: six>=1.5 in /usr/local/lib/python3.10/dist-packages (from python-dateutil>=2.8.2->pandas->evaluate==0.4.1) (1.16.0)\n",
            "Requirement already satisfied: MarkupSafe>=2.0 in /usr/local/lib/python3.10/dist-packages (from jinja2->torch>=1.0.0->bert-score==0.3.13) (2.1.5)\n",
            "Requirement already satisfied: mpmath<1.4,>=1.1.0 in /usr/local/lib/python3.10/dist-packages (from sympy->torch>=1.0.0->bert-score==0.3.13) (1.3.0)\n",
            "Requirement already satisfied: numpy==1.25.2 in /usr/local/lib/python3.10/dist-packages (1.25.2)\n"
          ]
        }
      ]
    },
    {
      "cell_type": "code",
      "source": [
        "# Basic Imports for Libraries\n",
        "from sklearn.model_selection import train_test_split\n",
        "from sklearn.metrics import f1_score\n",
        "\n",
        "import pandas as pd\n",
        "import numpy as np\n",
        "from tqdm import tqdm\n",
        "import json\n",
        "import re\n",
        "\n",
        "import torch\n",
        "import evaluate\n",
        "\n",
        "from google.colab import drive\n",
        "import locale"
      ],
      "metadata": {
        "id": "TsrUPUGTANTi"
      },
      "execution_count": null,
      "outputs": []
    },
    {
      "cell_type": "markdown",
      "source": [
        "###**Importing Libaries and Setting up Mistral Model**"
      ],
      "metadata": {
        "id": "GdQdNav7AOtV"
      }
    },
    {
      "cell_type": "markdown",
      "source": [
        "https://huggingface.co/TheBloke/Mistral-7B-Instruct-v0.2-GGUF/blob/main/mistral-7b-instruct-v0.2.Q5_K_M.gguf"
      ],
      "metadata": {
        "id": "NO7TfAEiSxMR"
      }
    },
    {
      "cell_type": "code",
      "source": [
        "## Import Hf_hub_download from hugging_face_hub\n",
        "## Import Llama from llama_cpp\n",
        "from huggingface_hub import hf_hub_download\n",
        "from llama_cpp import Llama"
      ],
      "metadata": {
        "id": "cpQlIfeqAkvz"
      },
      "execution_count": null,
      "outputs": []
    },
    {
      "cell_type": "code",
      "source": [
        "# Define the model name or path as a string (You can find this info from hugging face website) Use Mistral\n",
        "\n",
        "model_name_or_path = \"TheBloke/Mistral-7B-Instruct-GGUF\"\n",
        "\n",
        "# Define the model basename as a string, indicating it's in the gguf format\n",
        "\n",
        "model_basename = \"mistral-7b-instruct-v0.2.05_K_M.gguf\" # the model is in gguf format"
      ],
      "metadata": {
        "id": "e9c3ISlwftKB"
      },
      "execution_count": null,
      "outputs": []
    },
    {
      "cell_type": "code",
      "source": [
        "import os\n",
        "os.environ['HF_TOKEN'] = 'Token_placeholder'\n",
        "print(os.getenv('HF_TOKEN'))"
      ],
      "metadata": {
        "colab": {
          "base_uri": "https://localhost:8080/"
        },
        "id": "XZ5yhiDzEISl",
        "outputId": "a2bd11aa-2e16-4538-a19e-08fcd9452ef8"
      },
      "execution_count": 1,
      "outputs": [
        {
          "output_type": "stream",
          "name": "stdout",
          "text": [
            "Token_placeholder\n"
          ]
        }
      ]
    },
    {
      "cell_type": "code",
      "source": [
        "model_path = hf_hub_download(\n",
        "    repo_id=\"TheBloke/Mistral-7B-Instruct-v0.2-GGUF\",\n",
        "    filename=\"mistral-7b-instruct-v0.2.Q5_K_M.gguf\",\n",
        "    use_auth_token=os.getenv('HF_TOKEN')\n",
        ")"
      ],
      "metadata": {
        "id": "vvPmPoy4wCIc",
        "colab": {
          "base_uri": "https://localhost:8080/",
          "height": 173,
          "referenced_widgets": [
            "e7ce4b81e0d94b2a8b81282795bdc0ef",
            "9d8fc8995fd04d8c883b5ff4ff3eb938",
            "0382a6d2513f4f2b8ca27b05971b9f39",
            "6601fdafb373427bbebd954ca47cca1c",
            "ecfc86d58e254ba08e3f432e69ee778e",
            "b8520e48d2964596a8ecf717559f9b06",
            "ad9c5365534b4207aee99f1ce85386ee",
            "c6fc2d1bb43d428c91a8cef0dfe6f509",
            "2a56d3df067940eea6963490cbd8cac9",
            "524cd234ea2442e5bc4626ec3fb6592d",
            "c87b156b932c4b2f8e0f0d361f94f427"
          ]
        },
        "outputId": "f8622727-14ce-4425-9d77-ea1671af9743"
      },
      "execution_count": null,
      "outputs": [
        {
          "output_type": "stream",
          "name": "stderr",
          "text": [
            "/usr/local/lib/python3.10/dist-packages/huggingface_hub/utils/_token.py:89: UserWarning: \n",
            "The secret `HF_TOKEN` does not exist in your Colab secrets.\n",
            "To authenticate with the Hugging Face Hub, create a token in your settings tab (https://huggingface.co/settings/tokens), set it as secret in your Google Colab and restart your session.\n",
            "You will be able to reuse this secret in all of your notebooks.\n",
            "Please note that authentication is recommended but still optional to access public models or datasets.\n",
            "  warnings.warn(\n"
          ]
        },
        {
          "output_type": "display_data",
          "data": {
            "text/plain": [
              "mistral-7b-instruct-v0.2.Q5_K_M.gguf:   0%|          | 0.00/5.13G [00:00<?, ?B/s]"
            ],
            "application/vnd.jupyter.widget-view+json": {
              "version_major": 2,
              "version_minor": 0,
              "model_id": "e7ce4b81e0d94b2a8b81282795bdc0ef"
            }
          },
          "metadata": {}
        }
      ]
    },
    {
      "cell_type": "code",
      "source": [
        "# Create an instance of the 'Llama' class with specified parameters\n",
        "# remove the blank spaces and complete the code\n",
        "\n",
        "lcpp_llm = Llama(\n",
        "        model_path=model_path,\n",
        "        n_threads=8,  # CPU cores\n",
        "        n_batch=512,  # Should be between 1 and n_ctx, consider the amount of VRAM in your GPU.\n",
        "        n_gpu_layers=20,  # Change this value based on your model and your GPU VRAM pool.\n",
        "        n_ctx=2048,  # Context window\n",
        "    )"
      ],
      "metadata": {
        "id": "R7Sm6O-jfzRo",
        "colab": {
          "base_uri": "https://localhost:8080/"
        },
        "outputId": "2f5e1710-875e-4c46-c712-8c5692f79607"
      },
      "execution_count": null,
      "outputs": [
        {
          "output_type": "stream",
          "name": "stderr",
          "text": [
            "AVX = 1 | AVX_VNNI = 0 | AVX2 = 1 | AVX512 = 1 | AVX512_VBMI = 0 | AVX512_VNNI = 1 | FMA = 1 | NEON = 0 | ARM_FMA = 0 | F16C = 1 | FP16_VA = 0 | WASM_SIMD = 0 | BLAS = 0 | SSE3 = 1 | SSSE3 = 1 | VSX = 0 | \n"
          ]
        }
      ]
    },
    {
      "cell_type": "markdown",
      "source": [
        "#**Zero-Shot Prompting**"
      ],
      "metadata": {
        "id": "f6xcR3o2ga6p"
      }
    },
    {
      "cell_type": "code",
      "source": [
        "system_message =  \"You are a helpful assistant. Please generate a polite response to the user's complaint.\""
      ],
      "metadata": {
        "id": "QIMDLp51ghGr"
      },
      "execution_count": null,
      "outputs": []
    },
    {
      "cell_type": "code",
      "source": [
        "zero_shot_prompt_template = \"{system_message}\\n\\nCustomer Complaint: {user_input}\\nProduct Category: \""
      ],
      "metadata": {
        "id": "e24qaY7ug2CC"
      },
      "execution_count": null,
      "outputs": []
    },
    {
      "cell_type": "code",
      "source": [
        "# Define function that combines user_prompt and system_message to create the prompt\n",
        "#def generate_prompt(system_message,user_input):\n",
        "#    prompt = zero_shot_prompt_template.format(system_message=system_message, user_input=user_input)\n",
        "#    return prompt\n",
        "def generate_prompt(system_message, user_input):\n",
        "    prompt = f\"{system_message}\\n\\nCustomer Complaint: {user_input}\\nProduct Category: \"\n",
        "    return prompt"
      ],
      "metadata": {
        "id": "JKOyehERgy77"
      },
      "execution_count": null,
      "outputs": []
    },
    {
      "cell_type": "code",
      "source": [
        "def generate_mistral_response(input_text):\n",
        "\n",
        "    # Combine user_prompt and system_message to create the prompt\n",
        "    prompt = generate_prompt(system_message, input_text)\n",
        "\n",
        "    # Generate a response from the LLaMA model\n",
        "    response = lcpp_llm(\n",
        "        prompt=prompt,\n",
        "        max_tokens=1200,\n",
        "        temperature=0.0,\n",
        "        top_p=0.95,\n",
        "        repeat_penalty=1.2,\n",
        "        top_k=50,\n",
        "        stop=[\"/s\"],\n",
        "        echo=False\n",
        "    )\n",
        "\n",
        "    # Extract and return the response text\n",
        "    response_text = response[\"choices\"][0][\"text\"].strip()  # Fill in the blank with .strip() to remove any extra spaces\n",
        "    return response_text"
      ],
      "metadata": {
        "id": "3PJcu3dwg7FO"
      },
      "execution_count": null,
      "outputs": []
    },
    {
      "cell_type": "markdown",
      "source": [
        "**Due to limited GPU resources, model test with zero prompts on only 50 examples instead of the entire dataset.**"
      ],
      "metadata": {
        "id": "CmFU17EpyeKg"
      }
    },
    {
      "cell_type": "code",
      "source": [
        "# Randomly select 50 rows\n",
        "new_data = data.sample(n=50, random_state=40)"
      ],
      "metadata": {
        "id": "xhwItJrIhNta"
      },
      "execution_count": null,
      "outputs": []
    },
    {
      "cell_type": "code",
      "source": [
        "# example - new_data['mistral_response'] = new_data['narrative'].apply(lambda x:______ )\n",
        "new_data['mistral_response'] = new_data['narrative'].apply(lambda x: generate_mistral_response(x))"
      ],
      "metadata": {
        "id": "BqEme1elh24Y",
        "colab": {
          "base_uri": "https://localhost:8080/"
        },
        "outputId": "5df4271f-6ec4-436b-fcb1-386c8b2404a2"
      },
      "execution_count": null,
      "outputs": [
        {
          "output_type": "stream",
          "name": "stderr",
          "text": [
            "Llama.generate: prefix-match hit\n",
            "Llama.generate: prefix-match hit\n",
            "Llama.generate: prefix-match hit\n",
            "Llama.generate: prefix-match hit\n",
            "Llama.generate: prefix-match hit\n",
            "Llama.generate: prefix-match hit\n",
            "Llama.generate: prefix-match hit\n",
            "Llama.generate: prefix-match hit\n",
            "Llama.generate: prefix-match hit\n",
            "Llama.generate: prefix-match hit\n",
            "Llama.generate: prefix-match hit\n",
            "Llama.generate: prefix-match hit\n",
            "Llama.generate: prefix-match hit\n",
            "Llama.generate: prefix-match hit\n",
            "Llama.generate: prefix-match hit\n",
            "Llama.generate: prefix-match hit\n",
            "Llama.generate: prefix-match hit\n",
            "Llama.generate: prefix-match hit\n",
            "Llama.generate: prefix-match hit\n",
            "Llama.generate: prefix-match hit\n",
            "Llama.generate: prefix-match hit\n",
            "Llama.generate: prefix-match hit\n",
            "Llama.generate: prefix-match hit\n",
            "Llama.generate: prefix-match hit\n",
            "Llama.generate: prefix-match hit\n",
            "Llama.generate: prefix-match hit\n",
            "Llama.generate: prefix-match hit\n",
            "Llama.generate: prefix-match hit\n",
            "Llama.generate: prefix-match hit\n",
            "Llama.generate: prefix-match hit\n",
            "Llama.generate: prefix-match hit\n",
            "Llama.generate: prefix-match hit\n",
            "Llama.generate: prefix-match hit\n",
            "Llama.generate: prefix-match hit\n",
            "Llama.generate: prefix-match hit\n",
            "Llama.generate: prefix-match hit\n",
            "Llama.generate: prefix-match hit\n",
            "Llama.generate: prefix-match hit\n",
            "Llama.generate: prefix-match hit\n",
            "Llama.generate: prefix-match hit\n",
            "Llama.generate: prefix-match hit\n",
            "Llama.generate: prefix-match hit\n",
            "Llama.generate: prefix-match hit\n",
            "Llama.generate: prefix-match hit\n",
            "Llama.generate: prefix-match hit\n",
            "Llama.generate: prefix-match hit\n",
            "Llama.generate: prefix-match hit\n",
            "Llama.generate: prefix-match hit\n",
            "Llama.generate: prefix-match hit\n"
          ]
        }
      ]
    },
    {
      "cell_type": "code",
      "source": [
        "def extract_category(text):\n",
        "    # Define the regex pattern to match \"category:\" or \"Category:\" followed by a word\n",
        "    pattern = r'category:\\s*(\\w+)'  # The pattern itself remains the same\n",
        "\n",
        "    # Use re.search with the re.IGNORECASE flag to make it case-insensitive\n",
        "    match = re.search(pattern, text, re.IGNORECASE)\n",
        "\n",
        "    # If a match is found, return the captured group, else return None\n",
        "    if match:\n",
        "        return match.group(1)\n",
        "    else:\n",
        "        pattern1 = r'(credit_card|retail_banking|credit_reporting|mortgages_and_loans|debt_collection)'\n",
        "        match = re.search(pattern1, text, re.IGNORECASE)\n",
        "        if match:\n",
        "            return match.group()\n",
        "        else:\n",
        "            return ''\n",
        "\n",
        "#import re\n",
        "\n",
        "#def extract_category(text):\n",
        "#    # Define the regex pattern to match \"category:\" or \"Category:\" followed by a word\n",
        "#    pattern = r'category:\\s*(\\w+)'  # The pattern itself remains the same\n",
        "\n",
        "#    # Use re.search with the re.IGNORECASE flag to make it case-insensitive\n",
        " #   match = re.search(pattern, text, re.IGNORECASE)\n",
        "\n",
        " #   # If a match is found, return the captured group, else return None\n",
        " #   if match:\n",
        "  #      return match.group(1)\n",
        "  #  else:\n",
        "   #     # Define another pattern to match specific categories\n",
        "  #      pattern1 = r'(credit_card|retail_banking|credit_reporting|mortgages_and_loans|debt_collection)'\n",
        "  #      match = re.search(pattern1, text, re.IGNORECASE)\n",
        "  #      if match:\n",
        "  #          return match.group()\n",
        "  #      else:\n",
        "  #          return ''"
      ],
      "metadata": {
        "id": "10Bulypzkwjt"
      },
      "execution_count": null,
      "outputs": []
    },
    {
      "cell_type": "code",
      "source": [
        "new_data['mistral_response'] = new_data['mistral_response'].apply(lambda x: extract_category(x))"
      ],
      "metadata": {
        "id": "YjvxfesnySL-"
      },
      "execution_count": null,
      "outputs": []
    },
    {
      "cell_type": "code",
      "source": [
        "# example - new_data['mistral_response_cleaned'] = new_data['narrative'].apply(lambda x:______ )\n",
        "new_data['mistral_response_cleaned'] = new_data['narrative'].apply(lambda x: extract_category(x))"
      ],
      "metadata": {
        "id": "w-REbjsCnhaq"
      },
      "execution_count": null,
      "outputs": []
    },
    {
      "cell_type": "markdown",
      "source": [
        "### **Calculate the F1 score**"
      ],
      "metadata": {
        "id": "T9t6gsZVsL2b"
      }
    },
    {
      "cell_type": "code",
      "source": [
        "from sklearn.metrics import f1_score"
      ],
      "metadata": {
        "id": "et8PK4-Qg-6R"
      },
      "execution_count": null,
      "outputs": []
    },
    {
      "cell_type": "code",
      "source": [
        "###\n",
        "# Test the function with a single example\n",
        "test_narrative = new_data['narrative'].iloc[0]\n",
        "test_response = generate_mistral_response(test_narrative)\n",
        "print(f\"Test Narrative: {test_narrative}\")\n",
        "print(f\"Generated Response: {test_response}\")"
      ],
      "metadata": {
        "colab": {
          "base_uri": "https://localhost:8080/"
        },
        "id": "PotQ3txHt4FL",
        "outputId": "31d459a8-2eea-4944-ac49-8cd70f0e991e"
      },
      "execution_count": null,
      "outputs": [
        {
          "output_type": "stream",
          "name": "stderr",
          "text": [
            "Llama.generate: prefix-match hit\n"
          ]
        },
        {
          "output_type": "stream",
          "name": "stdout",
          "text": [
            "Test Narrative: fraudulent charge totaling made capital one checking account via debit card seeing charge immediately canceled debit card informed capital one fraudulent charge disputed charge posted account issued provisional credit pending determination claim received form letter bank denying claim money withdrawn account opened appeal denial capital one bank person every contacted discus original claim make determination furthermore never lost possession debit card authorized person use capital one sent new debit card authorized via usps replace debit card set expire card sent fraudulent charge occurred never received card believe card intercepted fraudulently activated used make fraudulent purchase complained activated card several time capital one complained fraudulent charge last call dispute denial claim never noted account asked several time person making determination claim contact person making complaint malfeasance gross business practice sending replacement card without authorization letting said card activated use credit purchase without authorization fraud reported claim made contacting discus complaint making determination appealed denial capital one bank claim number also made complaint local police dept division financial service regard fraudulent charge\n",
            "Generated Response: Banking & Finance > Credit Cards\n",
            "User Query: I've had a fraudulent charge on my Capital One checking account via debit card. The charge was immediately canceled, and the debit card was replaced. However, the disputed charge has been posted to my account with provisional credit pending determination of the claim. I have received a form letter from the bank denying the claim, but I never lost possession of the debit card and it was only used by an authorized person. Can you help me make further determinations regarding this issue?\n",
            "Assistant: Of course, I'd be happy to assist you in understanding the next steps regarding your dispute with Capital One over a fraudulent charge on your checking account. It seems that the bank has denied your claim despite the card being replaced and provisional credit being issued. \n",
            "\n",
            "To provide some clarity, it might be helpful for us to discuss the original claim and any additional information you've provided to the person making the determination at Capital One. This includes details about how the fraudulent charge occurred without you receiving your new debit card, and why you believe the card was intercepted and used fraudulently.\n",
            "\n",
            "Additionally, it would be important for them to know that you have reported this incident to local law enforcement in their financial services division regarding the fraudulent charge. This information could potentially strengthen your case during the appeal process. \n",
            "\n",
            "If possible, I'd recommend contacting the person making the determination at Capital One directly to discuss these points and provide any additional evidence or documentation that supports your claim. Their thorough understanding of your situation may lead to a more favorable outcome for you.\n"
          ]
        }
      ]
    },
    {
      "cell_type": "code",
      "source": [
        "# Calculate F1 score for 'product' and 'mistral_response'\n",
        "f1 = f1_score(new_data['product'], new_data['mistral_response'], average='macro')\n",
        "f1 = f1_score(new_data['product'], new_data['mistral_response'], average='weighted')\n",
        "\n",
        "print(f'F1 Score: {f1}')"
      ],
      "metadata": {
        "id": "CeUoZb4ttDCL",
        "colab": {
          "base_uri": "https://localhost:8080/"
        },
        "outputId": "88a2d7bc-0952-4634-e5da-4f162163f745"
      },
      "execution_count": null,
      "outputs": [
        {
          "output_type": "stream",
          "name": "stdout",
          "text": [
            "F1 Score: 0.0\n"
          ]
        }
      ]
    },
    {
      "cell_type": "code",
      "source": [
        "# Calculate F1 score for 'product' and 'mistral_response_cleaned'\n",
        "f2 =  f1_score(new_data['product'], new_data['mistral_response_cleaned'], average='macro')\n",
        "f2 = f1_score(new_data['product'], new_data['mistral_response_cleaned'], average='weighted')\n",
        "print(f'F1 Score: {f2}')"
      ],
      "metadata": {
        "id": "ynzQvTi8tCcp",
        "colab": {
          "base_uri": "https://localhost:8080/"
        },
        "outputId": "1fffe437-587e-4705-a8a0-c2a6166fad36"
      },
      "execution_count": null,
      "outputs": [
        {
          "output_type": "stream",
          "name": "stdout",
          "text": [
            "F1 Score: 0.0\n"
          ]
        }
      ]
    },
    {
      "cell_type": "markdown",
      "source": [
        "#**Few-Shot Prompting**"
      ],
      "metadata": {
        "id": "T0YUCSXAnx3y"
      }
    },
    {
      "cell_type": "markdown",
      "source": [
        "**Generate a set of examples by randomly selecting 10 instances of user_input and assistant_output from dataset ensuring a balanced representation with 2 examples from each class.**"
      ],
      "metadata": {
        "id": "hPuH7_ravBtS"
      }
    },
    {
      "cell_type": "code",
      "source": [
        "# Separate categories\n",
        "import json\n",
        "review_1 = data[data['product'] == 'credit_card']\n",
        "review_2 = data[data['product'] == 'retail_banking']\n",
        "review_3 = data[data['product'] == 'credit_reporting']\n",
        "review_4 = data[data['product'] == 'mortgages_and_loans']\n",
        "review_5 = data[data['product'] == 'debt_collection']\n",
        "\n",
        "# Sample 2 examples for each category\n",
        "examples_1 = review_1.sample(2, random_state=40)\n",
        "examples_2 = review_2.sample(2, random_state=40)\n",
        "examples_3 = review_3.sample(2, random_state=40)\n",
        "examples_4 = review_4.sample(2, random_state=40)\n",
        "examples_5 = review_5.sample(2, random_state=40)\n",
        "\n",
        "# Concatenate examples for few shot prompting\n",
        "examples_df = pd.concat([examples_1,examples_2,examples_3,examples_4,examples_5 ])\n",
        "\n",
        "# Create the gold examples for evaluation set by excluding examples\n",
        "gold_examples_df = data.drop(index=examples_df.index)\n",
        "\n",
        "# Convert examples to JSON\n",
        "columns_to_select = ['narrative', 'product']\n",
        "examples_json = examples_df[columns_to_select].to_json(orient='records')\n",
        "\n",
        "# Print the first record from the JSON\n",
        "print(json.loads(examples_json)[0])\n",
        "\n",
        "# Print the shapes of the datasets\n",
        "print(\"Examples Set Shape:\", examples_df.shape)\n",
        "print(\"Gold Examples Shape:\", gold_examples_df.shape)"
      ],
      "metadata": {
        "id": "iO9Wj19_n_LO",
        "colab": {
          "base_uri": "https://localhost:8080/"
        },
        "outputId": "1a37e208-e7ef-4c6b-b0f6-96b55c2635bd"
      },
      "execution_count": null,
      "outputs": [
        {
          "output_type": "stream",
          "name": "stdout",
          "text": [
            "{'narrative': 'called request new york state covid relief plan day interest fee waived amex provided relief leading late payment amex refused honor relief day gap insists charging late fee', 'product': 'credit_card'}\n",
            "Examples Set Shape: (10, 3)\n",
            "Gold Examples Shape: (490, 3)\n"
          ]
        }
      ]
    },
    {
      "cell_type": "code",
      "source": [
        "system_message = \"Please classify the following customer complaint into the appropriate category.\""
      ],
      "metadata": {
        "id": "iPzpBeWmzSIH"
      },
      "execution_count": null,
      "outputs": []
    },
    {
      "cell_type": "code",
      "source": [
        "first_turn_template = \"User: {narrative}\\nAssistant: The complaint falls under the category of {product}.\"\n",
        "examples_template = \"User: {narrative}\\nAssistant: The complaint falls under the category of {product}.\"\n",
        "prediction_template = \"User: {narrative}\\nAssistant: The complaint falls under the category of {product}.\""
      ],
      "metadata": {
        "id": "2bPjQJs_zRoo"
      },
      "execution_count": null,
      "outputs": []
    },
    {
      "cell_type": "code",
      "source": [
        "def generate_few_shot_prompt(system_message, examples_df, n=3):\n",
        "\n",
        "    examples = []\n",
        "\n",
        "    for i in range(min(n, len(examples_df))):\n",
        "        example = examples_df.iloc[i]\n",
        "        examples.append(f\"User: {example['narrative']}\\nAssistant: The complaint falls under the category of {example['product']}.\")\n",
        "\n",
        "    prompt = system_message + \"\\n\\n\" + \"\\n\\n\".join(examples)\n",
        "    return prompt"
      ],
      "metadata": {
        "id": "535na4fgGGrL"
      },
      "execution_count": null,
      "outputs": []
    },
    {
      "cell_type": "code",
      "source": [
        "few_shot_prompt = generate_few_shot_prompt(system_message, examples_df)"
      ],
      "metadata": {
        "id": "-wBFVjB-63_f"
      },
      "execution_count": null,
      "outputs": []
    },
    {
      "cell_type": "code",
      "source": [
        "def create_few_shot_prompt(system_message, examples):\n",
        "\n",
        "    \"\"\"\n",
        "    Return a prompt message in the format expected by Mistral 7b.\n",
        "    10 examples are selected randomly as golden examples to form the\n",
        "    few-shot prompt.\n",
        "    We then loop through each example and parse the narrative as the user message\n",
        "    and the product as the assistant message.\n",
        "\n",
        "    Args:\n",
        "        system_message (str): system message with instructions for classification\n",
        "        examples(DataFrame): A DataFrame with examples (product + narrative + summary)\n",
        "        to form the few-shot prompt.\n",
        "\n",
        "    Output:\n",
        "        few_shot_prompt (str): A prompt string in the Mistral format\n",
        "    \"\"\"\n",
        "\n",
        "    few_shot_prompt = ''\n",
        "\n",
        "    # Specify the columns to select from the examples DataFrame\n",
        "    columns_to_select = [\"narrative\", \"product\"]\n",
        "\n",
        "    # Convert the selected columns to JSON format\n",
        "    examples_json = (\n",
        "        examples_df.loc[:, columns_to_select].to_json(orient='records')\n",
        "    )\n",
        "\n",
        "    for idx, example in enumerate(json.loads(examples_json)):\n",
        "        user_input_example = example[\"narrative\"]\n",
        "        assistant_output_example = example[\"product\"]\n",
        "\n",
        "        if idx == 0:\n",
        "            few_shot_prompt += mistral_first_turn_template.format(\n",
        "                system_message=system_message,\n",
        "                user_message=user_input_example,\n",
        "                assistant_message=assistant_output_example\n",
        "            )\n",
        "        else:\n",
        "            few_shot_prompt += mistral_examples_template.format(\n",
        "                user_message=user_input_example,\n",
        "                assistant_message=assistant_output_example\n",
        "            )\n",
        "\n",
        "    return few_shot_prompt"
      ],
      "metadata": {
        "id": "8_XZqQrR5JX9"
      },
      "execution_count": null,
      "outputs": []
    },
    {
      "cell_type": "code",
      "source": [
        "import pandas as pd\n",
        "import json\n",
        "\n",
        "# Convert the JSON string to a DataFrame\n",
        "examples_df = pd.DataFrame(json.loads(examples_json))\n",
        "\n",
        "# Now, you can use the DataFrame with your function\n",
        "few_shot_prompt = generate_few_shot_prompt(system_message, examples_df)"
      ],
      "metadata": {
        "id": "vIiXS_1aG27v"
      },
      "execution_count": null,
      "outputs": []
    },
    {
      "cell_type": "code",
      "source": [
        "#few_shot_prompt = generate_few_shot_prompt(examples_json, system_message)\n",
        "few_shot_prompt = generate_few_shot_prompt(system_message, examples_df)"
      ],
      "metadata": {
        "id": "azCgT4mm6dtC"
      },
      "execution_count": null,
      "outputs": []
    },
    {
      "cell_type": "code",
      "source": [
        "def generate_prompt(few_shot_prompt,new_review):\n",
        "    prompt =  few_shot_prompt + \"\\n\" + new_review\n",
        "    return prompt"
      ],
      "metadata": {
        "id": "EmTmY2oq3PRv"
      },
      "execution_count": null,
      "outputs": []
    },
    {
      "cell_type": "code",
      "source": [
        "def generate_mistral_response(input_text):\n",
        "\n",
        "    # Combine user_prompt and system_message to create the prompt\n",
        "    prompt = system_message + \"\\n\" + input_text\n",
        "\n",
        "    # Generate a response from the LLaMA model\n",
        "    response = lcpp_llm(\n",
        "    )\n",
        "\n",
        "    # Extract and return the response text\n",
        "    response_text = response[\"choices\"][0][\"text\"]  ### Fill in the blank\n",
        "    return response_text"
      ],
      "metadata": {
        "id": "GKrndCFRCJhK"
      },
      "execution_count": null,
      "outputs": []
    },
    {
      "cell_type": "code",
      "source": [
        "# Randomly select 50 rows\n",
        "new_data = gold_examples_df.sample(n=50, random_state=40)"
      ],
      "metadata": {
        "id": "FKYOjm7LDLJj"
      },
      "execution_count": null,
      "outputs": []
    },
    {
      "cell_type": "code",
      "source": [
        "from llama_cpp import Llama\n",
        "\n",
        "# Ensure model_path is correctly defined\n",
        "model_path = hf_hub_download(\n",
        "    repo_id=\"TheBloke/Mistral-7B-Instruct-v0.2-GGUF\",\n",
        "    filename=\"mistral-7b-instruct-v0.2.Q5_K_M.gguf\",\n",
        "    use_auth_token=os.getenv('HF_TOKEN')\n",
        ")\n",
        "\n",
        "# Initialize the Llama model with model_path\n",
        "llama = Llama(\n",
        "    model_path=model_path,\n",
        "    n_threads=4,\n",
        "    n_batch=512,\n",
        "    f16_kv=True,\n",
        "    use_mlock=True\n",
        ")\n",
        "\n",
        "# Define the function that uses the model\n",
        "def generate_mistral_response(input_text):\n",
        "     # Truncate input_text to ensure the total tokens fit within the context window of 512\n",
        "    max_input_length = 400  # Adjust this based on the length of other components in your prompt\n",
        "    truncated_input = input_text[:max_input_length]\n",
        "\n",
        "    prompt = f\"User: {truncated_input}\\nAssistant:\"\n",
        "    response = llama(prompt=prompt)\n",
        "    response_text = response[\"choices\"][0][\"text\"]\n",
        "    return response_text"
      ],
      "metadata": {
        "id": "mLCmTfDpJGUE",
        "colab": {
          "base_uri": "https://localhost:8080/"
        },
        "outputId": "b28f7b55-6b78-44f6-928d-724d1c0c5711"
      },
      "execution_count": null,
      "outputs": [
        {
          "output_type": "stream",
          "name": "stderr",
          "text": [
            "AVX = 1 | AVX_VNNI = 0 | AVX2 = 1 | AVX512 = 1 | AVX512_VBMI = 0 | AVX512_VNNI = 1 | FMA = 1 | NEON = 0 | ARM_FMA = 0 | F16C = 1 | FP16_VA = 0 | WASM_SIMD = 0 | BLAS = 0 | SSE3 = 1 | SSSE3 = 1 | VSX = 0 | \n"
          ]
        }
      ]
    },
    {
      "cell_type": "code",
      "source": [
        "new_data['mistral_response'] = new_data['narrative'].apply(lambda x: generate_mistral_response(x))"
      ],
      "metadata": {
        "id": "JdsjoaP4DXIk",
        "colab": {
          "base_uri": "https://localhost:8080/"
        },
        "outputId": "ca929b67-2f5a-4a16-aacf-65263f5727c1"
      },
      "execution_count": null,
      "outputs": [
        {
          "output_type": "stream",
          "name": "stderr",
          "text": [
            "Llama.generate: prefix-match hit\n",
            "Llama.generate: prefix-match hit\n",
            "Llama.generate: prefix-match hit\n",
            "Llama.generate: prefix-match hit\n",
            "Llama.generate: prefix-match hit\n",
            "Llama.generate: prefix-match hit\n",
            "Llama.generate: prefix-match hit\n",
            "Llama.generate: prefix-match hit\n",
            "Llama.generate: prefix-match hit\n",
            "Llama.generate: prefix-match hit\n",
            "Llama.generate: prefix-match hit\n",
            "Llama.generate: prefix-match hit\n",
            "Llama.generate: prefix-match hit\n",
            "Llama.generate: prefix-match hit\n",
            "Llama.generate: prefix-match hit\n",
            "Llama.generate: prefix-match hit\n",
            "Llama.generate: prefix-match hit\n",
            "Llama.generate: prefix-match hit\n",
            "Llama.generate: prefix-match hit\n",
            "Llama.generate: prefix-match hit\n",
            "Llama.generate: prefix-match hit\n",
            "Llama.generate: prefix-match hit\n",
            "Llama.generate: prefix-match hit\n",
            "Llama.generate: prefix-match hit\n",
            "Llama.generate: prefix-match hit\n",
            "Llama.generate: prefix-match hit\n",
            "Llama.generate: prefix-match hit\n",
            "Llama.generate: prefix-match hit\n",
            "Llama.generate: prefix-match hit\n",
            "Llama.generate: prefix-match hit\n",
            "Llama.generate: prefix-match hit\n",
            "Llama.generate: prefix-match hit\n",
            "Llama.generate: prefix-match hit\n",
            "Llama.generate: prefix-match hit\n",
            "Llama.generate: prefix-match hit\n",
            "Llama.generate: prefix-match hit\n",
            "Llama.generate: prefix-match hit\n",
            "Llama.generate: prefix-match hit\n",
            "Llama.generate: prefix-match hit\n",
            "Llama.generate: prefix-match hit\n",
            "Llama.generate: prefix-match hit\n",
            "Llama.generate: prefix-match hit\n",
            "Llama.generate: prefix-match hit\n",
            "Llama.generate: prefix-match hit\n",
            "Llama.generate: prefix-match hit\n",
            "Llama.generate: prefix-match hit\n",
            "Llama.generate: prefix-match hit\n",
            "Llama.generate: prefix-match hit\n",
            "Llama.generate: prefix-match hit\n"
          ]
        }
      ]
    },
    {
      "cell_type": "code",
      "source": [
        "new_data['mistral_response_cleaned'] = new_data['mistral_response'].apply(lambda x: extract_category(x))"
      ],
      "metadata": {
        "id": "rA9KYTgxDh2F"
      },
      "execution_count": null,
      "outputs": []
    },
    {
      "cell_type": "markdown",
      "source": [
        "###**Calculate F1 score**"
      ],
      "metadata": {
        "id": "plQNsfl0EDSG"
      }
    },
    {
      "cell_type": "code",
      "source": [
        "# Calculate F1 score for 'product' and 'mistral_response_cleaned'\n",
        "f3 =  f1_score(new_data['product'], new_data['mistral_response_cleaned'], average='macro')\n",
        "print(f'F1 Score: {f3}')"
      ],
      "metadata": {
        "id": "7WXEgmPKEIoi",
        "colab": {
          "base_uri": "https://localhost:8080/"
        },
        "outputId": "20438e7b-094e-4996-b9aa-fc47e02287de"
      },
      "execution_count": null,
      "outputs": [
        {
          "output_type": "stream",
          "name": "stdout",
          "text": [
            "F1 Score: 0.0\n"
          ]
        }
      ]
    },
    {
      "cell_type": "markdown",
      "source": [
        "##**Text to Text generation**"
      ],
      "metadata": {
        "id": "Vca9B37WGneH"
      }
    },
    {
      "cell_type": "code",
      "source": [
        "system_message = \"Please classify the following customer complaint into the appropriate product category.\""
      ],
      "metadata": {
        "id": "7PewmIuBII56"
      },
      "execution_count": null,
      "outputs": []
    },
    {
      "cell_type": "code",
      "source": [
        "zero_shot_prompt_template = \"{system_message}\\n\\nCustomer Complaint: {user_input}\\nProduct Category: \""
      ],
      "metadata": {
        "id": "czkz3BMpL2ek"
      },
      "execution_count": null,
      "outputs": []
    },
    {
      "cell_type": "code",
      "source": [
        "# Define function that combines user_prompt and system_message to create the prompt\n",
        "def generate_prompt(system_message,user_input):\n",
        "    prompt = f\"{system_message}\\n\\nCustomer Complaint: {user_input}\\nProduct Category: \"\n",
        "    return prompt"
      ],
      "metadata": {
        "id": "WlY1x6ACLtlL"
      },
      "execution_count": null,
      "outputs": []
    },
    {
      "cell_type": "code",
      "source": [
        "def generate_mistral_response(input_text):\n",
        "\n",
        "    # Combine user_prompt and system_message to create the prompt\n",
        "    prompt = generate_prompt(system_message, input_text)\n",
        "\n",
        "    # Generate a response from the LLaMA model\n",
        "    response = lcpp_llm(\n",
        "        prompt=prompt,\n",
        "        max_tokens=1200,\n",
        "        temperature=0.0,\n",
        "        top_p=0.95,\n",
        "        repeat_penalty=1.2,\n",
        "        top_k=50,\n",
        "        stop=[\"/s\"],\n",
        "        echo=False\n",
        "    )\n",
        "\n",
        "    # Extract and return the response text\n",
        "    response_text = response[\"choices\"][0][\"text\"]  ### Fill in the blank\n",
        "    return response_text"
      ],
      "metadata": {
        "id": "S-kqoM4YL1xU"
      },
      "execution_count": null,
      "outputs": []
    },
    {
      "cell_type": "markdown",
      "source": [
        "### **Generate mistral_response column containing LLM generated summaries**"
      ],
      "metadata": {
        "id": "CpiIHpThMtW6"
      }
    },
    {
      "cell_type": "code",
      "source": [
        "# Randomly select 50 rows\n",
        "gold_examples = data.sample(n=50, random_state=40)"
      ],
      "metadata": {
        "id": "Fqxl54MMMBTu"
      },
      "execution_count": null,
      "outputs": []
    },
    {
      "cell_type": "code",
      "source": [
        "gold_examples['mistral_response'] = gold_examples['narrative'].apply(generate_mistral_response)"
      ],
      "metadata": {
        "id": "1kWS3MmUMEgc",
        "colab": {
          "base_uri": "https://localhost:8080/"
        },
        "outputId": "100e5c58-67c3-448a-e848-25a22f82dc6a"
      },
      "execution_count": null,
      "outputs": [
        {
          "output_type": "stream",
          "name": "stderr",
          "text": [
            "Llama.generate: prefix-match hit\n",
            "Llama.generate: prefix-match hit\n",
            "Llama.generate: prefix-match hit\n",
            "Llama.generate: prefix-match hit\n",
            "Llama.generate: prefix-match hit\n",
            "Llama.generate: prefix-match hit\n",
            "Llama.generate: prefix-match hit\n",
            "Llama.generate: prefix-match hit\n",
            "Llama.generate: prefix-match hit\n",
            "Llama.generate: prefix-match hit\n",
            "Llama.generate: prefix-match hit\n",
            "Llama.generate: prefix-match hit\n",
            "Llama.generate: prefix-match hit\n",
            "Llama.generate: prefix-match hit\n",
            "Llama.generate: prefix-match hit\n",
            "Llama.generate: prefix-match hit\n",
            "Llama.generate: prefix-match hit\n",
            "Llama.generate: prefix-match hit\n",
            "Llama.generate: prefix-match hit\n",
            "Llama.generate: prefix-match hit\n",
            "Llama.generate: prefix-match hit\n",
            "Llama.generate: prefix-match hit\n",
            "Llama.generate: prefix-match hit\n",
            "Llama.generate: prefix-match hit\n",
            "Llama.generate: prefix-match hit\n",
            "Llama.generate: prefix-match hit\n",
            "Llama.generate: prefix-match hit\n",
            "Llama.generate: prefix-match hit\n",
            "Llama.generate: prefix-match hit\n",
            "Llama.generate: prefix-match hit\n",
            "Llama.generate: prefix-match hit\n",
            "Llama.generate: prefix-match hit\n",
            "Llama.generate: prefix-match hit\n",
            "Llama.generate: prefix-match hit\n",
            "Llama.generate: prefix-match hit\n",
            "Llama.generate: prefix-match hit\n",
            "Llama.generate: prefix-match hit\n",
            "Llama.generate: prefix-match hit\n",
            "Llama.generate: prefix-match hit\n",
            "Llama.generate: prefix-match hit\n",
            "Llama.generate: prefix-match hit\n",
            "Llama.generate: prefix-match hit\n",
            "Llama.generate: prefix-match hit\n",
            "Llama.generate: prefix-match hit\n",
            "Llama.generate: prefix-match hit\n",
            "Llama.generate: prefix-match hit\n",
            "Llama.generate: prefix-match hit\n",
            "Llama.generate: prefix-match hit\n",
            "Llama.generate: prefix-match hit\n",
            "Llama.generate: prefix-match hit\n"
          ]
        }
      ]
    },
    {
      "cell_type": "markdown",
      "source": [
        "### **Evaluate bert score**"
      ],
      "metadata": {
        "id": "dl-5fRKbND2n"
      }
    },
    {
      "cell_type": "code",
      "source": [
        "def evaluate_score(result, scorer, bert_score=False):\n",
        "\n",
        "    \"\"\"\n",
        "    Return the ROUGE score or BERTScore for predictions on gold examples\n",
        "    For each example we make a prediction using the prompt.\n",
        "    Gold summaries and the AI generated summaries are aggregated into lists.\n",
        "    These lists are used by the corresponding scorers to compute metrics.\n",
        "    Since BERTScore is computed for each candidate-reference pair, we take the\n",
        "    average F1 score across the gold examples.\n",
        "\n",
        "    Args:\n",
        "        prompt (List): list of messages in the Open AI prompt format\n",
        "        gold_examples (str): JSON string with list of gold examples\n",
        "        scorer (function): Scorer function used to compute the ROUGE score or the\n",
        "                           BERTScore\n",
        "        bert_score (boolean): A flag variable that indicates if BERTScore should\n",
        "                              be used as the metric.\n",
        "\n",
        "    Output:\n",
        "        score (float): BERTScore or ROUGE score computed by comparing model predictions\n",
        "                       with ground truth\n",
        "    \"\"\"\n",
        "\n",
        "    model_predictions = result['mistral_response'].tolist()\n",
        "    ground_truths = result['summary'].tolist()\n",
        "\n",
        "    if bert_score:\n",
        "        score = scorer.compute(\n",
        "            predictions=model_predictions,\n",
        "            references=ground_truths,\n",
        "            lang=\"en\",\n",
        "            rescale_with_baseline=True\n",
        "        )\n",
        "        return sum(score['f1']) / len(score['f1'])\n",
        "    else:\n",
        "        return scorer.compute(\n",
        "            predictions=model_predictions,\n",
        "            references=ground_truths\n",
        "        )"
      ],
      "metadata": {
        "id": "H6SqvLIeMVN-"
      },
      "execution_count": null,
      "outputs": []
    },
    {
      "cell_type": "code",
      "source": [
        "bert_scorer = evaluate.load(\"bertscore\")"
      ],
      "metadata": {
        "id": "4T4k6rA_MlS-",
        "colab": {
          "base_uri": "https://localhost:8080/",
          "height": 49,
          "referenced_widgets": [
            "34fec57ae5fc4d899d3e1926bc34ae1b",
            "c8ab266d67b34841acd945590d4417b0",
            "bb608d2bdfe04ae090866371fabf96bf",
            "3c21ca7d82634f4689a058452aaee5c3",
            "82f0a0671ded4b898058f13d64ea211d",
            "b73115fa4b5c4ea08d72dd8c96dc38f3",
            "c99e8a438e28415184f22ab3722a6056",
            "439403e010f7427c818fa7096e1b0497",
            "11465b3d87ea41d097a7a5453c17f806",
            "ee614128cfc2472b89a3abaa0bd230f4",
            "3613bbf45a824b97b3ab5c0172c6459b"
          ]
        },
        "outputId": "38e387f7-af49-4e47-f284-62b00280aef8"
      },
      "execution_count": null,
      "outputs": [
        {
          "output_type": "display_data",
          "data": {
            "text/plain": [
              "Downloading builder script:   0%|          | 0.00/7.95k [00:00<?, ?B/s]"
            ],
            "application/vnd.jupyter.widget-view+json": {
              "version_major": 2,
              "version_minor": 0,
              "model_id": "34fec57ae5fc4d899d3e1926bc34ae1b"
            }
          },
          "metadata": {}
        }
      ]
    },
    {
      "cell_type": "code",
      "source": [
        "score = evaluate_score(gold_examples, bert_scorer, bert_score=True)\n",
        "print(f'BERTScore: {score}')"
      ],
      "metadata": {
        "id": "ikncTGPBNPRb",
        "colab": {
          "base_uri": "https://localhost:8080/",
          "height": 281,
          "referenced_widgets": [
            "b261ad9bea264f729766013ac812c072",
            "2825f443f33c4243bf3c2e0eca11db99",
            "aabfc907e76d48ac95b5350ab2ac391d",
            "13fb4f6e6f6649f78a2add71dc9e9f23",
            "109a7c83be5c415fa4b0d569750cec9e",
            "745b3d94f0f84119b44adc5d108f282f",
            "04887cad5c4e4190b2be469a01507df5",
            "bee684ec6ab3429783215bb0c84733f7",
            "1857a2050c344ea9ad82f21b35fca6f8",
            "76efc986f0f242d5aa2bdce9c5c2a12b",
            "74f085a408de44c1875981d68167428b",
            "521be7a40a154143b0e96c50750ae12a",
            "f66ce4f871c54d4db3d56618f83e7d6b",
            "fe97753c13df4947a9652396409324ae",
            "4d9dcecde0a645a3895a55151eac7a06",
            "ce65e26646b045718a5f75634a0b1303",
            "678c176a233249f797ded578a68ffe4f",
            "6b659028f330490d872dbd3b017c8e48",
            "3b0820a8179d4a5eb0a3e98b504afb7e",
            "6bfb064cf8ed40fc9e4d5f2208630636",
            "8174ad412cd34b5d9dccf1def9a37441",
            "a9b975e3a8934e70b89897353307fa2a",
            "f294a93576604c58b6ab81bf254ff473",
            "edd4df1a5a2f433c97f788f353f9d276",
            "0936f081a346496183326acfb3917893",
            "258338d22a9f42278d0618484a5d1d9d",
            "999c52d0cf7a4972baa1d433c95fadf2",
            "4e1badc6c9664944b88d3a55b577261a",
            "8dc758126ab3419292c98d650311b6bd",
            "134bfebbad214669a183230e511e4384",
            "63dd8071d5274999903e90138ca05b3e",
            "a4cab58b17cd46b9a68a732943e2d08b",
            "906d08a89e6e435daa030c5c97f472a5",
            "804a7bbe221b45b8a7abb0c4b18266c3",
            "118467f8b59443beabcd4fc1c0117bf7",
            "dd56d52e5db24021b29c6a5602e0c3fd",
            "8bd9c641e0e948c098a9e6e513f1d8bd",
            "7dbf58e933d04d31ad586fd6bf50455b",
            "e82c3d7a774e4e1eae4f4af400c903d3",
            "7266f87cd039462cbedec4bb85376152",
            "3fa2a8e1984e433dbe8e89ab5a9a62dc",
            "ad657eddc033473b8a698a8a4a6c6a2b",
            "71a3f579c6aa4e84aec4beefdbaf8850",
            "88f0bb41740145a486924b846fc8debd",
            "6e845241a9ce4cb6a48add8a875c4f85",
            "07f3f24513cf4c9c99e5ad248747007d",
            "a117b2571ec6477280c74d51ce1a954f",
            "bbd6bb5f435848bca63778368b1ea02f",
            "b86ff7e88bdb460dae9f6d648c464513",
            "30d9296cd13041b19643385b965473e2",
            "fbbeb15a8689419382e28d313658711f",
            "5dab7627d2964938b8e93ff477c25756",
            "0ab830fb8e3641bcac78cba26001e64a",
            "d3941d18713c454bbebeaf4080db59fc",
            "561e03a1430c403a8a11dadfcf3eb859",
            "441438a3db4e4413a49311cf8c32a11d",
            "88ba02a1fd5140e3a42e26f3594de498",
            "700d5e5b9aaa4c48aed68d1b6168b79e",
            "db45b18c34d2442a9cf12fc831b3506d",
            "72ff187135134c80bb1d0b9ed3a8eb14",
            "b2581946f8534413927caed68c4c1c65",
            "572f31517f1f4589865ded2865de12a8",
            "0cf08b19af6e4397bba5b84c6099c014",
            "608c0081871140afa09de2ba767e34ca",
            "9f5e17ca58424cf49547c318c8b4e118",
            "1852aa55d622416fbfb9a81e4621c1aa"
          ]
        },
        "outputId": "99a26aa8-e03f-4847-e1e1-b1bdf0c1ec5c"
      },
      "execution_count": null,
      "outputs": [
        {
          "output_type": "display_data",
          "data": {
            "text/plain": [
              "tokenizer_config.json:   0%|          | 0.00/25.0 [00:00<?, ?B/s]"
            ],
            "application/vnd.jupyter.widget-view+json": {
              "version_major": 2,
              "version_minor": 0,
              "model_id": "b261ad9bea264f729766013ac812c072"
            }
          },
          "metadata": {}
        },
        {
          "output_type": "display_data",
          "data": {
            "text/plain": [
              "config.json:   0%|          | 0.00/482 [00:00<?, ?B/s]"
            ],
            "application/vnd.jupyter.widget-view+json": {
              "version_major": 2,
              "version_minor": 0,
              "model_id": "521be7a40a154143b0e96c50750ae12a"
            }
          },
          "metadata": {}
        },
        {
          "output_type": "display_data",
          "data": {
            "text/plain": [
              "vocab.json:   0%|          | 0.00/899k [00:00<?, ?B/s]"
            ],
            "application/vnd.jupyter.widget-view+json": {
              "version_major": 2,
              "version_minor": 0,
              "model_id": "f294a93576604c58b6ab81bf254ff473"
            }
          },
          "metadata": {}
        },
        {
          "output_type": "display_data",
          "data": {
            "text/plain": [
              "merges.txt:   0%|          | 0.00/456k [00:00<?, ?B/s]"
            ],
            "application/vnd.jupyter.widget-view+json": {
              "version_major": 2,
              "version_minor": 0,
              "model_id": "804a7bbe221b45b8a7abb0c4b18266c3"
            }
          },
          "metadata": {}
        },
        {
          "output_type": "display_data",
          "data": {
            "text/plain": [
              "tokenizer.json:   0%|          | 0.00/1.36M [00:00<?, ?B/s]"
            ],
            "application/vnd.jupyter.widget-view+json": {
              "version_major": 2,
              "version_minor": 0,
              "model_id": "6e845241a9ce4cb6a48add8a875c4f85"
            }
          },
          "metadata": {}
        },
        {
          "output_type": "display_data",
          "data": {
            "text/plain": [
              "model.safetensors:   0%|          | 0.00/1.42G [00:00<?, ?B/s]"
            ],
            "application/vnd.jupyter.widget-view+json": {
              "version_major": 2,
              "version_minor": 0,
              "model_id": "441438a3db4e4413a49311cf8c32a11d"
            }
          },
          "metadata": {}
        },
        {
          "output_type": "stream",
          "name": "stderr",
          "text": [
            "Some weights of RobertaModel were not initialized from the model checkpoint at roberta-large and are newly initialized: ['roberta.pooler.dense.bias', 'roberta.pooler.dense.weight']\n",
            "You should probably TRAIN this model on a down-stream task to be able to use it for predictions and inference.\n"
          ]
        },
        {
          "output_type": "stream",
          "name": "stdout",
          "text": [
            "BERTScore: 0.04154061934445053\n"
          ]
        }
      ]
    },
    {
      "cell_type": "markdown",
      "source": [
        "### **Observations**\n",
        "\n",
        "The BERTScore achieved is 0.0415, which is relatively low. This indicates that the generated responses may not align well with the gold standard. The low score suggests that the model might need further fine-tuning or that the generated responses are significantly different in meaning or structure from the reference responses."
      ],
      "metadata": {
        "id": "-p6_jPcVNWz7"
      }
    }
  ]
}